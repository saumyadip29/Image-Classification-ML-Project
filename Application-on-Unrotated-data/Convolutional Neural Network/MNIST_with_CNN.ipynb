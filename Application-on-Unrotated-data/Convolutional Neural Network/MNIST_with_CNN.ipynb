{
  "nbformat": 4,
  "nbformat_minor": 0,
  "metadata": {
    "accelerator": "GPU",
    "colab": {
      "name": "MNIST_with_CNN.ipynb",
      "provenance": []
    },
    "kernelspec": {
      "display_name": "Python 3",
      "name": "python3"
    },
    "language_info": {
      "name": "python"
    }
  },
  "cells": [
    {
      "cell_type": "code",
      "metadata": {
        "colab": {
          "base_uri": "https://localhost:8080/"
        },
        "id": "7cP9VXaoOcZV",
        "outputId": "e2f69c75-f010-4aa6-c6a3-38b247801475"
      },
      "source": [
        "from google.colab import drive\n",
        "drive.mount('/content/drive')"
      ],
      "execution_count": null,
      "outputs": [
        {
          "output_type": "stream",
          "text": [
            "Mounted at /content/drive\n"
          ],
          "name": "stdout"
        }
      ]
    },
    {
      "cell_type": "markdown",
      "metadata": {
        "id": "pk8xVR3ggQ87"
      },
      "source": [
        "#Importing Libraries"
      ]
    },
    {
      "cell_type": "code",
      "metadata": {
        "id": "LDfZtFbiOpte"
      },
      "source": [
        "#general utility libraries\n",
        "import pandas as pd\n",
        "import numpy as np\n",
        "\n",
        "\n",
        "#for reading MATLAB file\n",
        "from scipy.io import loadmat\n",
        "\n",
        "#for visualization\n",
        "import matplotlib.pyplot as plt\n",
        "\n",
        "#keras\n",
        "import tensorflow as tf\n",
        "from tensorflow import keras\n",
        "from tensorflow.keras.models import Sequential\n",
        "from keras.layers import Dense, Dropout, Conv2D, MaxPool2D, Flatten\n",
        "from keras.utils import np_utils"
      ],
      "execution_count": null,
      "outputs": []
    },
    {
      "cell_type": "markdown",
      "metadata": {
        "id": "Bg2bicPYjDNI"
      },
      "source": [
        "#Importing Dataset"
      ]
    },
    {
      "cell_type": "code",
      "metadata": {
        "id": "vpbVgpt-PVH9"
      },
      "source": [
        "X_train = loadmat('/content/drive/MyDrive/MNIST data/mnist_training_data.mat')['training_data']\n",
        "Y_train = loadmat('/content/drive/MyDrive/MNIST data/mnist_training_label.mat')['training_label']\n",
        "\n",
        "\n",
        "X_test = loadmat('/content/drive/MyDrive/MNIST data/mnist_test_data.mat')['test_data']\n",
        "Y_test = loadmat('/content/drive/MyDrive/MNIST data/mnist_test_label.mat')['test_label']"
      ],
      "execution_count": null,
      "outputs": []
    },
    {
      "cell_type": "markdown",
      "metadata": {
        "id": "5xEDxBwmjWtZ"
      },
      "source": [
        "#GPU Configuration"
      ]
    },
    {
      "cell_type": "code",
      "metadata": {
        "colab": {
          "base_uri": "https://localhost:8080/"
        },
        "id": "N0pQvTW9QThb",
        "outputId": "8885bc5e-c04c-401d-88d6-6e9d927fd393"
      },
      "source": [
        "physical_devices = tf.config.experimental.list_physical_devices('GPU')\n",
        "print(f\"No. of GPUs available: {len(physical_devices)}\")\n",
        "if physical_devices:\n",
        "    tf.config.experimental.set_memory_growth(physical_devices[0], True)"
      ],
      "execution_count": null,
      "outputs": [
        {
          "output_type": "stream",
          "text": [
            "No. of GPUs available: 1\n"
          ],
          "name": "stdout"
        }
      ]
    },
    {
      "cell_type": "markdown",
      "metadata": {
        "id": "TAlKo7dzji3i"
      },
      "source": [
        "#Inspecting the Dataset before Pre-processing"
      ]
    },
    {
      "cell_type": "code",
      "metadata": {
        "colab": {
          "base_uri": "https://localhost:8080/"
        },
        "id": "x1vc375XQy4C",
        "outputId": "6b107437-14ac-4d34-eff8-b68d1cf644ae"
      },
      "source": [
        "#Shape of training data\n",
        "X_train.shape"
      ],
      "execution_count": null,
      "outputs": [
        {
          "output_type": "execute_result",
          "data": {
            "text/plain": [
              "(50000, 784)"
            ]
          },
          "metadata": {
            "tags": []
          },
          "execution_count": 5
        }
      ]
    },
    {
      "cell_type": "code",
      "metadata": {
        "colab": {
          "base_uri": "https://localhost:8080/"
        },
        "id": "VBMUX434Q8yS",
        "outputId": "248f516e-2ad0-4297-a349-8f6cf140bcac"
      },
      "source": [
        "#Shape of test data\n",
        "X_test.shape"
      ],
      "execution_count": null,
      "outputs": [
        {
          "output_type": "execute_result",
          "data": {
            "text/plain": [
              "(10000, 784)"
            ]
          },
          "metadata": {
            "tags": []
          },
          "execution_count": 6
        }
      ]
    },
    {
      "cell_type": "code",
      "metadata": {
        "id": "N-BQacu8SXLk"
      },
      "source": [
        "#Preparing dataset for visualization\n",
        "index = np.random.permutation(len(X_train))"
      ],
      "execution_count": null,
      "outputs": []
    },
    {
      "cell_type": "code",
      "metadata": {
        "colab": {
          "base_uri": "https://localhost:8080/",
          "height": 269
        },
        "id": "qRf4uSgKUMKj",
        "outputId": "0a1a4769-0c97-4028-ed19-a5a0e88efbdf"
      },
      "source": [
        "#Primary visualization of dataset\n",
        "j = 1\n",
        "for i in index[:30]:\n",
        "  plt.subplot(5,6,j)\n",
        "  j+=1\n",
        "  plt.imshow(X_train[i].reshape(28,28))"
      ],
      "execution_count": null,
      "outputs": [
        {
          "output_type": "display_data",
          "data": {
            "image/png": "[encoded data removed]",
            "text/plain": [
              "<Figure size 432x288 with 30 Axes>"
            ]
          },
          "metadata": {
            "tags": [],
            "needs_background": "light"
          }
        }
      ]
    },
    {
      "cell_type": "markdown",
      "metadata": {
        "id": "5hDfm65dj4mQ"
      },
      "source": [
        "#Preprocessing the Data "
      ]
    },
    {
      "cell_type": "code",
      "metadata": {
        "id": "e8rBYi-0nLYd"
      },
      "source": [
        "#Reshaping the input vector into 28x28 pixels \n",
        "X_train = X_train.reshape(X_train.shape[0], 28, 28, 1)\n",
        "X_test = X_test.reshape(X_test.shape[0], 28, 28, 1)"
      ],
      "execution_count": null,
      "outputs": []
    },
    {
      "cell_type": "code",
      "metadata": {
        "id": "8bOXN5-MKHl7"
      },
      "source": [
        "image_height = X_train.shape[1]  \n",
        "image_width = X_train.shape[2]\n",
        "num_channels = 1  # AS we have grayscale images\n",
        "# Here image_height = image_width = 28"
      ],
      "execution_count": null,
      "outputs": []
    },
    {
      "cell_type": "code",
      "metadata": {
        "colab": {
          "base_uri": "https://localhost:8080/"
        },
        "id": "7c9a6PESnLK_",
        "outputId": "b8114586-098f-44b0-e6dc-b26c4c01703e"
      },
      "source": [
        "# One-hot encoding using keras' numpy-related utilities\n",
        "num_classes = 10\n",
        "print(\"Shape before one-hot encoding: \", Y_train.shape)\n",
        "Y_train = np_utils.to_categorical(Y_train, num_classes)\n",
        "Y_test = np_utils.to_categorical(Y_test, num_classes)\n",
        "print(\"Shape after one-hot encoding: \", Y_train.shape)"
      ],
      "execution_count": null,
      "outputs": [
        {
          "output_type": "stream",
          "text": [
            "Shape before one-hot encoding:  (50000, 1)\n",
            "Shape after one-hot encoding:  (50000, 10)\n"
          ],
          "name": "stdout"
        }
      ]
    },
    {
      "cell_type": "code",
      "metadata": {
        "id": "9eoZcO-eezLk"
      },
      "source": [
        "# Shuffling the training dataset (5 times)\n",
        "for _ in range(5): \n",
        "    idx = np.random.permutation(len(X_train))\n",
        "\n",
        "X_train = X_train[idx]\n",
        "Y_train = Y_train[idx]\n",
        "\n",
        "# Setting aside 20% of the train_data/labels as the validation sets\n",
        "val_perc = 0.20\n",
        "val_count = int(val_perc * len(X_train))\n",
        "\n",
        "# First pick validation set from train_data/labels\n",
        "X_val = X_train[:val_count,:]\n",
        "Y_val = Y_train[:val_count,:]\n",
        "\n",
        "# leaving rest in training set\n",
        "X1_train = X_train[val_count:,:]\n",
        "Y1_train = Y_train[val_count:,:]\n",
        "\n",
        "# Now We will train on new train data/train labels and validate on val data/val labels\n"
      ],
      "execution_count": null,
      "outputs": []
    },
    {
      "cell_type": "markdown",
      "metadata": {
        "id": "fIx8TN-ikVLT"
      },
      "source": [
        "#Building CNN Model"
      ]
    },
    {
      "cell_type": "code",
      "metadata": {
        "colab": {
          "base_uri": "https://localhost:8080/"
        },
        "id": "M3en3kGzg_W8",
        "outputId": "500f34e5-f3d9-4397-842e-801d8fbe472a"
      },
      "source": [
        "def build_model():\n",
        "    model = Sequential()\n",
        "    # adding Convolutional layers\n",
        "    model.add(Conv2D(filters=32, kernel_size=(3,3), activation='relu', padding='same',\n",
        "                     input_shape=(image_height, image_width, num_channels)))\n",
        "    model.add(MaxPool2D(pool_size=(2,2)))\n",
        "    model.add(Conv2D(filters=64, kernel_size=(3,3), activation='relu', padding='same'))\n",
        "    model.add(MaxPool2D(pool_size=(2,2)))\n",
        "    model.add(Conv2D(filters=64, kernel_size=(3,3), activation='relu', padding='same'))\n",
        "    model.add(MaxPool2D(pool_size=(2,2)))    \n",
        "    model.add(Flatten())\n",
        "    # Densely connected layers\n",
        "    model.add(Dense(128, activation='relu'))\n",
        "    # output layer\n",
        "    model.add(Dense(num_classes, activation='softmax'))\n",
        "    # compiling the sequential model\n",
        "    model.compile(optimizer='adam', loss='categorical_crossentropy', metrics=['accuracy'])\n",
        "    return model\n",
        "\n",
        "model = build_model()\n",
        "print(model.summary())"
      ],
      "execution_count": null,
      "outputs": [
        {
          "output_type": "stream",
          "text": [
            "Model: \"sequential\"\n",
            "_________________________________________________________________\n",
            "Layer (type)                 Output Shape              Param #   \n",
            "=================================================================\n",
            "conv2d (Conv2D)              (None, 28, 28, 32)        320       \n",
            "_________________________________________________________________\n",
            "max_pooling2d (MaxPooling2D) (None, 14, 14, 32)        0         \n",
            "_________________________________________________________________\n",
            "conv2d_1 (Conv2D)            (None, 14, 14, 64)        18496     \n",
            "_________________________________________________________________\n",
            "max_pooling2d_1 (MaxPooling2 (None, 7, 7, 64)          0         \n",
            "_________________________________________________________________\n",
            "conv2d_2 (Conv2D)            (None, 7, 7, 64)          36928     \n",
            "_________________________________________________________________\n",
            "max_pooling2d_2 (MaxPooling2 (None, 3, 3, 64)          0         \n",
            "_________________________________________________________________\n",
            "flatten (Flatten)            (None, 576)               0         \n",
            "_________________________________________________________________\n",
            "dense (Dense)                (None, 128)               73856     \n",
            "_________________________________________________________________\n",
            "dense_1 (Dense)              (None, 10)                1290      \n",
            "=================================================================\n",
            "Total params: 130,890\n",
            "Trainable params: 130,890\n",
            "Non-trainable params: 0\n",
            "_________________________________________________________________\n",
            "None\n"
          ],
          "name": "stdout"
        }
      ]
    },
    {
      "cell_type": "markdown",
      "metadata": {
        "id": "IoQgUuqCkerh"
      },
      "source": [
        "#Training Model"
      ]
    },
    {
      "cell_type": "code",
      "metadata": {
        "colab": {
          "base_uri": "https://localhost:8080/"
        },
        "id": "nMe1z3kvLCT-",
        "outputId": "3fa80de0-913e-41a4-f190-ff9c5579a155"
      },
      "source": [
        "no_epochs = 100\n",
        "results = model.fit(X1_train,Y1_train,epochs= no_epochs,batch_size = 64, validation_data= (X_val,Y_val))"
      ],
      "execution_count": null,
      "outputs": [
        {
          "output_type": "stream",
          "text": [
            "Epoch 1/100\n",
            "625/625 [==============================] - 3s 4ms/step - loss: 0.0156 - accuracy: 0.9945 - val_loss: 0.0775 - val_accuracy: 0.9817\n",
            "Epoch 2/100\n",
            "625/625 [==============================] - 3s 4ms/step - loss: 0.0135 - accuracy: 0.9954 - val_loss: 0.0767 - val_accuracy: 0.9840\n",
            "Epoch 3/100\n",
            "625/625 [==============================] - 3s 5ms/step - loss: 0.0120 - accuracy: 0.9958 - val_loss: 0.0906 - val_accuracy: 0.9818\n",
            "Epoch 4/100\n",
            "625/625 [==============================] - 3s 5ms/step - loss: 0.0122 - accuracy: 0.9954 - val_loss: 0.0792 - val_accuracy: 0.9814\n",
            "Epoch 5/100\n",
            "625/625 [==============================] - 3s 4ms/step - loss: 0.0103 - accuracy: 0.9964 - val_loss: 0.0890 - val_accuracy: 0.9824\n",
            "Epoch 6/100\n",
            "625/625 [==============================] - 3s 5ms/step - loss: 0.0101 - accuracy: 0.9962 - val_loss: 0.0865 - val_accuracy: 0.9803\n",
            "Epoch 7/100\n",
            "625/625 [==============================] - 3s 4ms/step - loss: 0.0094 - accuracy: 0.9969 - val_loss: 0.0902 - val_accuracy: 0.9822\n",
            "Epoch 8/100\n",
            "625/625 [==============================] - 3s 5ms/step - loss: 0.0105 - accuracy: 0.9962 - val_loss: 0.0872 - val_accuracy: 0.9813\n",
            "Epoch 9/100\n",
            "625/625 [==============================] - 3s 4ms/step - loss: 0.0086 - accuracy: 0.9971 - val_loss: 0.1005 - val_accuracy: 0.9806\n",
            "Epoch 10/100\n",
            "625/625 [==============================] - 3s 4ms/step - loss: 0.0097 - accuracy: 0.9963 - val_loss: 0.0954 - val_accuracy: 0.9826\n",
            "Epoch 11/100\n",
            "625/625 [==============================] - 3s 5ms/step - loss: 0.0079 - accuracy: 0.9973 - val_loss: 0.1029 - val_accuracy: 0.9797\n",
            "Epoch 12/100\n",
            "625/625 [==============================] - 3s 5ms/step - loss: 0.0089 - accuracy: 0.9967 - val_loss: 0.0992 - val_accuracy: 0.9813\n",
            "Epoch 13/100\n",
            "625/625 [==============================] - 3s 4ms/step - loss: 0.0083 - accuracy: 0.9971 - val_loss: 0.0905 - val_accuracy: 0.9822\n",
            "Epoch 14/100\n",
            "625/625 [==============================] - 3s 5ms/step - loss: 0.0062 - accuracy: 0.9981 - val_loss: 0.0900 - val_accuracy: 0.9841\n",
            "Epoch 15/100\n",
            "625/625 [==============================] - 3s 4ms/step - loss: 0.0066 - accuracy: 0.9977 - val_loss: 0.1062 - val_accuracy: 0.9820\n",
            "Epoch 16/100\n",
            "625/625 [==============================] - 3s 5ms/step - loss: 0.0078 - accuracy: 0.9973 - val_loss: 0.1031 - val_accuracy: 0.9823\n",
            "Epoch 17/100\n",
            "625/625 [==============================] - 3s 5ms/step - loss: 0.0067 - accuracy: 0.9979 - val_loss: 0.1034 - val_accuracy: 0.9785\n",
            "Epoch 18/100\n",
            "625/625 [==============================] - 3s 4ms/step - loss: 0.0050 - accuracy: 0.9984 - val_loss: 0.0882 - val_accuracy: 0.9843\n",
            "Epoch 19/100\n",
            "625/625 [==============================] - 3s 5ms/step - loss: 0.0063 - accuracy: 0.9978 - val_loss: 0.1072 - val_accuracy: 0.9827\n",
            "Epoch 20/100\n",
            "625/625 [==============================] - 3s 5ms/step - loss: 0.0088 - accuracy: 0.9969 - val_loss: 0.0984 - val_accuracy: 0.9850\n",
            "Epoch 21/100\n",
            "625/625 [==============================] - 3s 5ms/step - loss: 0.0046 - accuracy: 0.9981 - val_loss: 0.0902 - val_accuracy: 0.9850\n",
            "Epoch 22/100\n",
            "625/625 [==============================] - 3s 5ms/step - loss: 0.0022 - accuracy: 0.9993 - val_loss: 0.1016 - val_accuracy: 0.9833\n",
            "Epoch 23/100\n",
            "625/625 [==============================] - 3s 4ms/step - loss: 0.0084 - accuracy: 0.9971 - val_loss: 0.1167 - val_accuracy: 0.9798\n",
            "Epoch 24/100\n",
            "625/625 [==============================] - 3s 4ms/step - loss: 0.0044 - accuracy: 0.9984 - val_loss: 0.1031 - val_accuracy: 0.9843\n",
            "Epoch 25/100\n",
            "625/625 [==============================] - 3s 4ms/step - loss: 0.0074 - accuracy: 0.9973 - val_loss: 0.0990 - val_accuracy: 0.9838\n",
            "Epoch 26/100\n",
            "625/625 [==============================] - 3s 5ms/step - loss: 0.0054 - accuracy: 0.9980 - val_loss: 0.1163 - val_accuracy: 0.9831\n",
            "Epoch 27/100\n",
            "625/625 [==============================] - 3s 5ms/step - loss: 0.0082 - accuracy: 0.9974 - val_loss: 0.0904 - val_accuracy: 0.9847\n",
            "Epoch 28/100\n",
            "625/625 [==============================] - 3s 4ms/step - loss: 0.0022 - accuracy: 0.9994 - val_loss: 0.1100 - val_accuracy: 0.9835\n",
            "Epoch 29/100\n",
            "625/625 [==============================] - 3s 4ms/step - loss: 0.0056 - accuracy: 0.9981 - val_loss: 0.1026 - val_accuracy: 0.9843\n",
            "Epoch 30/100\n",
            "625/625 [==============================] - 3s 5ms/step - loss: 0.0060 - accuracy: 0.9978 - val_loss: 0.1052 - val_accuracy: 0.9845\n",
            "Epoch 31/100\n",
            "625/625 [==============================] - 3s 4ms/step - loss: 0.0049 - accuracy: 0.9983 - val_loss: 0.1000 - val_accuracy: 0.9848\n",
            "Epoch 32/100\n",
            "625/625 [==============================] - 3s 4ms/step - loss: 0.0022 - accuracy: 0.9993 - val_loss: 0.1015 - val_accuracy: 0.9855\n",
            "Epoch 33/100\n",
            "625/625 [==============================] - 3s 5ms/step - loss: 0.0031 - accuracy: 0.9990 - val_loss: 0.1130 - val_accuracy: 0.9847\n",
            "Epoch 34/100\n",
            "625/625 [==============================] - 3s 5ms/step - loss: 0.0078 - accuracy: 0.9973 - val_loss: 0.1110 - val_accuracy: 0.9843\n",
            "Epoch 35/100\n",
            "625/625 [==============================] - 3s 4ms/step - loss: 0.0045 - accuracy: 0.9985 - val_loss: 0.1024 - val_accuracy: 0.9841\n",
            "Epoch 36/100\n",
            "625/625 [==============================] - 3s 5ms/step - loss: 0.0066 - accuracy: 0.9979 - val_loss: 0.1227 - val_accuracy: 0.9833\n",
            "Epoch 37/100\n",
            "625/625 [==============================] - 3s 4ms/step - loss: 0.0037 - accuracy: 0.9987 - val_loss: 0.1205 - val_accuracy: 0.9814\n",
            "Epoch 38/100\n",
            "625/625 [==============================] - 3s 5ms/step - loss: 0.0046 - accuracy: 0.9983 - val_loss: 0.1202 - val_accuracy: 0.9846\n",
            "Epoch 39/100\n",
            "625/625 [==============================] - 3s 5ms/step - loss: 0.0014 - accuracy: 0.9995 - val_loss: 0.1120 - val_accuracy: 0.9845\n",
            "Epoch 40/100\n",
            "625/625 [==============================] - 3s 4ms/step - loss: 0.0069 - accuracy: 0.9975 - val_loss: 0.1083 - val_accuracy: 0.9839\n",
            "Epoch 41/100\n",
            "625/625 [==============================] - 3s 4ms/step - loss: 0.0031 - accuracy: 0.9990 - val_loss: 0.1293 - val_accuracy: 0.9842\n",
            "Epoch 42/100\n",
            "625/625 [==============================] - 3s 5ms/step - loss: 0.0067 - accuracy: 0.9975 - val_loss: 0.1038 - val_accuracy: 0.9833\n",
            "Epoch 43/100\n",
            "625/625 [==============================] - 3s 5ms/step - loss: 0.0020 - accuracy: 0.9994 - val_loss: 0.0997 - val_accuracy: 0.9861\n",
            "Epoch 44/100\n",
            "625/625 [==============================] - 3s 5ms/step - loss: 0.0024 - accuracy: 0.9995 - val_loss: 0.1090 - val_accuracy: 0.9856\n",
            "Epoch 45/100\n",
            "625/625 [==============================] - 3s 4ms/step - loss: 0.0060 - accuracy: 0.9980 - val_loss: 0.1119 - val_accuracy: 0.9839\n",
            "Epoch 46/100\n",
            "625/625 [==============================] - 3s 4ms/step - loss: 0.0037 - accuracy: 0.9989 - val_loss: 0.1060 - val_accuracy: 0.9839\n",
            "Epoch 47/100\n",
            "625/625 [==============================] - 3s 4ms/step - loss: 0.0044 - accuracy: 0.9985 - val_loss: 0.1189 - val_accuracy: 0.9814\n",
            "Epoch 48/100\n",
            "625/625 [==============================] - 3s 5ms/step - loss: 0.0026 - accuracy: 0.9991 - val_loss: 0.1077 - val_accuracy: 0.9859\n",
            "Epoch 49/100\n",
            "625/625 [==============================] - 3s 4ms/step - loss: 0.0051 - accuracy: 0.9984 - val_loss: 0.1231 - val_accuracy: 0.9816\n",
            "Epoch 50/100\n",
            "625/625 [==============================] - 3s 5ms/step - loss: 0.0051 - accuracy: 0.9982 - val_loss: 0.1135 - val_accuracy: 0.9848\n",
            "Epoch 51/100\n",
            "625/625 [==============================] - 3s 4ms/step - loss: 0.0024 - accuracy: 0.9992 - val_loss: 0.1023 - val_accuracy: 0.9857\n",
            "Epoch 52/100\n",
            "625/625 [==============================] - 3s 5ms/step - loss: 8.0295e-04 - accuracy: 0.9998 - val_loss: 0.1125 - val_accuracy: 0.9846\n",
            "Epoch 53/100\n",
            "625/625 [==============================] - 3s 5ms/step - loss: 1.1899e-04 - accuracy: 1.0000 - val_loss: 0.1070 - val_accuracy: 0.9854\n",
            "Epoch 54/100\n",
            "625/625 [==============================] - 3s 5ms/step - loss: 5.0378e-05 - accuracy: 1.0000 - val_loss: 0.1094 - val_accuracy: 0.9860\n",
            "Epoch 55/100\n",
            "625/625 [==============================] - 3s 4ms/step - loss: 3.7748e-05 - accuracy: 1.0000 - val_loss: 0.1109 - val_accuracy: 0.9860\n",
            "Epoch 56/100\n",
            "625/625 [==============================] - 3s 5ms/step - loss: 2.6505e-05 - accuracy: 1.0000 - val_loss: 0.1127 - val_accuracy: 0.9862\n",
            "Epoch 57/100\n",
            "625/625 [==============================] - 3s 5ms/step - loss: 2.4175e-05 - accuracy: 1.0000 - val_loss: 0.1142 - val_accuracy: 0.9866\n",
            "Epoch 58/100\n",
            "625/625 [==============================] - 3s 5ms/step - loss: 2.0813e-05 - accuracy: 1.0000 - val_loss: 0.1160 - val_accuracy: 0.9863\n",
            "Epoch 59/100\n",
            "625/625 [==============================] - 3s 5ms/step - loss: 2.1565e-05 - accuracy: 1.0000 - val_loss: 0.1220 - val_accuracy: 0.9855\n",
            "Epoch 60/100\n",
            "625/625 [==============================] - 3s 4ms/step - loss: 0.0153 - accuracy: 0.9957 - val_loss: 0.1017 - val_accuracy: 0.9848\n",
            "Epoch 61/100\n",
            "625/625 [==============================] - 3s 4ms/step - loss: 0.0012 - accuracy: 0.9997 - val_loss: 0.1069 - val_accuracy: 0.9864\n",
            "Epoch 62/100\n",
            "625/625 [==============================] - 3s 5ms/step - loss: 1.8562e-04 - accuracy: 1.0000 - val_loss: 0.1124 - val_accuracy: 0.9858\n",
            "Epoch 63/100\n",
            "625/625 [==============================] - 3s 4ms/step - loss: 7.0476e-05 - accuracy: 1.0000 - val_loss: 0.1140 - val_accuracy: 0.9864\n",
            "Epoch 64/100\n",
            "625/625 [==============================] - 3s 4ms/step - loss: 3.9788e-05 - accuracy: 1.0000 - val_loss: 0.1167 - val_accuracy: 0.9862\n",
            "Epoch 65/100\n",
            "625/625 [==============================] - 3s 5ms/step - loss: 2.8611e-05 - accuracy: 1.0000 - val_loss: 0.1183 - val_accuracy: 0.9864\n",
            "Epoch 66/100\n",
            "625/625 [==============================] - 3s 4ms/step - loss: 2.1527e-05 - accuracy: 1.0000 - val_loss: 0.1187 - val_accuracy: 0.9860\n",
            "Epoch 67/100\n",
            "625/625 [==============================] - 3s 4ms/step - loss: 1.7938e-05 - accuracy: 1.0000 - val_loss: 0.1212 - val_accuracy: 0.9865\n",
            "Epoch 68/100\n",
            "625/625 [==============================] - 3s 4ms/step - loss: 1.4755e-05 - accuracy: 1.0000 - val_loss: 0.1249 - val_accuracy: 0.9869\n",
            "Epoch 69/100\n",
            "625/625 [==============================] - 3s 4ms/step - loss: 0.0168 - accuracy: 0.9947 - val_loss: 0.1025 - val_accuracy: 0.9833\n",
            "Epoch 70/100\n",
            "625/625 [==============================] - 3s 4ms/step - loss: 0.0015 - accuracy: 0.9996 - val_loss: 0.1048 - val_accuracy: 0.9847\n",
            "Epoch 71/100\n",
            "625/625 [==============================] - 3s 5ms/step - loss: 5.7929e-04 - accuracy: 0.9999 - val_loss: 0.1208 - val_accuracy: 0.9805\n",
            "Epoch 72/100\n",
            "625/625 [==============================] - 3s 4ms/step - loss: 0.0053 - accuracy: 0.9980 - val_loss: 0.1125 - val_accuracy: 0.9830\n",
            "Epoch 73/100\n",
            "625/625 [==============================] - 3s 5ms/step - loss: 0.0036 - accuracy: 0.9985 - val_loss: 0.1109 - val_accuracy: 0.9832\n",
            "Epoch 74/100\n",
            "625/625 [==============================] - 3s 4ms/step - loss: 0.0022 - accuracy: 0.9993 - val_loss: 0.1071 - val_accuracy: 0.9852\n",
            "Epoch 75/100\n",
            "625/625 [==============================] - 3s 4ms/step - loss: 0.0024 - accuracy: 0.9993 - val_loss: 0.1077 - val_accuracy: 0.9850\n",
            "Epoch 76/100\n",
            "625/625 [==============================] - 3s 5ms/step - loss: 0.0052 - accuracy: 0.9984 - val_loss: 0.1229 - val_accuracy: 0.9837\n",
            "Epoch 77/100\n",
            "625/625 [==============================] - 3s 5ms/step - loss: 0.0045 - accuracy: 0.9986 - val_loss: 0.1057 - val_accuracy: 0.9844\n",
            "Epoch 78/100\n",
            "625/625 [==============================] - 3s 4ms/step - loss: 0.0014 - accuracy: 0.9995 - val_loss: 0.1064 - val_accuracy: 0.9856\n",
            "Epoch 79/100\n",
            "625/625 [==============================] - 3s 4ms/step - loss: 3.9794e-04 - accuracy: 0.9999 - val_loss: 0.1103 - val_accuracy: 0.9862\n",
            "Epoch 80/100\n",
            "625/625 [==============================] - 3s 4ms/step - loss: 1.1920e-04 - accuracy: 1.0000 - val_loss: 0.1125 - val_accuracy: 0.9862\n",
            "Epoch 81/100\n",
            "625/625 [==============================] - 3s 4ms/step - loss: 3.7488e-05 - accuracy: 1.0000 - val_loss: 0.1106 - val_accuracy: 0.9866\n",
            "Epoch 82/100\n",
            "625/625 [==============================] - 3s 4ms/step - loss: 2.4348e-05 - accuracy: 1.0000 - val_loss: 0.1112 - val_accuracy: 0.9871\n",
            "Epoch 83/100\n",
            "625/625 [==============================] - 3s 4ms/step - loss: 2.0458e-05 - accuracy: 1.0000 - val_loss: 0.1129 - val_accuracy: 0.9867\n",
            "Epoch 84/100\n",
            "625/625 [==============================] - 3s 5ms/step - loss: 1.6982e-05 - accuracy: 1.0000 - val_loss: 0.1138 - val_accuracy: 0.9869\n",
            "Epoch 85/100\n",
            "625/625 [==============================] - 3s 5ms/step - loss: 1.4979e-05 - accuracy: 1.0000 - val_loss: 0.1168 - val_accuracy: 0.9865\n",
            "Epoch 86/100\n",
            "625/625 [==============================] - 3s 5ms/step - loss: 0.0149 - accuracy: 0.9955 - val_loss: 0.1136 - val_accuracy: 0.9857\n",
            "Epoch 87/100\n",
            "625/625 [==============================] - 3s 5ms/step - loss: 0.0030 - accuracy: 0.9990 - val_loss: 0.1145 - val_accuracy: 0.9850\n",
            "Epoch 88/100\n",
            "625/625 [==============================] - 3s 4ms/step - loss: 0.0011 - accuracy: 0.9996 - val_loss: 0.1107 - val_accuracy: 0.9862\n",
            "Epoch 89/100\n",
            "625/625 [==============================] - 3s 5ms/step - loss: 8.0270e-04 - accuracy: 0.9997 - val_loss: 0.1145 - val_accuracy: 0.9860\n",
            "Epoch 90/100\n",
            "625/625 [==============================] - 3s 5ms/step - loss: 3.0770e-04 - accuracy: 0.9999 - val_loss: 0.1232 - val_accuracy: 0.9854\n",
            "Epoch 91/100\n",
            "625/625 [==============================] - 3s 5ms/step - loss: 0.0085 - accuracy: 0.9973 - val_loss: 0.1057 - val_accuracy: 0.9830\n",
            "Epoch 92/100\n",
            "625/625 [==============================] - 3s 4ms/step - loss: 0.0022 - accuracy: 0.9994 - val_loss: 0.1048 - val_accuracy: 0.9863\n",
            "Epoch 93/100\n",
            "625/625 [==============================] - 3s 5ms/step - loss: 8.6242e-04 - accuracy: 0.9998 - val_loss: 0.1108 - val_accuracy: 0.9865\n",
            "Epoch 94/100\n",
            "625/625 [==============================] - 3s 5ms/step - loss: 1.1111e-04 - accuracy: 1.0000 - val_loss: 0.1108 - val_accuracy: 0.9876\n",
            "Epoch 95/100\n",
            "625/625 [==============================] - 3s 5ms/step - loss: 2.9849e-05 - accuracy: 1.0000 - val_loss: 0.1107 - val_accuracy: 0.9875\n",
            "Epoch 96/100\n",
            "625/625 [==============================] - 3s 5ms/step - loss: 2.1787e-05 - accuracy: 1.0000 - val_loss: 0.1109 - val_accuracy: 0.9876\n",
            "Epoch 97/100\n",
            "625/625 [==============================] - 3s 5ms/step - loss: 1.7163e-05 - accuracy: 1.0000 - val_loss: 0.1121 - val_accuracy: 0.9874\n",
            "Epoch 98/100\n",
            "625/625 [==============================] - 3s 4ms/step - loss: 1.4225e-05 - accuracy: 1.0000 - val_loss: 0.1135 - val_accuracy: 0.9872\n",
            "Epoch 99/100\n",
            "625/625 [==============================] - 3s 5ms/step - loss: 1.1350e-05 - accuracy: 1.0000 - val_loss: 0.1145 - val_accuracy: 0.9871\n",
            "Epoch 100/100\n",
            "625/625 [==============================] - 3s 5ms/step - loss: 9.6473e-06 - accuracy: 1.0000 - val_loss: 0.1148 - val_accuracy: 0.9872\n"
          ],
          "name": "stdout"
        }
      ]
    },
    {
      "cell_type": "markdown",
      "metadata": {
        "id": "XKh831ltl_PQ"
      },
      "source": [
        "#Accuracy & Loss Plot"
      ]
    },
    {
      "cell_type": "code",
      "metadata": {
        "colab": {
          "base_uri": "https://localhost:8080/",
          "height": 350
        },
        "id": "6xFX6j-rNn6b",
        "outputId": "85bddf4c-46d4-422c-f9b8-f7d6949e13d4"
      },
      "source": [
        "#accuracy plots of valiation & train set vs epochs\n",
        "fig=plt.figure(figsize=(10, 5))\n",
        "plt.plot(np.arange(1, no_epochs+1), results.history['accuracy'], label=\"Train accuracy\")\n",
        "plt.plot(np.arange(1, no_epochs+1), results.history['val_accuracy'], label=\"Validation accuracy\")\n",
        "plt.xlabel('Epochs')\n",
        "plt.ylabel('Acuuracy')\n",
        "plt.title(\"Accuracy Plots\")\n",
        "plt.legend(loc='upper right')\n",
        "plt.show()"
      ],
      "execution_count": null,
      "outputs": [
        {
          "output_type": "display_data",
          "data": {
            "image/png": "[encoded data removed]",
            "text/plain": [
              "<Figure size 720x360 with 1 Axes>"
            ]
          },
          "metadata": {
            "tags": []
          }
        }
      ]
    },
    {
      "cell_type": "code",
      "metadata": {
        "colab": {
          "base_uri": "https://localhost:8080/",
          "height": 350
        },
        "id": "kAAz-EFRZDiH",
        "outputId": "75cffccb-96bb-4ec3-d7b8-8454c67560d9"
      },
      "source": [
        "#Loss plots of validation & train set vs epochs\n",
        "fig=plt.figure(figsize=(10, 5))\n",
        "plt.plot(np.arange(1, no_epochs+1), results.history['loss'], label=\"Train loss\")\n",
        "plt.plot(np.arange(1, no_epochs+1), results.history['val_loss'], label=\"Validation loss\")\n",
        "plt.xlabel('Epochs')\n",
        "plt.ylabel('Loss')\n",
        "plt.title(\"Loss Plots\")\n",
        "plt.legend(loc='upper right')\n",
        "plt.show()"
      ],
      "execution_count": null,
      "outputs": [
        {
          "output_type": "display_data",
          "data": {
            "image/png": "[encoded data removed]",
            "text/plain": [
              "<Figure size 720x360 with 1 Axes>"
            ]
          },
          "metadata": {
            "tags": []
          }
        }
      ]
    },
    {
      "cell_type": "markdown",
      "metadata": {
        "id": "PSGGUCb7mXK7"
      },
      "source": [
        "#Testing the Data Based on the Trained Model"
      ]
    },
    {
      "cell_type": "code",
      "metadata": {
        "colab": {
          "base_uri": "https://localhost:8080/"
        },
        "id": "v6TSZJnkORiU",
        "outputId": "87c2cdb4-2574-4ebb-aa5e-f89970e4bdc7"
      },
      "source": [
        "test_loss, test_accuracy = \\\n",
        "  model.evaluate(X_test, Y_test, batch_size=64)\n",
        "print('Test loss: %.4f accuracy: %.4f' % (test_loss, test_accuracy))"
      ],
      "execution_count": null,
      "outputs": [
        {
          "output_type": "stream",
          "text": [
            "157/157 [==============================] - 0s 3ms/step - loss: 0.0686 - accuracy: 0.9897\n",
            "Test loss: 0.0686 accuracy: 0.9897\n"
          ],
          "name": "stdout"
        }
      ]
    },
    {
      "cell_type": "markdown",
      "metadata": {
        "id": "ZVLm56LinBCZ"
      },
      "source": [
        "#Checking accuracy for First 100 Predictions"
      ]
    },
    {
      "cell_type": "code",
      "metadata": {
        "colab": {
          "base_uri": "https://localhost:8080/"
        },
        "id": "4lAFXWUGPBS4",
        "outputId": "caf61190-93b6-43ff-f40e-386483d32fe9"
      },
      "source": [
        "predictions = model.predict(X_test)\n",
        "first100_preds = np.argmax(predictions, axis=1)[:100]\n",
        "first100_true = np.argmax(Y_test,axis=1)[:100]\n",
        "print(first100_preds)\n",
        "print(first100_true)"
      ],
      "execution_count": null,
      "outputs": [
        {
          "output_type": "stream",
          "text": [
            "[0 0 0 0 0 0 0 0 0 0 0 0 0 0 0 0 0 0 0 0 0 0 0 0 0 0 0 0 0 0 0 0 0 0 0 0 0\n",
            " 0 0 0 0 0 0 0 0 0 0 0 0 0 0 0 0 0 0 0 0 0 0 0 0 0 0 0 0 0 0 0 0 0 0 0 0 0\n",
            " 0 0 0 0 0 0 0 0 0 0 0 0 0 0 0 0 0 0 0 0 0 0 0 0 0 0]\n",
            "[0 0 0 0 0 0 0 0 0 0 0 0 0 0 0 0 0 0 0 0 0 0 0 0 0 0 0 0 0 0 0 0 0 0 0 0 0\n",
            " 0 0 0 0 0 0 0 0 0 0 0 0 0 0 0 0 0 0 0 0 0 0 0 0 0 0 0 0 0 0 0 0 0 0 0 0 0\n",
            " 0 0 0 0 0 0 0 0 0 0 0 0 0 0 0 0 0 0 0 0 0 0 0 0 0 0]\n"
          ],
          "name": "stdout"
        }
      ]
    },
    {
      "cell_type": "markdown",
      "metadata": {
        "id": "3C3PBHl1pUs2"
      },
      "source": [
        "Although we have achieved an accuraccy of 98.9% on our test data and got 100% accuracy on our first 100 predictions from the accuracy & loss plot it is  evident that our model is underfitting the training data as validation loss is quiet high compared to training loss.This indicates that the model is capable of further learning and possible further improvements.So,we have to search the generalized model for our dataset.\n",
        "\n",
        "\n",
        "\n"
      ]
    },
    {
      "cell_type": "markdown",
      "metadata": {
        "id": "InsDtmVozumz"
      },
      "source": [
        "\n",
        "So we resort to hyperparameter tuning using keras-tuner.So, the 1 st question is what is hyperparameter?\n",
        "Hyperparameters are those which need to be set before launching the learning process. The learning rate or the number of units in a dense layer are hyperparameters.\n",
        "And how does keras-tuner work?\n",
        "Steps:\n",
        "1. Define a tuner is defined.\n",
        "2. The tuner library search function performs the iteration loop, which evaluates a certain number of hyperparameter combinations.\n",
        "3. Evaluate the performance by computing the trained model’s accuracy on a held-out validation set.\n",
        "4. The best hyperparameter combination in terms of validation accuracy can be tested on a held-out test set."
      ]
    },
    {
      "cell_type": "markdown",
      "metadata": {
        "id": "02tdTSq_0Aa8"
      },
      "source": [
        "#Installing Necessary Libraries"
      ]
    },
    {
      "cell_type": "code",
      "metadata": {
        "colab": {
          "base_uri": "https://localhost:8080/"
        },
        "id": "VT-NjW87j-fG",
        "outputId": "eede762a-5bb5-436b-b3bd-88235b4bf4f7"
      },
      "source": [
        "pip install keras-tuner"
      ],
      "execution_count": null,
      "outputs": [
        {
          "output_type": "stream",
          "text": [
            "Collecting keras-tuner\n",
            "  Downloading keras_tuner-1.0.3-py3-none-any.whl (96 kB)\n",
            "\u001b[?25l\r\u001b[K     |███▍                            | 10 kB 26.6 MB/s eta 0:00:01\r\u001b[K     |██████▉                         | 20 kB 32.8 MB/s eta 0:00:01\r\u001b[K     |██████████▏                     | 30 kB 24.1 MB/s eta 0:00:01\r\u001b[K     |█████████████▋                  | 40 kB 19.2 MB/s eta 0:00:01\r\u001b[K     |█████████████████               | 51 kB 7.9 MB/s eta 0:00:01\r\u001b[K     |████████████████████▍           | 61 kB 8.6 MB/s eta 0:00:01\r\u001b[K     |███████████████████████▊        | 71 kB 8.3 MB/s eta 0:00:01\r\u001b[K     |███████████████████████████▏    | 81 kB 8.3 MB/s eta 0:00:01\r\u001b[K     |██████████████████████████████▋ | 92 kB 8.9 MB/s eta 0:00:01\r\u001b[K     |████████████████████████████████| 96 kB 4.4 MB/s \n",
            "\u001b[?25hRequirement already satisfied: numpy in /usr/local/lib/python3.7/dist-packages (from keras-tuner) (1.19.5)\n",
            "Requirement already satisfied: requests in /usr/local/lib/python3.7/dist-packages (from keras-tuner) (2.23.0)\n",
            "Requirement already satisfied: ipython in /usr/local/lib/python3.7/dist-packages (from keras-tuner) (5.5.0)\n",
            "Requirement already satisfied: packaging in /usr/local/lib/python3.7/dist-packages (from keras-tuner) (21.0)\n",
            "Requirement already satisfied: scipy in /usr/local/lib/python3.7/dist-packages (from keras-tuner) (1.4.1)\n",
            "Collecting kt-legacy\n",
            "  Downloading kt-legacy-1.0.3.tar.gz (5.8 kB)\n",
            "Requirement already satisfied: tensorboard in /usr/local/lib/python3.7/dist-packages (from keras-tuner) (2.5.0)\n",
            "Requirement already satisfied: prompt-toolkit<2.0.0,>=1.0.4 in /usr/local/lib/python3.7/dist-packages (from ipython->keras-tuner) (1.0.18)\n",
            "Requirement already satisfied: traitlets>=4.2 in /usr/local/lib/python3.7/dist-packages (from ipython->keras-tuner) (5.0.5)\n",
            "Requirement already satisfied: setuptools>=18.5 in /usr/local/lib/python3.7/dist-packages (from ipython->keras-tuner) (57.2.0)\n",
            "Requirement already satisfied: simplegeneric>0.8 in /usr/local/lib/python3.7/dist-packages (from ipython->keras-tuner) (0.8.1)\n",
            "Requirement already satisfied: pygments in /usr/local/lib/python3.7/dist-packages (from ipython->keras-tuner) (2.6.1)\n",
            "Requirement already satisfied: pexpect in /usr/local/lib/python3.7/dist-packages (from ipython->keras-tuner) (4.8.0)\n",
            "Requirement already satisfied: pickleshare in /usr/local/lib/python3.7/dist-packages (from ipython->keras-tuner) (0.7.5)\n",
            "Requirement already satisfied: decorator in /usr/local/lib/python3.7/dist-packages (from ipython->keras-tuner) (4.4.2)\n",
            "Requirement already satisfied: six>=1.9.0 in /usr/local/lib/python3.7/dist-packages (from prompt-toolkit<2.0.0,>=1.0.4->ipython->keras-tuner) (1.15.0)\n",
            "Requirement already satisfied: wcwidth in /usr/local/lib/python3.7/dist-packages (from prompt-toolkit<2.0.0,>=1.0.4->ipython->keras-tuner) (0.2.5)\n",
            "Requirement already satisfied: ipython-genutils in /usr/local/lib/python3.7/dist-packages (from traitlets>=4.2->ipython->keras-tuner) (0.2.0)\n",
            "Requirement already satisfied: pyparsing>=2.0.2 in /usr/local/lib/python3.7/dist-packages (from packaging->keras-tuner) (2.4.7)\n",
            "Requirement already satisfied: ptyprocess>=0.5 in /usr/local/lib/python3.7/dist-packages (from pexpect->ipython->keras-tuner) (0.7.0)\n",
            "Requirement already satisfied: chardet<4,>=3.0.2 in /usr/local/lib/python3.7/dist-packages (from requests->keras-tuner) (3.0.4)\n",
            "Requirement already satisfied: urllib3!=1.25.0,!=1.25.1,<1.26,>=1.21.1 in /usr/local/lib/python3.7/dist-packages (from requests->keras-tuner) (1.24.3)\n",
            "Requirement already satisfied: certifi>=2017.4.17 in /usr/local/lib/python3.7/dist-packages (from requests->keras-tuner) (2021.5.30)\n",
            "Requirement already satisfied: idna<3,>=2.5 in /usr/local/lib/python3.7/dist-packages (from requests->keras-tuner) (2.10)\n",
            "Requirement already satisfied: google-auth-oauthlib<0.5,>=0.4.1 in /usr/local/lib/python3.7/dist-packages (from tensorboard->keras-tuner) (0.4.4)\n",
            "Requirement already satisfied: tensorboard-data-server<0.7.0,>=0.6.0 in /usr/local/lib/python3.7/dist-packages (from tensorboard->keras-tuner) (0.6.1)\n",
            "Requirement already satisfied: markdown>=2.6.8 in /usr/local/lib/python3.7/dist-packages (from tensorboard->keras-tuner) (3.3.4)\n",
            "Requirement already satisfied: wheel>=0.26 in /usr/local/lib/python3.7/dist-packages (from tensorboard->keras-tuner) (0.36.2)\n",
            "Requirement already satisfied: absl-py>=0.4 in /usr/local/lib/python3.7/dist-packages (from tensorboard->keras-tuner) (0.12.0)\n",
            "Requirement already satisfied: tensorboard-plugin-wit>=1.6.0 in /usr/local/lib/python3.7/dist-packages (from tensorboard->keras-tuner) (1.8.0)\n",
            "Requirement already satisfied: grpcio>=1.24.3 in /usr/local/lib/python3.7/dist-packages (from tensorboard->keras-tuner) (1.34.1)\n",
            "Requirement already satisfied: google-auth<2,>=1.6.3 in /usr/local/lib/python3.7/dist-packages (from tensorboard->keras-tuner) (1.32.1)\n",
            "Requirement already satisfied: protobuf>=3.6.0 in /usr/local/lib/python3.7/dist-packages (from tensorboard->keras-tuner) (3.17.3)\n",
            "Requirement already satisfied: werkzeug>=0.11.15 in /usr/local/lib/python3.7/dist-packages (from tensorboard->keras-tuner) (1.0.1)\n",
            "Requirement already satisfied: pyasn1-modules>=0.2.1 in /usr/local/lib/python3.7/dist-packages (from google-auth<2,>=1.6.3->tensorboard->keras-tuner) (0.2.8)\n",
            "Requirement already satisfied: cachetools<5.0,>=2.0.0 in /usr/local/lib/python3.7/dist-packages (from google-auth<2,>=1.6.3->tensorboard->keras-tuner) (4.2.2)\n",
            "Requirement already satisfied: rsa<5,>=3.1.4 in /usr/local/lib/python3.7/dist-packages (from google-auth<2,>=1.6.3->tensorboard->keras-tuner) (4.7.2)\n",
            "Requirement already satisfied: requests-oauthlib>=0.7.0 in /usr/local/lib/python3.7/dist-packages (from google-auth-oauthlib<0.5,>=0.4.1->tensorboard->keras-tuner) (1.3.0)\n",
            "Requirement already satisfied: importlib-metadata in /usr/local/lib/python3.7/dist-packages (from markdown>=2.6.8->tensorboard->keras-tuner) (4.6.1)\n",
            "Requirement already satisfied: pyasn1<0.5.0,>=0.4.6 in /usr/local/lib/python3.7/dist-packages (from pyasn1-modules>=0.2.1->google-auth<2,>=1.6.3->tensorboard->keras-tuner) (0.4.8)\n",
            "Requirement already satisfied: oauthlib>=3.0.0 in /usr/local/lib/python3.7/dist-packages (from requests-oauthlib>=0.7.0->google-auth-oauthlib<0.5,>=0.4.1->tensorboard->keras-tuner) (3.1.1)\n",
            "Requirement already satisfied: typing-extensions>=3.6.4 in /usr/local/lib/python3.7/dist-packages (from importlib-metadata->markdown>=2.6.8->tensorboard->keras-tuner) (3.7.4.3)\n",
            "Requirement already satisfied: zipp>=0.5 in /usr/local/lib/python3.7/dist-packages (from importlib-metadata->markdown>=2.6.8->tensorboard->keras-tuner) (3.5.0)\n",
            "Building wheels for collected packages: kt-legacy\n",
            "  Building wheel for kt-legacy (setup.py) ... \u001b[?25l\u001b[?25hdone\n",
            "  Created wheel for kt-legacy: filename=kt_legacy-1.0.3-py3-none-any.whl size=9568 sha256=bd8799b97a4dd5f92d65e5ce028f090627faac3b672bf7ac80083a8971007f60\n",
            "  Stored in directory: /root/.cache/pip/wheels/38/5c/e0/13003e68c17f403af40b92a24d20171b95fef13b0fdaba833c\n",
            "Successfully built kt-legacy\n",
            "Installing collected packages: kt-legacy, keras-tuner\n",
            "Successfully installed keras-tuner-1.0.3 kt-legacy-1.0.3\n"
          ],
          "name": "stdout"
        }
      ]
    },
    {
      "cell_type": "code",
      "metadata": {
        "colab": {
          "base_uri": "https://localhost:8080/"
        },
        "id": "ZAz6yuSYtfjV",
        "outputId": "876315d3-91f7-47d0-e5f8-a7f4640a189a"
      },
      "source": [
        "pip install loguru"
      ],
      "execution_count": null,
      "outputs": [
        {
          "output_type": "stream",
          "text": [
            "Collecting loguru\n",
            "  Downloading loguru-0.5.3-py3-none-any.whl (57 kB)\n",
            "\u001b[?25l\r\u001b[K     |█████▊                          | 10 kB 35.4 MB/s eta 0:00:01\r\u001b[K     |███████████▌                    | 20 kB 37.9 MB/s eta 0:00:01\r\u001b[K     |█████████████████▏              | 30 kB 21.2 MB/s eta 0:00:01\r\u001b[K     |███████████████████████         | 40 kB 17.7 MB/s eta 0:00:01\r\u001b[K     |████████████████████████████▋   | 51 kB 10.0 MB/s eta 0:00:01\r\u001b[K     |████████████████████████████████| 57 kB 4.3 MB/s \n",
            "\u001b[?25hInstalling collected packages: loguru\n",
            "Successfully installed loguru-0.5.3\n"
          ],
          "name": "stdout"
        }
      ]
    },
    {
      "cell_type": "code",
      "metadata": {
        "id": "YoRFm3dZrzKg"
      },
      "source": [
        "import time\n",
        "from loguru import logger"
      ],
      "execution_count": null,
      "outputs": []
    },
    {
      "cell_type": "code",
      "metadata": {
        "id": "oiQ71HU9m0QK"
      },
      "source": [
        "from keras_tuner import HyperModel,RandomSearch,Hyperband"
      ],
      "execution_count": null,
      "outputs": []
    },
    {
      "cell_type": "markdown",
      "metadata": {
        "id": "RrJ_oHtC0RuC"
      },
      "source": [
        "#Setting Parameters"
      ]
    },
    {
      "cell_type": "code",
      "metadata": {
        "id": "J4i1OibCrRFX"
      },
      "source": [
        "SEED = 1\n",
        "\n",
        "NUM_CLASSES = 10\n",
        "INPUT_SHAPE = (image_height,image_width,num_channels)\n",
        "\n",
        "N_EPOCH_SEARCH = 10\n",
        "MAX_TRIALS = 20\n",
        "EXECUTION_PER_TRIAL = 2"
      ],
      "execution_count": null,
      "outputs": []
    },
    {
      "cell_type": "markdown",
      "metadata": {
        "id": "OgqrU88S0lnT"
      },
      "source": [
        "#Keras Tuner Hypermodel"
      ]
    },
    {
      "cell_type": "code",
      "metadata": {
        "id": "s7qm_1VZQe4N"
      },
      "source": [
        "\n",
        "class HyperModel(HyperModel):\n",
        "    def __init__(self, input_shape, num_classes):\n",
        "        self.input_shape = input_shape\n",
        "        self.num_classes = num_classes\n",
        "\n",
        "    def build(self, hp):\n",
        "        model = Sequential()\n",
        "        model.add(\n",
        "            Conv2D(\n",
        "                filters = hp.Int('Con_1_filter',min_value = 32,max_value = 128, step = 16),\n",
        "                kernel_size= hp.Choice('Conv_1_kernel', values = [3,5]),\n",
        "                activation='relu',\n",
        "                input_shape=self.input_shape\n",
        "            )\n",
        "        )\n",
        "        model.add(\n",
        "            Conv2D(\n",
        "                filters = hp.Int('Conv_2_filter',min_value = 32,max_value = 64, step = 16),\n",
        "                kernel_size = hp.Choice('Conv_2_kernel', values = [3,5]),\n",
        "                activation='relu'\n",
        "            )\n",
        "        )\n",
        "        model.add(MaxPool2D(pool_size=2))\n",
        "        model.add(\n",
        "            Dropout(rate=hp.Float(\n",
        "                'dropout_1',\n",
        "                min_value=0.0,\n",
        "                max_value=0.5,\n",
        "                default=0.25,\n",
        "                step=0.05,\n",
        "            ))\n",
        "        )\n",
        "        model.add(\n",
        "            Conv2D(\n",
        "                filters=hp.Int('Conv_3_filter',min_value = 32,max_value = 64, step = 16),\n",
        "                kernel_size=hp.Choice('Conv_3_kernel', values = [3,5]),\n",
        "                activation='relu'\n",
        "            )\n",
        "        )\n",
        "        model.add(\n",
        "            Conv2D(\n",
        "                filters=hp.Int(\n",
        "                    'Conv_4_filter',\n",
        "                    min_value = 32,\n",
        "                    max_value = 64,\n",
        "                    step = 16,\n",
        "                ),\n",
        "                activation='relu',\n",
        "                kernel_size=hp.Choice('Conv_4_kernel', values = [3,5])\n",
        "            )\n",
        "        )\n",
        "        model.add(MaxPool2D(pool_size=2))\n",
        "        model.add(\n",
        "            Dropout(rate=hp.Float(\n",
        "                'dropout_2',\n",
        "                min_value=0.0,\n",
        "                max_value=0.5,\n",
        "                default=0.25,\n",
        "                step=0.05,\n",
        "            ))\n",
        "        )\n",
        "        model.add(Flatten())\n",
        "        model.add(\n",
        "            Dense(\n",
        "                units=hp.Int(\n",
        "                    'dense_1_units',\n",
        "                    min_value=32,\n",
        "                    max_value=512,\n",
        "                    step=32,\n",
        "                    default=128\n",
        "                ),\n",
        "                activation=hp.Choice(\n",
        "                    'dense_activation',\n",
        "                    values=['relu','tanh','sigmoid'],\n",
        "                    default='relu'\n",
        "                )\n",
        "            )\n",
        "        )\n",
        "        model.add(\n",
        "            Dropout(\n",
        "                rate=hp.Float(\n",
        "                    'dropout_3',\n",
        "                    min_value=0.0,\n",
        "                    max_value=0.5,\n",
        "                    default=0.25,\n",
        "                    step=0.05\n",
        "                )\n",
        "            )\n",
        "        )\n",
        "        model.add(Dense(self.num_classes, activation='softmax'))\n",
        "\n",
        "        model.compile(\n",
        "            optimizer=keras.optimizers.Adam(\n",
        "                hp.Float(\n",
        "                    'learning_rate',\n",
        "                    min_value=1e-4,\n",
        "                    max_value=1e-2,\n",
        "                    sampling='LOG',\n",
        "                    default=1e-3\n",
        "                )\n",
        "            ),\n",
        "            loss='categorical_crossentropy',\n",
        "            metrics=['accuracy']\n",
        "        )\n",
        "        return model\n",
        "\n",
        "hypermodel = HyperModel(input_shape=INPUT_SHAPE, num_classes=NUM_CLASSES)"
      ],
      "execution_count": null,
      "outputs": []
    },
    {
      "cell_type": "markdown",
      "metadata": {
        "id": "85np2Lwd0yg6"
      },
      "source": [
        "#Hyperparameter tuning method: Random Search"
      ]
    },
    {
      "cell_type": "code",
      "metadata": {
        "id": "bpbICaJuo-_r"
      },
      "source": [
        "random_tuner = RandomSearch(\n",
        "    hypermodel,\n",
        "    objective=\"val_accuracy\",\n",
        "    seed=SEED,\n",
        "    max_trials=MAX_TRIALS,\n",
        "    executions_per_trial=EXECUTION_PER_TRIAL,\n",
        "    directory = 'random_search',\n",
        "    project_name = 'MNIST'\n",
        "    )"
      ],
      "execution_count": null,
      "outputs": []
    },
    {
      "cell_type": "markdown",
      "metadata": {
        "id": "WpM_0kk_1aut"
      },
      "source": [
        "#Hyperparameter Tuning"
      ]
    },
    {
      "cell_type": "code",
      "metadata": {
        "colab": {
          "base_uri": "https://localhost:8080/"
        },
        "id": "Kes72hX0pizo",
        "outputId": "25790905-ca00-409c-f823-aecb4d661dda"
      },
      "source": [
        "random_tuner.search_space_summary()"
      ],
      "execution_count": null,
      "outputs": [
        {
          "output_type": "stream",
          "text": [
            "Search space summary\n",
            "Default search space size: 14\n",
            "Con_1_filter (Int)\n",
            "{'default': None, 'conditions': [], 'min_value': 32, 'max_value': 128, 'step': 16, 'sampling': None}\n",
            "Conv_1_kernel (Choice)\n",
            "{'default': 3, 'conditions': [], 'values': [3, 5], 'ordered': True}\n",
            "Conv_2_filter (Int)\n",
            "{'default': None, 'conditions': [], 'min_value': 32, 'max_value': 64, 'step': 16, 'sampling': None}\n",
            "Conv_2_kernel (Choice)\n",
            "{'default': 3, 'conditions': [], 'values': [3, 5], 'ordered': True}\n",
            "dropout_1 (Float)\n",
            "{'default': 0.25, 'conditions': [], 'min_value': 0.0, 'max_value': 0.5, 'step': 0.05, 'sampling': None}\n",
            "Conv_3_filter (Int)\n",
            "{'default': None, 'conditions': [], 'min_value': 32, 'max_value': 64, 'step': 16, 'sampling': None}\n",
            "Conv_3_kernel (Choice)\n",
            "{'default': 3, 'conditions': [], 'values': [3, 5], 'ordered': True}\n",
            "Conv_4_filter (Int)\n",
            "{'default': None, 'conditions': [], 'min_value': 32, 'max_value': 64, 'step': 16, 'sampling': None}\n",
            "Conv_4_kernel (Choice)\n",
            "{'default': 3, 'conditions': [], 'values': [3, 5], 'ordered': True}\n",
            "dropout_2 (Float)\n",
            "{'default': 0.25, 'conditions': [], 'min_value': 0.0, 'max_value': 0.5, 'step': 0.05, 'sampling': None}\n",
            "dense_1_units (Int)\n",
            "{'default': 128, 'conditions': [], 'min_value': 32, 'max_value': 512, 'step': 32, 'sampling': None}\n",
            "dense_activation (Choice)\n",
            "{'default': 'relu', 'conditions': [], 'values': ['relu', 'tanh', 'sigmoid'], 'ordered': False}\n",
            "dropout_3 (Float)\n",
            "{'default': 0.25, 'conditions': [], 'min_value': 0.0, 'max_value': 0.5, 'step': 0.05, 'sampling': None}\n",
            "learning_rate (Float)\n",
            "{'default': 0.001, 'conditions': [], 'min_value': 0.0001, 'max_value': 0.01, 'step': None, 'sampling': 'log'}\n"
          ],
          "name": "stdout"
        }
      ]
    },
    {
      "cell_type": "code",
      "metadata": {
        "colab": {
          "base_uri": "https://localhost:8080/"
        },
        "id": "zxUkEtdQ3cxC",
        "outputId": "7e8b7bcc-b506-4031-cd00-eedd7ab3d154"
      },
      "source": [
        "#finding best hyperparameter\n",
        "logger.info(\"Start training\")\n",
        "search_start = time.time()\n",
        "random_tuner.search(X_train, Y_train, epochs=N_EPOCH_SEARCH, validation_data = (X_val,Y_val))\n",
        "search_end = time.time()\n",
        "elapsed_time = search_end - search_start\n",
        "logger.info(f\"Elapsed time (s): {elapsed_time}\")"
      ],
      "execution_count": null,
      "outputs": [
        {
          "output_type": "stream",
          "text": [
            "Trial 20 Complete [00h 02m 28s]\n",
            "val_accuracy: 0.9893999993801117\n",
            "\n",
            "Best val_accuracy So Far: 0.9907999932765961\n",
            "Total elapsed time: 01h 09m 18s\n",
            "INFO:tensorflow:Oracle triggered exit\n"
          ],
          "name": "stdout"
        },
        {
          "output_type": "stream",
          "text": [
            "2021-07-22 12:04:53.338 | INFO     | __main__:<module>:7 - Elapsed time (s): 4158.764880657196\n"
          ],
          "name": "stderr"
        }
      ]
    },
    {
      "cell_type": "code",
      "metadata": {
        "colab": {
          "base_uri": "https://localhost:8080/"
        },
        "id": "74rVV2h23xcN",
        "outputId": "b255378b-00b6-4cbf-977b-e52089bc9330"
      },
      "source": [
        "# Show a summary of the search\n",
        "random_tuner.results_summary()"
      ],
      "execution_count": null,
      "outputs": [
        {
          "output_type": "stream",
          "text": [
            "Results summary\n",
            "Results in random_search/MNIST\n",
            "Showing 10 best trials\n",
            "Objective(name='val_accuracy', direction='max')\n",
            "Trial summary\n",
            "Hyperparameters:\n",
            "Con_1_filter: 48\n",
            "Conv_1_kernel: 3\n",
            "Conv_2_filter: 32\n",
            "Conv_2_kernel: 5\n",
            "dropout_1: 0.05\n",
            "Conv_3_filter: 32\n",
            "Conv_3_kernel: 3\n",
            "Conv_4_filter: 48\n",
            "Conv_4_kernel: 5\n",
            "dropout_2: 0.25\n",
            "dense_1_units: 384\n",
            "dense_activation: tanh\n",
            "dropout_3: 0.1\n",
            "learning_rate: 0.0005161743428272905\n",
            "Score: 0.9907999932765961\n",
            "Trial summary\n",
            "Hyperparameters:\n",
            "Con_1_filter: 48\n",
            "Conv_1_kernel: 5\n",
            "Conv_2_filter: 32\n",
            "Conv_2_kernel: 3\n",
            "dropout_1: 0.25\n",
            "Conv_3_filter: 64\n",
            "Conv_3_kernel: 3\n",
            "Conv_4_filter: 32\n",
            "Conv_4_kernel: 3\n",
            "dropout_2: 0.2\n",
            "dense_1_units: 480\n",
            "dense_activation: tanh\n",
            "dropout_3: 0.2\n",
            "learning_rate: 0.0004160740903870983\n",
            "Score: 0.9893999993801117\n",
            "Trial summary\n",
            "Hyperparameters:\n",
            "Con_1_filter: 80\n",
            "Conv_1_kernel: 5\n",
            "Conv_2_filter: 64\n",
            "Conv_2_kernel: 5\n",
            "dropout_1: 0.45\n",
            "Conv_3_filter: 32\n",
            "Conv_3_kernel: 3\n",
            "Conv_4_filter: 48\n",
            "Conv_4_kernel: 3\n",
            "dropout_2: 0.4\n",
            "dense_1_units: 384\n",
            "dense_activation: tanh\n",
            "dropout_3: 0.5\n",
            "learning_rate: 0.000254849985227742\n",
            "Score: 0.987500011920929\n",
            "Trial summary\n",
            "Hyperparameters:\n",
            "Con_1_filter: 48\n",
            "Conv_1_kernel: 3\n",
            "Conv_2_filter: 32\n",
            "Conv_2_kernel: 3\n",
            "dropout_1: 0.30000000000000004\n",
            "Conv_3_filter: 64\n",
            "Conv_3_kernel: 5\n",
            "Conv_4_filter: 32\n",
            "Conv_4_kernel: 5\n",
            "dropout_2: 0.30000000000000004\n",
            "dense_1_units: 256\n",
            "dense_activation: tanh\n",
            "dropout_3: 0.15000000000000002\n",
            "learning_rate: 0.00016355245798526342\n",
            "Score: 0.98335000872612\n",
            "Trial summary\n",
            "Hyperparameters:\n",
            "Con_1_filter: 128\n",
            "Conv_1_kernel: 5\n",
            "Conv_2_filter: 48\n",
            "Conv_2_kernel: 3\n",
            "dropout_1: 0.35000000000000003\n",
            "Conv_3_filter: 64\n",
            "Conv_3_kernel: 3\n",
            "Conv_4_filter: 64\n",
            "Conv_4_kernel: 5\n",
            "dropout_2: 0.35000000000000003\n",
            "dense_1_units: 224\n",
            "dense_activation: sigmoid\n",
            "dropout_3: 0.30000000000000004\n",
            "learning_rate: 0.00016823422054760656\n",
            "Score: 0.9791999757289886\n",
            "Trial summary\n",
            "Hyperparameters:\n",
            "Con_1_filter: 80\n",
            "Conv_1_kernel: 5\n",
            "Conv_2_filter: 32\n",
            "Conv_2_kernel: 5\n",
            "dropout_1: 0.0\n",
            "Conv_3_filter: 64\n",
            "Conv_3_kernel: 5\n",
            "Conv_4_filter: 48\n",
            "Conv_4_kernel: 5\n",
            "dropout_2: 0.35000000000000003\n",
            "dense_1_units: 160\n",
            "dense_activation: relu\n",
            "dropout_3: 0.15000000000000002\n",
            "learning_rate: 0.00013414267455355165\n",
            "Score: 0.9765499830245972\n",
            "Trial summary\n",
            "Hyperparameters:\n",
            "Con_1_filter: 32\n",
            "Conv_1_kernel: 3\n",
            "Conv_2_filter: 32\n",
            "Conv_2_kernel: 5\n",
            "dropout_1: 0.25\n",
            "Conv_3_filter: 64\n",
            "Conv_3_kernel: 5\n",
            "Conv_4_filter: 48\n",
            "Conv_4_kernel: 5\n",
            "dropout_2: 0.05\n",
            "dense_1_units: 64\n",
            "dense_activation: sigmoid\n",
            "dropout_3: 0.35000000000000003\n",
            "learning_rate: 0.006599917029213527\n",
            "Score: 0.10499999672174454\n",
            "Trial summary\n",
            "Hyperparameters:\n",
            "Con_1_filter: 64\n",
            "Conv_1_kernel: 3\n",
            "Conv_2_filter: 48\n",
            "Conv_2_kernel: 3\n",
            "dropout_1: 0.5\n",
            "Conv_3_filter: 64\n",
            "Conv_3_kernel: 5\n",
            "Conv_4_filter: 48\n",
            "Conv_4_kernel: 3\n",
            "dropout_2: 0.05\n",
            "dense_1_units: 160\n",
            "dense_activation: tanh\n",
            "dropout_3: 0.4\n",
            "learning_rate: 0.0009172617171127613\n",
            "Score: 0.10499999672174454\n",
            "Trial summary\n",
            "Hyperparameters:\n",
            "Con_1_filter: 32\n",
            "Conv_1_kernel: 3\n",
            "Conv_2_filter: 64\n",
            "Conv_2_kernel: 5\n",
            "dropout_1: 0.1\n",
            "Conv_3_filter: 48\n",
            "Conv_3_kernel: 5\n",
            "Conv_4_filter: 48\n",
            "Conv_4_kernel: 3\n",
            "dropout_2: 0.25\n",
            "dense_1_units: 64\n",
            "dense_activation: tanh\n",
            "dropout_3: 0.45\n",
            "learning_rate: 0.0013968619216753887\n",
            "Score: 0.10499999672174454\n",
            "Trial summary\n",
            "Hyperparameters:\n",
            "Con_1_filter: 80\n",
            "Conv_1_kernel: 5\n",
            "Conv_2_filter: 48\n",
            "Conv_2_kernel: 3\n",
            "dropout_1: 0.2\n",
            "Conv_3_filter: 32\n",
            "Conv_3_kernel: 3\n",
            "Conv_4_filter: 32\n",
            "Conv_4_kernel: 5\n",
            "dropout_2: 0.05\n",
            "dense_1_units: 32\n",
            "dense_activation: relu\n",
            "dropout_3: 0.1\n",
            "learning_rate: 0.003098269932407016\n",
            "Score: 0.10499999672174454\n"
          ],
          "name": "stdout"
        }
      ]
    },
    {
      "cell_type": "code",
      "metadata": {
        "id": "SRAZMk2R89en"
      },
      "source": [
        "best_model = random_tuner.get_best_models(num_models=1)[0]"
      ],
      "execution_count": null,
      "outputs": []
    },
    {
      "cell_type": "code",
      "metadata": {
        "colab": {
          "base_uri": "https://localhost:8080/"
        },
        "id": "y4gJoEuS9Hnm",
        "outputId": "4826959c-8b6e-43aa-eb87-916082785dc0"
      },
      "source": [
        "# Evaluate the best model.\n",
        "loss, accuracy = best_model.evaluate(X_test, Y_test)"
      ],
      "execution_count": null,
      "outputs": [
        {
          "output_type": "stream",
          "text": [
            "313/313 [==============================] - 1s 3ms/step - loss: 0.0301 - accuracy: 0.9916\n"
          ],
          "name": "stdout"
        }
      ]
    },
    {
      "cell_type": "code",
      "metadata": {
        "colab": {
          "base_uri": "https://localhost:8080/"
        },
        "id": "zK3HI3UeW-sx",
        "outputId": "efce7382-ab40-49b6-df82-348a6762c906"
      },
      "source": [
        "best_model.summary()"
      ],
      "execution_count": null,
      "outputs": [
        {
          "output_type": "stream",
          "text": [
            "Model: \"sequential\"\n",
            "_________________________________________________________________\n",
            "Layer (type)                 Output Shape              Param #   \n",
            "=================================================================\n",
            "module_wrapper (ModuleWrappe (None, 26, 26, 48)        480       \n",
            "_________________________________________________________________\n",
            "module_wrapper_1 (ModuleWrap (None, 22, 22, 32)        38432     \n",
            "_________________________________________________________________\n",
            "module_wrapper_2 (ModuleWrap (None, 11, 11, 32)        0         \n",
            "_________________________________________________________________\n",
            "module_wrapper_3 (ModuleWrap (None, 11, 11, 32)        0         \n",
            "_________________________________________________________________\n",
            "module_wrapper_4 (ModuleWrap (None, 9, 9, 32)          9248      \n",
            "_________________________________________________________________\n",
            "module_wrapper_5 (ModuleWrap (None, 5, 5, 48)          38448     \n",
            "_________________________________________________________________\n",
            "module_wrapper_6 (ModuleWrap (None, 2, 2, 48)          0         \n",
            "_________________________________________________________________\n",
            "module_wrapper_7 (ModuleWrap (None, 2, 2, 48)          0         \n",
            "_________________________________________________________________\n",
            "module_wrapper_8 (ModuleWrap (None, 192)               0         \n",
            "_________________________________________________________________\n",
            "module_wrapper_9 (ModuleWrap (None, 384)               74112     \n",
            "_________________________________________________________________\n",
            "module_wrapper_10 (ModuleWra (None, 384)               0         \n",
            "_________________________________________________________________\n",
            "module_wrapper_11 (ModuleWra (None, 10)                3850      \n",
            "=================================================================\n",
            "Total params: 164,570\n",
            "Trainable params: 164,570\n",
            "Non-trainable params: 0\n",
            "_________________________________________________________________\n"
          ],
          "name": "stdout"
        }
      ]
    },
    {
      "cell_type": "markdown",
      "metadata": {
        "id": "UNiZ0p1-25te"
      },
      "source": [
        "#Building a CNN with the best result in Random Search"
      ]
    },
    {
      "cell_type": "code",
      "metadata": {
        "id": "F7DkBaetGFFQ"
      },
      "source": [
        "def create_Model():\n",
        "    model = Sequential()\n",
        "    model.add(Conv2D(filters = 48 ,kernel_size = (3,3), activation='relu',input_shape= INPUT_SHAPE ))\n",
        "    model.add(Conv2D(filters = 32, kernel_size = (5,5), activation='relu'))\n",
        "    model.add(MaxPool2D(pool_size=2))\n",
        "    model.add(Dropout(rate = 0.05))\n",
        "    model.add(Conv2D(filters = 32, kernel_size = (3,3), activation='relu'))\n",
        "    model.add(Conv2D(filters = 48, kernel_size = (5,5), activation='relu'))\n",
        "    model.add(MaxPool2D(pool_size=2))\n",
        "    model.add(Dropout(rate = 0.25 ))\n",
        "    model.add(Flatten())\n",
        "    model.add(Dense(units = 384 ,activation= 'tanh'))\n",
        "    model.add(Dropout(rate = 0.1))\n",
        "    model.add(Dense(10, activation='softmax'))\n",
        "    model.compile(\n",
        "            optimizer=keras.optimizers.Adam(learning_rate= 0.0005161743428272905),\n",
        "            loss='categorical_crossentropy',\n",
        "            metrics=['accuracy']\n",
        "            )\n",
        "    return model\n",
        "\n",
        "Final_model = create_Model()"
      ],
      "execution_count": null,
      "outputs": []
    },
    {
      "cell_type": "markdown",
      "metadata": {
        "id": "cEG0ERBN3eOt"
      },
      "source": [
        "#Evaluating the new CNN Model"
      ]
    },
    {
      "cell_type": "code",
      "metadata": {
        "colab": {
          "base_uri": "https://localhost:8080/"
        },
        "id": "ZvxOyws0NepM",
        "outputId": "60fc52d9-ccda-448c-e157-2b3b007ba7f8"
      },
      "source": [
        "#evaluationg the model without the weights of random search\n",
        "n_epochs = 100\n",
        "NEW = Final_model.fit(X1_train,Y1_train,epochs= n_epochs,validation_data=(X_val,Y_val))"
      ],
      "execution_count": null,
      "outputs": [
        {
          "output_type": "stream",
          "text": [
            "Epoch 1/100\n",
            "1250/1250 [==============================] - 7s 5ms/step - loss: 0.6656 - accuracy: 0.7781 - val_loss: 0.2068 - val_accuracy: 0.9352\n",
            "Epoch 2/100\n",
            "1250/1250 [==============================] - 6s 4ms/step - loss: 0.2220 - accuracy: 0.9301 - val_loss: 0.1223 - val_accuracy: 0.9633\n",
            "Epoch 3/100\n",
            "1250/1250 [==============================] - 6s 4ms/step - loss: 0.1582 - accuracy: 0.9502 - val_loss: 0.0954 - val_accuracy: 0.9718\n",
            "Epoch 4/100\n",
            "1250/1250 [==============================] - 6s 4ms/step - loss: 0.1324 - accuracy: 0.9586 - val_loss: 0.0777 - val_accuracy: 0.9771\n",
            "Epoch 5/100\n",
            "1250/1250 [==============================] - 6s 4ms/step - loss: 0.1126 - accuracy: 0.9658 - val_loss: 0.0806 - val_accuracy: 0.9775\n",
            "Epoch 6/100\n",
            "1250/1250 [==============================] - 7s 5ms/step - loss: 0.1024 - accuracy: 0.9679 - val_loss: 0.0675 - val_accuracy: 0.9801\n",
            "Epoch 7/100\n",
            "1250/1250 [==============================] - 7s 5ms/step - loss: 0.0907 - accuracy: 0.9716 - val_loss: 0.0643 - val_accuracy: 0.9808\n",
            "Epoch 8/100\n",
            "1250/1250 [==============================] - 6s 5ms/step - loss: 0.0835 - accuracy: 0.9737 - val_loss: 0.0635 - val_accuracy: 0.9805\n",
            "Epoch 9/100\n",
            "1250/1250 [==============================] - 6s 5ms/step - loss: 0.0768 - accuracy: 0.9750 - val_loss: 0.0570 - val_accuracy: 0.9815\n",
            "Epoch 10/100\n",
            "1250/1250 [==============================] - 6s 5ms/step - loss: 0.0712 - accuracy: 0.9771 - val_loss: 0.0554 - val_accuracy: 0.9835\n",
            "Epoch 11/100\n",
            "1250/1250 [==============================] - 6s 5ms/step - loss: 0.0638 - accuracy: 0.9790 - val_loss: 0.0537 - val_accuracy: 0.9833\n",
            "Epoch 12/100\n",
            "1250/1250 [==============================] - 6s 5ms/step - loss: 0.0609 - accuracy: 0.9811 - val_loss: 0.0566 - val_accuracy: 0.9842\n",
            "Epoch 13/100\n",
            "1250/1250 [==============================] - 6s 4ms/step - loss: 0.0585 - accuracy: 0.9808 - val_loss: 0.0491 - val_accuracy: 0.9862\n",
            "Epoch 14/100\n",
            "1250/1250 [==============================] - 6s 4ms/step - loss: 0.0538 - accuracy: 0.9815 - val_loss: 0.0519 - val_accuracy: 0.9849\n",
            "Epoch 15/100\n",
            "1250/1250 [==============================] - 6s 4ms/step - loss: 0.0508 - accuracy: 0.9835 - val_loss: 0.0533 - val_accuracy: 0.9850\n",
            "Epoch 16/100\n",
            "1250/1250 [==============================] - 6s 5ms/step - loss: 0.0485 - accuracy: 0.9843 - val_loss: 0.0496 - val_accuracy: 0.9858\n",
            "Epoch 17/100\n",
            "1250/1250 [==============================] - 6s 5ms/step - loss: 0.0450 - accuracy: 0.9851 - val_loss: 0.0466 - val_accuracy: 0.9878\n",
            "Epoch 18/100\n",
            "1250/1250 [==============================] - 6s 5ms/step - loss: 0.0453 - accuracy: 0.9852 - val_loss: 0.0489 - val_accuracy: 0.9865\n",
            "Epoch 19/100\n",
            "1250/1250 [==============================] - 6s 5ms/step - loss: 0.0426 - accuracy: 0.9862 - val_loss: 0.0485 - val_accuracy: 0.9861\n",
            "Epoch 20/100\n",
            "1250/1250 [==============================] - 7s 5ms/step - loss: 0.0397 - accuracy: 0.9869 - val_loss: 0.0509 - val_accuracy: 0.9873\n",
            "Epoch 21/100\n",
            "1250/1250 [==============================] - 6s 5ms/step - loss: 0.0382 - accuracy: 0.9874 - val_loss: 0.0461 - val_accuracy: 0.9877\n",
            "Epoch 22/100\n",
            "1250/1250 [==============================] - 6s 4ms/step - loss: 0.0374 - accuracy: 0.9877 - val_loss: 0.0476 - val_accuracy: 0.9871\n",
            "Epoch 23/100\n",
            "1250/1250 [==============================] - 6s 4ms/step - loss: 0.0362 - accuracy: 0.9882 - val_loss: 0.0484 - val_accuracy: 0.9868\n",
            "Epoch 24/100\n",
            "1250/1250 [==============================] - 6s 4ms/step - loss: 0.0330 - accuracy: 0.9891 - val_loss: 0.0429 - val_accuracy: 0.9879\n",
            "Epoch 25/100\n",
            "1250/1250 [==============================] - 6s 4ms/step - loss: 0.0353 - accuracy: 0.9877 - val_loss: 0.0409 - val_accuracy: 0.9890\n",
            "Epoch 26/100\n",
            "1250/1250 [==============================] - 6s 4ms/step - loss: 0.0313 - accuracy: 0.9897 - val_loss: 0.0437 - val_accuracy: 0.9877\n",
            "Epoch 27/100\n",
            "1250/1250 [==============================] - 6s 4ms/step - loss: 0.0328 - accuracy: 0.9890 - val_loss: 0.0428 - val_accuracy: 0.9889\n",
            "Epoch 28/100\n",
            "1250/1250 [==============================] - 6s 5ms/step - loss: 0.0286 - accuracy: 0.9901 - val_loss: 0.0437 - val_accuracy: 0.9885\n",
            "Epoch 29/100\n",
            "1250/1250 [==============================] - 6s 5ms/step - loss: 0.0297 - accuracy: 0.9902 - val_loss: 0.0413 - val_accuracy: 0.9887\n",
            "Epoch 30/100\n",
            "1250/1250 [==============================] - 7s 5ms/step - loss: 0.0279 - accuracy: 0.9908 - val_loss: 0.0412 - val_accuracy: 0.9896\n",
            "Epoch 31/100\n",
            "1250/1250 [==============================] - 6s 5ms/step - loss: 0.0267 - accuracy: 0.9911 - val_loss: 0.0449 - val_accuracy: 0.9881\n",
            "Epoch 32/100\n",
            "1250/1250 [==============================] - 6s 5ms/step - loss: 0.0257 - accuracy: 0.9911 - val_loss: 0.0419 - val_accuracy: 0.9892\n",
            "Epoch 33/100\n",
            "1250/1250 [==============================] - 6s 4ms/step - loss: 0.0231 - accuracy: 0.9929 - val_loss: 0.0445 - val_accuracy: 0.9892\n",
            "Epoch 34/100\n",
            "1250/1250 [==============================] - 6s 5ms/step - loss: 0.0238 - accuracy: 0.9919 - val_loss: 0.0450 - val_accuracy: 0.9894\n",
            "Epoch 35/100\n",
            "1250/1250 [==============================] - 6s 5ms/step - loss: 0.0233 - accuracy: 0.9921 - val_loss: 0.0378 - val_accuracy: 0.9906\n",
            "Epoch 36/100\n",
            "1250/1250 [==============================] - 6s 4ms/step - loss: 0.0216 - accuracy: 0.9924 - val_loss: 0.0422 - val_accuracy: 0.9897\n",
            "Epoch 37/100\n",
            "1250/1250 [==============================] - 6s 4ms/step - loss: 0.0231 - accuracy: 0.9923 - val_loss: 0.0457 - val_accuracy: 0.9884\n",
            "Epoch 38/100\n",
            "1250/1250 [==============================] - 6s 4ms/step - loss: 0.0227 - accuracy: 0.9925 - val_loss: 0.0464 - val_accuracy: 0.9888\n",
            "Epoch 39/100\n",
            "1250/1250 [==============================] - 6s 5ms/step - loss: 0.0218 - accuracy: 0.9925 - val_loss: 0.0439 - val_accuracy: 0.9902\n",
            "Epoch 40/100\n",
            "1250/1250 [==============================] - 6s 5ms/step - loss: 0.0182 - accuracy: 0.9935 - val_loss: 0.0455 - val_accuracy: 0.9895\n",
            "Epoch 41/100\n",
            "1250/1250 [==============================] - 6s 5ms/step - loss: 0.0207 - accuracy: 0.9933 - val_loss: 0.0471 - val_accuracy: 0.9897\n",
            "Epoch 42/100\n",
            "1250/1250 [==============================] - 7s 5ms/step - loss: 0.0178 - accuracy: 0.9938 - val_loss: 0.0456 - val_accuracy: 0.9902\n",
            "Epoch 43/100\n",
            "1250/1250 [==============================] - 6s 5ms/step - loss: 0.0198 - accuracy: 0.9930 - val_loss: 0.0472 - val_accuracy: 0.9898\n",
            "Epoch 44/100\n",
            "1250/1250 [==============================] - 6s 5ms/step - loss: 0.0189 - accuracy: 0.9935 - val_loss: 0.0473 - val_accuracy: 0.9901\n",
            "Epoch 45/100\n",
            "1250/1250 [==============================] - 6s 5ms/step - loss: 0.0181 - accuracy: 0.9941 - val_loss: 0.0445 - val_accuracy: 0.9901\n",
            "Epoch 46/100\n",
            "1250/1250 [==============================] - 6s 5ms/step - loss: 0.0188 - accuracy: 0.9935 - val_loss: 0.0463 - val_accuracy: 0.9894\n",
            "Epoch 47/100\n",
            "1250/1250 [==============================] - 7s 5ms/step - loss: 0.0186 - accuracy: 0.9934 - val_loss: 0.0484 - val_accuracy: 0.9890\n",
            "Epoch 48/100\n",
            "1250/1250 [==============================] - 7s 5ms/step - loss: 0.0163 - accuracy: 0.9944 - val_loss: 0.0488 - val_accuracy: 0.9899\n",
            "Epoch 49/100\n",
            "1250/1250 [==============================] - 6s 5ms/step - loss: 0.0157 - accuracy: 0.9948 - val_loss: 0.0441 - val_accuracy: 0.9905\n",
            "Epoch 50/100\n",
            "1250/1250 [==============================] - 6s 5ms/step - loss: 0.0160 - accuracy: 0.9948 - val_loss: 0.0483 - val_accuracy: 0.9889\n",
            "Epoch 51/100\n",
            "1250/1250 [==============================] - 6s 5ms/step - loss: 0.0170 - accuracy: 0.9941 - val_loss: 0.0457 - val_accuracy: 0.9901\n",
            "Epoch 52/100\n",
            "1250/1250 [==============================] - 6s 5ms/step - loss: 0.0165 - accuracy: 0.9941 - val_loss: 0.0477 - val_accuracy: 0.9899\n",
            "Epoch 53/100\n",
            "1250/1250 [==============================] - 6s 5ms/step - loss: 0.0147 - accuracy: 0.9948 - val_loss: 0.0440 - val_accuracy: 0.9907\n",
            "Epoch 54/100\n",
            "1250/1250 [==============================] - 6s 5ms/step - loss: 0.0172 - accuracy: 0.9943 - val_loss: 0.0480 - val_accuracy: 0.9903\n",
            "Epoch 55/100\n",
            "1250/1250 [==============================] - 7s 5ms/step - loss: 0.0162 - accuracy: 0.9945 - val_loss: 0.0473 - val_accuracy: 0.9905\n",
            "Epoch 56/100\n",
            "1250/1250 [==============================] - 6s 5ms/step - loss: 0.0149 - accuracy: 0.9949 - val_loss: 0.0466 - val_accuracy: 0.9897\n",
            "Epoch 57/100\n",
            "1250/1250 [==============================] - 7s 5ms/step - loss: 0.0158 - accuracy: 0.9947 - val_loss: 0.0431 - val_accuracy: 0.9907\n",
            "Epoch 58/100\n",
            "1250/1250 [==============================] - 6s 5ms/step - loss: 0.0135 - accuracy: 0.9954 - val_loss: 0.0510 - val_accuracy: 0.9895\n",
            "Epoch 59/100\n",
            "1250/1250 [==============================] - 7s 5ms/step - loss: 0.0125 - accuracy: 0.9954 - val_loss: 0.0520 - val_accuracy: 0.9894\n",
            "Epoch 60/100\n",
            "1250/1250 [==============================] - 6s 5ms/step - loss: 0.0137 - accuracy: 0.9954 - val_loss: 0.0525 - val_accuracy: 0.9897\n",
            "Epoch 61/100\n",
            "1250/1250 [==============================] - 6s 5ms/step - loss: 0.0130 - accuracy: 0.9958 - val_loss: 0.0479 - val_accuracy: 0.9898\n",
            "Epoch 62/100\n",
            "1250/1250 [==============================] - 6s 5ms/step - loss: 0.0146 - accuracy: 0.9953 - val_loss: 0.0456 - val_accuracy: 0.9903\n",
            "Epoch 63/100\n",
            "1250/1250 [==============================] - 6s 4ms/step - loss: 0.0153 - accuracy: 0.9946 - val_loss: 0.0476 - val_accuracy: 0.9899\n",
            "Epoch 64/100\n",
            "1250/1250 [==============================] - 6s 4ms/step - loss: 0.0114 - accuracy: 0.9961 - val_loss: 0.0467 - val_accuracy: 0.9915\n",
            "Epoch 65/100\n",
            "1250/1250 [==============================] - 6s 4ms/step - loss: 0.0129 - accuracy: 0.9958 - val_loss: 0.0463 - val_accuracy: 0.9901\n",
            "Epoch 66/100\n",
            "1250/1250 [==============================] - 6s 5ms/step - loss: 0.0131 - accuracy: 0.9953 - val_loss: 0.0507 - val_accuracy: 0.9905\n",
            "Epoch 67/100\n",
            "1250/1250 [==============================] - 7s 5ms/step - loss: 0.0112 - accuracy: 0.9960 - val_loss: 0.0498 - val_accuracy: 0.9903\n",
            "Epoch 68/100\n",
            "1250/1250 [==============================] - 6s 5ms/step - loss: 0.0117 - accuracy: 0.9957 - val_loss: 0.0455 - val_accuracy: 0.9902\n",
            "Epoch 69/100\n",
            "1250/1250 [==============================] - 7s 5ms/step - loss: 0.0133 - accuracy: 0.9953 - val_loss: 0.0552 - val_accuracy: 0.9896\n",
            "Epoch 70/100\n",
            "1250/1250 [==============================] - 7s 5ms/step - loss: 0.0106 - accuracy: 0.9963 - val_loss: 0.0500 - val_accuracy: 0.9910\n",
            "Epoch 71/100\n",
            "1250/1250 [==============================] - 6s 5ms/step - loss: 0.0109 - accuracy: 0.9963 - val_loss: 0.0585 - val_accuracy: 0.9888\n",
            "Epoch 72/100\n",
            "1250/1250 [==============================] - 6s 4ms/step - loss: 0.0114 - accuracy: 0.9964 - val_loss: 0.0576 - val_accuracy: 0.9893\n",
            "Epoch 73/100\n",
            "1250/1250 [==============================] - 6s 5ms/step - loss: 0.0122 - accuracy: 0.9959 - val_loss: 0.0502 - val_accuracy: 0.9899\n",
            "Epoch 74/100\n",
            "1250/1250 [==============================] - 6s 4ms/step - loss: 0.0124 - accuracy: 0.9958 - val_loss: 0.0514 - val_accuracy: 0.9904\n",
            "Epoch 75/100\n",
            "1250/1250 [==============================] - 6s 5ms/step - loss: 0.0105 - accuracy: 0.9963 - val_loss: 0.0492 - val_accuracy: 0.9906\n",
            "Epoch 76/100\n",
            "1250/1250 [==============================] - 6s 4ms/step - loss: 0.0095 - accuracy: 0.9965 - val_loss: 0.0511 - val_accuracy: 0.9907\n",
            "Epoch 77/100\n",
            "1250/1250 [==============================] - 6s 4ms/step - loss: 0.0109 - accuracy: 0.9965 - val_loss: 0.0516 - val_accuracy: 0.9903\n",
            "Epoch 78/100\n",
            "1250/1250 [==============================] - 7s 5ms/step - loss: 0.0112 - accuracy: 0.9964 - val_loss: 0.0556 - val_accuracy: 0.9896\n",
            "Epoch 79/100\n",
            "1250/1250 [==============================] - 6s 5ms/step - loss: 0.0109 - accuracy: 0.9964 - val_loss: 0.0526 - val_accuracy: 0.9906\n",
            "Epoch 80/100\n",
            "1250/1250 [==============================] - 7s 5ms/step - loss: 0.0099 - accuracy: 0.9966 - val_loss: 0.0501 - val_accuracy: 0.9908\n",
            "Epoch 81/100\n",
            "1250/1250 [==============================] - 6s 5ms/step - loss: 0.0103 - accuracy: 0.9966 - val_loss: 0.0479 - val_accuracy: 0.9906\n",
            "Epoch 82/100\n",
            "1250/1250 [==============================] - 6s 5ms/step - loss: 0.0106 - accuracy: 0.9961 - val_loss: 0.0496 - val_accuracy: 0.9902\n",
            "Epoch 83/100\n",
            "1250/1250 [==============================] - 6s 5ms/step - loss: 0.0096 - accuracy: 0.9967 - val_loss: 0.0478 - val_accuracy: 0.9909\n",
            "Epoch 84/100\n",
            "1250/1250 [==============================] - 6s 5ms/step - loss: 0.0111 - accuracy: 0.9962 - val_loss: 0.0487 - val_accuracy: 0.9904\n",
            "Epoch 85/100\n",
            "1250/1250 [==============================] - 6s 5ms/step - loss: 0.0113 - accuracy: 0.9962 - val_loss: 0.0498 - val_accuracy: 0.9903\n",
            "Epoch 86/100\n",
            "1250/1250 [==============================] - 6s 5ms/step - loss: 0.0105 - accuracy: 0.9965 - val_loss: 0.0530 - val_accuracy: 0.9908\n",
            "Epoch 87/100\n",
            "1250/1250 [==============================] - 6s 5ms/step - loss: 0.0095 - accuracy: 0.9969 - val_loss: 0.0501 - val_accuracy: 0.9904\n",
            "Epoch 88/100\n",
            "1250/1250 [==============================] - 6s 5ms/step - loss: 0.0113 - accuracy: 0.9964 - val_loss: 0.0527 - val_accuracy: 0.9903\n",
            "Epoch 89/100\n",
            "1250/1250 [==============================] - 7s 5ms/step - loss: 0.0088 - accuracy: 0.9970 - val_loss: 0.0523 - val_accuracy: 0.9899\n",
            "Epoch 90/100\n",
            "1250/1250 [==============================] - 7s 5ms/step - loss: 0.0097 - accuracy: 0.9968 - val_loss: 0.0519 - val_accuracy: 0.9910\n",
            "Epoch 91/100\n",
            "1250/1250 [==============================] - 7s 5ms/step - loss: 0.0078 - accuracy: 0.9975 - val_loss: 0.0480 - val_accuracy: 0.9911\n",
            "Epoch 92/100\n",
            "1250/1250 [==============================] - 6s 5ms/step - loss: 0.0099 - accuracy: 0.9965 - val_loss: 0.0493 - val_accuracy: 0.9904\n",
            "Epoch 93/100\n",
            "1250/1250 [==============================] - 6s 5ms/step - loss: 0.0099 - accuracy: 0.9968 - val_loss: 0.0495 - val_accuracy: 0.9905\n",
            "Epoch 94/100\n",
            "1250/1250 [==============================] - 6s 5ms/step - loss: 0.0086 - accuracy: 0.9971 - val_loss: 0.0530 - val_accuracy: 0.9909\n",
            "Epoch 95/100\n",
            "1250/1250 [==============================] - 6s 5ms/step - loss: 0.0085 - accuracy: 0.9970 - val_loss: 0.0470 - val_accuracy: 0.9907\n",
            "Epoch 96/100\n",
            "1250/1250 [==============================] - 6s 4ms/step - loss: 0.0081 - accuracy: 0.9973 - val_loss: 0.0547 - val_accuracy: 0.9903\n",
            "Epoch 97/100\n",
            "1250/1250 [==============================] - 6s 4ms/step - loss: 0.0102 - accuracy: 0.9964 - val_loss: 0.0516 - val_accuracy: 0.9907\n",
            "Epoch 98/100\n",
            "1250/1250 [==============================] - 6s 5ms/step - loss: 0.0098 - accuracy: 0.9966 - val_loss: 0.0503 - val_accuracy: 0.9905\n",
            "Epoch 99/100\n",
            "1250/1250 [==============================] - 6s 5ms/step - loss: 0.0077 - accuracy: 0.9973 - val_loss: 0.0523 - val_accuracy: 0.9903\n",
            "Epoch 100/100\n",
            "1250/1250 [==============================] - 6s 5ms/step - loss: 0.0075 - accuracy: 0.9972 - val_loss: 0.0547 - val_accuracy: 0.9906\n"
          ],
          "name": "stdout"
        }
      ]
    },
    {
      "cell_type": "markdown",
      "metadata": {
        "id": "EEoEMizV4D1-"
      },
      "source": [
        "#Accuracy & Lost Plot"
      ]
    },
    {
      "cell_type": "code",
      "metadata": {
        "id": "uCyuB2A5hUrW"
      },
      "source": [
        "def plot_training_history(training_history, title='Training History'):\n",
        "    train_loss = training_history.history['loss']\n",
        "    valid_loss = training_history.history['val_loss']\n",
        "    train_acc = training_history.history['accuracy']\n",
        "    valid_acc = training_history.history['val_accuracy']\n",
        "\n",
        "    fig, (ax1, ax2) = plt.subplots(1, 2)\n",
        "    fig.suptitle(title)\n",
        "    fig.set_size_inches(15, 5)\n",
        "\n",
        "    ax1.plot(train_loss, label='Training Loss')\n",
        "    ax1.plot(valid_loss, label='Validation Loss')\n",
        "    ax1.set_title('Loss')\n",
        "    ax1.legend()\n",
        "\n",
        "    ax2.plot(train_acc, label='Training Accuracy')\n",
        "    ax2.plot(valid_acc, label='Validation Accuracy')\n",
        "    ax2.set_title('Accuracy')\n",
        "    ax2.legend()\n",
        "\n",
        "    fig.show()\n"
      ],
      "execution_count": null,
      "outputs": []
    },
    {
      "cell_type": "code",
      "metadata": {
        "colab": {
          "base_uri": "https://localhost:8080/",
          "height": 356
        },
        "id": "3pj1RFjxQHl2",
        "outputId": "344c7b94-5218-4311-e0e7-e755feeafcdd"
      },
      "source": [
        "plot_training_history(NEW)"
      ],
      "execution_count": null,
      "outputs": [
        {
          "output_type": "display_data",
          "data": {
            "image/png": "[encoded data removed]",
            "text/plain": [
              "<Figure size 1080x360 with 2 Axes>"
            ]
          },
          "metadata": {
            "tags": [],
            "needs_background": "light"
          }
        }
      ]
    },
    {
      "cell_type": "markdown",
      "metadata": {
        "id": "RtDD6fkTJKT6"
      },
      "source": [
        "Here two sets of accuracy and validation graphs are plotted after training the best model from random search,without keeping the weights obtained from tuning .As we can see from the graph, the 2nd model has performed better compared to the one without random search as training and validation accuracy increased to a point of stability with a minimal gap between the two final accuracy values."
      ]
    },
    {
      "cell_type": "markdown",
      "metadata": {
        "id": "CaS35CO04RNL"
      },
      "source": [
        "#Testing & predicting on freshly created CNN"
      ]
    },
    {
      "cell_type": "code",
      "metadata": {
        "colab": {
          "base_uri": "https://localhost:8080/"
        },
        "id": "6SXnmpx8Q4G6",
        "outputId": "55fd4740-89c1-4282-e7a6-4f6b528566b7"
      },
      "source": [
        "test_loss, test_accuracy = \\\n",
        "  Final_model.evaluate(X_test, Y_test, batch_size=64)\n",
        "print('Test loss: %.4f accuracy: %.4f' % (test_loss, test_accuracy))"
      ],
      "execution_count": null,
      "outputs": [
        {
          "output_type": "stream",
          "text": [
            "157/157 [==============================] - 1s 3ms/step - loss: 0.0445 - accuracy: 0.9909\n",
            "Test loss: 0.0445 accuracy: 0.9909\n"
          ],
          "name": "stdout"
        }
      ]
    },
    {
      "cell_type": "code",
      "metadata": {
        "id": "JYKd3HglQ8Wv"
      },
      "source": [
        "predictions = Final_model.predict(X_test)"
      ],
      "execution_count": null,
      "outputs": []
    },
    {
      "cell_type": "code",
      "metadata": {
        "colab": {
          "base_uri": "https://localhost:8080/",
          "height": 301
        },
        "id": "k74-qqg9sEjN",
        "outputId": "054df75a-0f5a-4e36-a5a3-f07d62452325"
      },
      "source": [
        "plt.imshow(X_test[0].reshape(28,28))\n",
        "print('Actual Label :' ,Y_test[0])\n",
        "print('Predicted Label :' ,np.argmax(predictions[0]))"
      ],
      "execution_count": null,
      "outputs": [
        {
          "output_type": "stream",
          "text": [
            "Actual Label : [1. 0. 0. 0. 0. 0. 0. 0. 0. 0.]\n",
            "Predicted Label : 0\n"
          ],
          "name": "stdout"
        },
        {
          "output_type": "display_data",
          "data": {
            "image/png": "[encoded data removed]",
            "text/plain": [
              "<Figure size 432x288 with 1 Axes>"
            ]
          },
          "metadata": {
            "tags": [],
            "needs_background": "light"
          }
        }
      ]
    },
    {
      "cell_type": "code",
      "metadata": {
        "colab": {
          "base_uri": "https://localhost:8080/",
          "height": 301
        },
        "id": "8jL412lLtFoe",
        "outputId": "1a9509b1-453d-4751-d95b-6613e96079d0"
      },
      "source": [
        "plt.imshow(X_test[9999].reshape(28,28))\n",
        "print('Actual Label :' ,Y_test[9999])\n",
        "print('Predicted Label :' ,np.argmax(predictions[9999]))"
      ],
      "execution_count": null,
      "outputs": [
        {
          "output_type": "stream",
          "text": [
            "Actual Label : [0. 0. 0. 0. 0. 0. 0. 0. 0. 1.]\n",
            "Predicted Label : 9\n"
          ],
          "name": "stdout"
        },
        {
          "output_type": "display_data",
          "data": {
            "image/png": "[encoded data removed]",
            "text/plain": [
              "<Figure size 432x288 with 1 Axes>"
            ]
          },
          "metadata": {
            "tags": [],
            "needs_background": "light"
          }
        }
      ]
    },
    {
      "cell_type": "code",
      "metadata": {
        "colab": {
          "base_uri": "https://localhost:8080/"
        },
        "id": "j9iQryJQWKQv",
        "outputId": "7605de55-5476-485d-8678-3f95cb3bd851"
      },
      "source": [
        "#checking accuracy of first 100 predictions\n",
        "first20_preds = np.argmax(predictions, axis=1)[:100]\n",
        "first20_true = np.argmax(Y_test,axis=1)[:100]\n",
        "print(first20_preds)\n",
        "print(first20_true)"
      ],
      "execution_count": null,
      "outputs": [
        {
          "output_type": "stream",
          "text": [
            "[0 0 0 0 0 0 0 0 0 0 0 0 0 0 0 0 0 0 0 0 0 0 0 0 0 0 0 0 0 0 0 0 0 0 0 0 0\n",
            " 0 0 0 0 0 0 0 0 0 0 0 0 0 0 0 0 0 0 0 0 0 0 0 0 0 0 0 0 0 0 0 0 0 0 0 0 0\n",
            " 0 0 0 0 0 0 0 0 0 0 0 0 0 0 0 0 0 0 0 0 0 0 0 0 0 0]\n",
            "[0 0 0 0 0 0 0 0 0 0 0 0 0 0 0 0 0 0 0 0 0 0 0 0 0 0 0 0 0 0 0 0 0 0 0 0 0\n",
            " 0 0 0 0 0 0 0 0 0 0 0 0 0 0 0 0 0 0 0 0 0 0 0 0 0 0 0 0 0 0 0 0 0 0 0 0 0\n",
            " 0 0 0 0 0 0 0 0 0 0 0 0 0 0 0 0 0 0 0 0 0 0 0 0 0 0]\n"
          ],
          "name": "stdout"
        }
      ]
    },
    {
      "cell_type": "markdown",
      "metadata": {
        "id": "26LW4g5IIt4j"
      },
      "source": [
        "So we have achieved 99.09% accuracy on our test data and pretty good fitting of train and validation curves which indicate that our model has generalised well.\n",
        "We also got 100% accuracy on our first 100 predictions."
      ]
    },
    {
      "cell_type": "markdown",
      "metadata": {
        "id": "wQbG3tJE4iuV"
      },
      "source": [
        "#No of Mismatches"
      ]
    },
    {
      "cell_type": "code",
      "metadata": {
        "colab": {
          "base_uri": "https://localhost:8080/"
        },
        "id": "QNpJw0HmWfn_",
        "outputId": "138550ee-188e-4497-a8e8-730a69040d59"
      },
      "source": [
        "(np.argmax(predictions, axis=1) != \\\n",
        "                        np.argmax(Y_test,axis=1)).sum()"
      ],
      "execution_count": null,
      "outputs": [
        {
          "output_type": "execute_result",
          "data": {
            "text/plain": [
              "91"
            ]
          },
          "metadata": {
            "tags": []
          },
          "execution_count": 67
        }
      ]
    },
    {
      "cell_type": "markdown",
      "metadata": {
        "id": "g2Jy9WKvCm_A"
      },
      "source": [
        "We got 91/10000 incorrect predictions which is pretty good."
      ]
    }
  ]
}
