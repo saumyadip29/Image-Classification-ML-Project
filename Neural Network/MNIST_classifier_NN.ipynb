{
  "nbformat": 4,
  "nbformat_minor": 0,
  "metadata": {
    "colab": {
      "name": "MNIST_classifier_NN.ipynb",
      "provenance": [],
      "collapsed_sections": []
    },
    "kernelspec": {
      "name": "python3",
      "display_name": "Python 3"
    },
    "language_info": {
      "name": "python"
    },
    "accelerator": "GPU"
  },
  "cells": [
    {
      "cell_type": "markdown",
      "metadata": {
        "id": "_v3Ow9iX1qwT"
      },
      "source": [
        "# Introduction"
      ]
    },
    {
      "cell_type": "code",
      "metadata": {
        "id": "cxa1rsyEn1rO",
        "colab": {
          "base_uri": "https://localhost:8080/"
        },
        "outputId": "9f8eb2ba-bddb-4c7a-b56f-4a504ea4e699"
      },
      "source": [
        "from google.colab import drive\n",
        "drive.mount('/gdrive')\n",
        "root = '/gdrive/My Drive/Colab Notebooks/MNIST-classification'"
      ],
      "execution_count": null,
      "outputs": [
        {
          "output_type": "stream",
          "text": [
            "Drive already mounted at /gdrive; to attempt to forcibly remount, call drive.mount(\"/gdrive\", force_remount=True).\n"
          ],
          "name": "stdout"
        }
      ]
    },
    {
      "cell_type": "markdown",
      "metadata": {
        "id": "yVlhWIY-1w4B"
      },
      "source": [
        "# Importing Libraries and Data"
      ]
    },
    {
      "cell_type": "code",
      "metadata": {
        "id": "Zc0RRvL6oc-f"
      },
      "source": [
        "# generel utility libraries\n",
        "import numpy as np\n",
        "import pandas as pd\n",
        "import matplotlib.pyplot as plt\n",
        "from sklearn.preprocessing import StandardScaler, MinMaxScaler\n",
        "from sklearn.model_selection import StratifiedShuffleSplit\n",
        "from utils import show_example, plot_training_history\n",
        "from IPython.display import clear_output\n",
        "\n",
        "# keras\n",
        "import tensorflow as tf\n",
        "from tensorflow import keras\n",
        "from tensorflow.keras import layers\n",
        "from tensorflow.keras.models import Sequential\n",
        "\n",
        "# keras tuner\n",
        "!pip install keras-tuner\n",
        "clear_output()\n",
        "from keras_tuner import HyperModel, RandomSearch\n",
        "\n",
        "# function to read matlab data file\n",
        "from scipy.io import loadmat"
      ],
      "execution_count": null,
      "outputs": []
    },
    {
      "cell_type": "code",
      "metadata": {
        "colab": {
          "base_uri": "https://localhost:8080/"
        },
        "id": "JC17RjDYoKMR",
        "outputId": "b48be023-01d2-4e8f-b4e2-3bcc84cc44a6"
      },
      "source": [
        "X = loadmat(f'{root}/data/mnist_training_data.mat')['training_data']\n",
        "y = loadmat(f'{root}/data/mnist_training_label.mat')['training_label']\n",
        "\n",
        "X_test = loadmat(f'{root}/data/mnist_test_data.mat')['test_data']\n",
        "y_test = loadmat(f'{root}/data/mnist_test_label.mat')['test_label']\n",
        "\n",
        "train_size, n_features = X.shape\n",
        "test_size, _ = X_test.shape\n",
        "seed = 0\n",
        "\n",
        "shuffled_indices = np.random.permutation(train_size)\n",
        "X = X[shuffled_indices]\n",
        "y = y[shuffled_indices]\n",
        "\n",
        "print(f\"No. of features:\\t\\t{n_features}\")\n",
        "print(f\"No. of training examples:\\t{train_size}\")\n",
        "print(f\"No. of test examples:\\t\\t{test_size}\")"
      ],
      "execution_count": null,
      "outputs": [
        {
          "output_type": "stream",
          "text": [
            "No. of features:\t\t784\n",
            "No. of training examples:\t50000\n",
            "No. of test examples:\t\t10000\n"
          ],
          "name": "stdout"
        }
      ]
    },
    {
      "cell_type": "code",
      "metadata": {
        "colab": {
          "base_uri": "https://localhost:8080/",
          "height": 341
        },
        "id": "65Q606GFob4D",
        "outputId": "20c95fa6-14cc-4aeb-c569-ec604d9d8042"
      },
      "source": [
        "show_example(X, y)"
      ],
      "execution_count": null,
      "outputs": [
        {
          "output_type": "display_data",
          "data": {
            "image/png": "[encoded data removed]",
            "text/plain": [
              "<Figure size 864x360 with 12 Axes>"
            ]
          },
          "metadata": {
            "tags": [],
            "needs_background": "light"
          }
        }
      ]
    },
    {
      "cell_type": "markdown",
      "metadata": {
        "id": "eoW4BqPO15OY"
      },
      "source": [
        "# Configuring GPU"
      ]
    },
    {
      "cell_type": "code",
      "metadata": {
        "colab": {
          "base_uri": "https://localhost:8080/"
        },
        "id": "bt0DHTg51fw4",
        "outputId": "1752014f-2e42-42ec-b482-060b740568b0"
      },
      "source": [
        "physical_devices = tf.config.experimental.list_physical_devices('GPU')\n",
        "print(f\"No. of GPUs available: {len(physical_devices)}\")\n",
        "if physical_devices:\n",
        "    tf.config.experimental.set_memory_growth(physical_devices[0], True)"
      ],
      "execution_count": null,
      "outputs": [
        {
          "output_type": "stream",
          "text": [
            "No. of GPUs available: 1\n"
          ],
          "name": "stdout"
        }
      ]
    },
    {
      "cell_type": "markdown",
      "metadata": {
        "id": "Y4Wd6-wH2KO3"
      },
      "source": [
        "# Selecting Model Architecture by Cross-validation\n",
        "\n",
        "We select number of hidden layers and number of units in each layers by cross validation. We chose to vary number of hidden layers from 1 to 10 and for each number of layers we search for the optimum number of hidden units in each layer. The number of units in each hidden layer are chosen from the set $\\{16i : i=1(1)32\\}$. We take the model resulting the maximum validation accuracy for each number of layers."
      ]
    },
    {
      "cell_type": "code",
      "metadata": {
        "id": "JjkgvSWN1lup"
      },
      "source": [
        "sss = StratifiedShuffleSplit(n_splits=1, test_size=0.1, random_state=seed)\n",
        "train_idx, val_idx = [*sss.split(X, y)][0]\n",
        "\n",
        "X_train, X_val = X[train_idx, :], X[val_idx, :]\n",
        "y_train, y_val = y[train_idx, :], y[val_idx, :]\n",
        "\n",
        "scaler = MinMaxScaler()\n",
        "Z_train = scaler.fit_transform(X_train)\n",
        "Z_val  = scaler.transform(X_val)\n",
        "Z_test = scaler.transform(X_test)\n",
        "\n",
        "import pickle\n",
        "with open(f'{root}/models/scaler_wo_pca.pkl', 'wb') as f:\n",
        "    pickle.dump(scaler, f)"
      ],
      "execution_count": null,
      "outputs": []
    },
    {
      "cell_type": "markdown",
      "metadata": {
        "id": "eIoCBt2-2n3_"
      },
      "source": [
        "## Building Hypermodel and Searching for the Best Model "
      ]
    },
    {
      "cell_type": "code",
      "metadata": {
        "id": "7_LM9dJC2b62"
      },
      "source": [
        "class MyHyperModel(HyperModel):\n",
        "    def __init__(self, classes, layers):\n",
        "        self.classes = classes\n",
        "        self.layers = layers\n",
        "\n",
        "    def build(self, hp):\n",
        "        # Build Model\n",
        "        model = keras.Sequential()\n",
        "        for i in range(self.layers):\n",
        "            model.add(layers.Dense(\n",
        "                units=hp.Choice(\n",
        "                    f\"layer_{i+1:02}\", \n",
        "                    values=list(range(16, 513, 16))\n",
        "                ),\n",
        "                kernel_initializer='he_uniform',\n",
        "                activation='relu'\n",
        "            ))\n",
        "        model.add(layers.Dense(self.classes, activation='softmax'))\n",
        "\n",
        "        # Compile Model\n",
        "        model.compile(\n",
        "            optimizer=keras.optimizers.Adam(0.001),\n",
        "            loss=\"sparse_categorical_crossentropy\",\n",
        "            metrics=[\"accuracy\"],\n",
        "        )\n",
        "        return model"
      ],
      "execution_count": null,
      "outputs": []
    },
    {
      "cell_type": "code",
      "metadata": {
        "colab": {
          "base_uri": "https://localhost:8080/"
        },
        "id": "vOKxADLg2zOD",
        "outputId": "8c283a38-2e81-4654-ba08-963edd712cf2"
      },
      "source": [
        "params = {}\n",
        "for i in range(10):\n",
        "    print(f\"Number of Hidden Layers: {i+1}\")\n",
        "    hypermodel = MyHyperModel(10, i+1)\n",
        "\n",
        "    tuner = RandomSearch(\n",
        "        hypermodel,\n",
        "        objective='val_accuracy',\n",
        "        max_trials=20,\n",
        "        overwrite=True\n",
        "    )\n",
        "\n",
        "    es = keras.callbacks.EarlyStopping(patience=20, restore_best_weights=True)\n",
        "    tuner.search(\n",
        "        Z_train, y_train, validation_data=(Z_val, y_val),\n",
        "        epochs=500, batch_size=5000, verbose=1 , callbacks=[es]\n",
        "    )\n",
        "    params[i+1] = tuner.get_best_hyperparameters()[0].values"
      ],
      "execution_count": null,
      "outputs": [
        {
          "output_type": "stream",
          "text": [
            "Trial 20 Complete [00h 00m 07s]\n",
            "val_accuracy: 0.9688000082969666\n",
            "\n",
            "Best val_accuracy So Far: 0.9778000116348267\n",
            "Total elapsed time: 00h 03m 26s\n",
            "INFO:tensorflow:Oracle triggered exit\n"
          ],
          "name": "stdout"
        }
      ]
    },
    {
      "cell_type": "markdown",
      "metadata": {
        "id": "FMCukpIlLFFa"
      },
      "source": [
        "## Creating Models from the Best Model Architectures"
      ]
    },
    {
      "cell_type": "code",
      "metadata": {
        "id": "gmeBBcSF6Yay"
      },
      "source": [
        "def create_model(input_size, num_units):\n",
        "    model = Sequential()\n",
        "    model.add(layers.InputLayer(input_size))\n",
        "    for units in num_units.values():\n",
        "        model.add(layers.Dense(\n",
        "            units, \n",
        "            activation='relu', \n",
        "            kernel_initializer='he_uniform'\n",
        "        ))\n",
        "    model.add(layers.Dense(10, activation='softmax'))\n",
        "    return model\n",
        "\n",
        "models = []\n",
        "for num_units in params.values():\n",
        "    model = create_model(n_features, num_units)\n",
        "    models.append(model)"
      ],
      "execution_count": null,
      "outputs": []
    },
    {
      "cell_type": "code",
      "metadata": {
        "id": "D_NNnvxF6r2C",
        "colab": {
          "base_uri": "https://localhost:8080/"
        },
        "outputId": "1e012037-cda8-4ae5-8c98-d99e875e7fd5"
      },
      "source": [
        "for model in models:\n",
        "    print(model.summary())"
      ],
      "execution_count": null,
      "outputs": [
        {
          "output_type": "stream",
          "text": [
            "Model: \"sequential_1\"\n",
            "_________________________________________________________________\n",
            "Layer (type)                 Output Shape              Param #   \n",
            "=================================================================\n",
            "dense_11 (Dense)             (None, 400)               314000    \n",
            "_________________________________________________________________\n",
            "dense_12 (Dense)             (None, 10)                4010      \n",
            "=================================================================\n",
            "Total params: 318,010\n",
            "Trainable params: 318,010\n",
            "Non-trainable params: 0\n",
            "_________________________________________________________________\n",
            "None\n",
            "Model: \"sequential_2\"\n",
            "_________________________________________________________________\n",
            "Layer (type)                 Output Shape              Param #   \n",
            "=================================================================\n",
            "dense_13 (Dense)             (None, 352)               276320    \n",
            "_________________________________________________________________\n",
            "dense_14 (Dense)             (None, 400)               141200    \n",
            "_________________________________________________________________\n",
            "dense_15 (Dense)             (None, 10)                4010      \n",
            "=================================================================\n",
            "Total params: 421,530\n",
            "Trainable params: 421,530\n",
            "Non-trainable params: 0\n",
            "_________________________________________________________________\n",
            "None\n",
            "Model: \"sequential_3\"\n",
            "_________________________________________________________________\n",
            "Layer (type)                 Output Shape              Param #   \n",
            "=================================================================\n",
            "dense_16 (Dense)             (None, 288)               226080    \n",
            "_________________________________________________________________\n",
            "dense_17 (Dense)             (None, 304)               87856     \n",
            "_________________________________________________________________\n",
            "dense_18 (Dense)             (None, 512)               156160    \n",
            "_________________________________________________________________\n",
            "dense_19 (Dense)             (None, 10)                5130      \n",
            "=================================================================\n",
            "Total params: 475,226\n",
            "Trainable params: 475,226\n",
            "Non-trainable params: 0\n",
            "_________________________________________________________________\n",
            "None\n",
            "Model: \"sequential_4\"\n",
            "_________________________________________________________________\n",
            "Layer (type)                 Output Shape              Param #   \n",
            "=================================================================\n",
            "dense_20 (Dense)             (None, 272)               213520    \n",
            "_________________________________________________________________\n",
            "dense_21 (Dense)             (None, 496)               135408    \n",
            "_________________________________________________________________\n",
            "dense_22 (Dense)             (None, 80)                39760     \n",
            "_________________________________________________________________\n",
            "dense_23 (Dense)             (None, 32)                2592      \n",
            "_________________________________________________________________\n",
            "dense_24 (Dense)             (None, 10)                330       \n",
            "=================================================================\n",
            "Total params: 391,610\n",
            "Trainable params: 391,610\n",
            "Non-trainable params: 0\n",
            "_________________________________________________________________\n",
            "None\n",
            "Model: \"sequential_5\"\n",
            "_________________________________________________________________\n",
            "Layer (type)                 Output Shape              Param #   \n",
            "=================================================================\n",
            "dense_25 (Dense)             (None, 432)               339120    \n",
            "_________________________________________________________________\n",
            "dense_26 (Dense)             (None, 400)               173200    \n",
            "_________________________________________________________________\n",
            "dense_27 (Dense)             (None, 192)               76992     \n",
            "_________________________________________________________________\n",
            "dense_28 (Dense)             (None, 176)               33968     \n",
            "_________________________________________________________________\n",
            "dense_29 (Dense)             (None, 400)               70800     \n",
            "_________________________________________________________________\n",
            "dense_30 (Dense)             (None, 10)                4010      \n",
            "=================================================================\n",
            "Total params: 698,090\n",
            "Trainable params: 698,090\n",
            "Non-trainable params: 0\n",
            "_________________________________________________________________\n",
            "None\n",
            "Model: \"sequential_6\"\n",
            "_________________________________________________________________\n",
            "Layer (type)                 Output Shape              Param #   \n",
            "=================================================================\n",
            "dense_31 (Dense)             (None, 464)               364240    \n",
            "_________________________________________________________________\n",
            "dense_32 (Dense)             (None, 496)               230640    \n",
            "_________________________________________________________________\n",
            "dense_33 (Dense)             (None, 432)               214704    \n",
            "_________________________________________________________________\n",
            "dense_34 (Dense)             (None, 496)               214768    \n",
            "_________________________________________________________________\n",
            "dense_35 (Dense)             (None, 144)               71568     \n",
            "_________________________________________________________________\n",
            "dense_36 (Dense)             (None, 512)               74240     \n",
            "_________________________________________________________________\n",
            "dense_37 (Dense)             (None, 10)                5130      \n",
            "=================================================================\n",
            "Total params: 1,175,290\n",
            "Trainable params: 1,175,290\n",
            "Non-trainable params: 0\n",
            "_________________________________________________________________\n",
            "None\n",
            "Model: \"sequential_7\"\n",
            "_________________________________________________________________\n",
            "Layer (type)                 Output Shape              Param #   \n",
            "=================================================================\n",
            "dense_38 (Dense)             (None, 480)               376800    \n",
            "_________________________________________________________________\n",
            "dense_39 (Dense)             (None, 240)               115440    \n",
            "_________________________________________________________________\n",
            "dense_40 (Dense)             (None, 304)               73264     \n",
            "_________________________________________________________________\n",
            "dense_41 (Dense)             (None, 112)               34160     \n",
            "_________________________________________________________________\n",
            "dense_42 (Dense)             (None, 304)               34352     \n",
            "_________________________________________________________________\n",
            "dense_43 (Dense)             (None, 64)                19520     \n",
            "_________________________________________________________________\n",
            "dense_44 (Dense)             (None, 384)               24960     \n",
            "_________________________________________________________________\n",
            "dense_45 (Dense)             (None, 10)                3850      \n",
            "=================================================================\n",
            "Total params: 682,346\n",
            "Trainable params: 682,346\n",
            "Non-trainable params: 0\n",
            "_________________________________________________________________\n",
            "None\n",
            "Model: \"sequential_8\"\n",
            "_________________________________________________________________\n",
            "Layer (type)                 Output Shape              Param #   \n",
            "=================================================================\n",
            "dense_46 (Dense)             (None, 496)               389360    \n",
            "_________________________________________________________________\n",
            "dense_47 (Dense)             (None, 112)               55664     \n",
            "_________________________________________________________________\n",
            "dense_48 (Dense)             (None, 512)               57856     \n",
            "_________________________________________________________________\n",
            "dense_49 (Dense)             (None, 400)               205200    \n",
            "_________________________________________________________________\n",
            "dense_50 (Dense)             (None, 176)               70576     \n",
            "_________________________________________________________________\n",
            "dense_51 (Dense)             (None, 288)               50976     \n",
            "_________________________________________________________________\n",
            "dense_52 (Dense)             (None, 272)               78608     \n",
            "_________________________________________________________________\n",
            "dense_53 (Dense)             (None, 144)               39312     \n",
            "_________________________________________________________________\n",
            "dense_54 (Dense)             (None, 10)                1450      \n",
            "=================================================================\n",
            "Total params: 949,002\n",
            "Trainable params: 949,002\n",
            "Non-trainable params: 0\n",
            "_________________________________________________________________\n",
            "None\n",
            "Model: \"sequential_9\"\n",
            "_________________________________________________________________\n",
            "Layer (type)                 Output Shape              Param #   \n",
            "=================================================================\n",
            "dense_55 (Dense)             (None, 512)               401920    \n",
            "_________________________________________________________________\n",
            "dense_56 (Dense)             (None, 208)               106704    \n",
            "_________________________________________________________________\n",
            "dense_57 (Dense)             (None, 288)               60192     \n",
            "_________________________________________________________________\n",
            "dense_58 (Dense)             (None, 384)               110976    \n",
            "_________________________________________________________________\n",
            "dense_59 (Dense)             (None, 112)               43120     \n",
            "_________________________________________________________________\n",
            "dense_60 (Dense)             (None, 368)               41584     \n",
            "_________________________________________________________________\n",
            "dense_61 (Dense)             (None, 432)               159408    \n",
            "_________________________________________________________________\n",
            "dense_62 (Dense)             (None, 240)               103920    \n",
            "_________________________________________________________________\n",
            "dense_63 (Dense)             (None, 192)               46272     \n",
            "_________________________________________________________________\n",
            "dense_64 (Dense)             (None, 10)                1930      \n",
            "=================================================================\n",
            "Total params: 1,076,026\n",
            "Trainable params: 1,076,026\n",
            "Non-trainable params: 0\n",
            "_________________________________________________________________\n",
            "None\n",
            "Model: \"sequential_10\"\n",
            "_________________________________________________________________\n",
            "Layer (type)                 Output Shape              Param #   \n",
            "=================================================================\n",
            "dense_65 (Dense)             (None, 512)               401920    \n",
            "_________________________________________________________________\n",
            "dense_66 (Dense)             (None, 240)               123120    \n",
            "_________________________________________________________________\n",
            "dense_67 (Dense)             (None, 368)               88688     \n",
            "_________________________________________________________________\n",
            "dense_68 (Dense)             (None, 368)               135792    \n",
            "_________________________________________________________________\n",
            "dense_69 (Dense)             (None, 480)               177120    \n",
            "_________________________________________________________________\n",
            "dense_70 (Dense)             (None, 368)               177008    \n",
            "_________________________________________________________________\n",
            "dense_71 (Dense)             (None, 512)               188928    \n",
            "_________________________________________________________________\n",
            "dense_72 (Dense)             (None, 208)               106704    \n",
            "_________________________________________________________________\n",
            "dense_73 (Dense)             (None, 288)               60192     \n",
            "_________________________________________________________________\n",
            "dense_74 (Dense)             (None, 256)               73984     \n",
            "_________________________________________________________________\n",
            "dense_75 (Dense)             (None, 10)                2570      \n",
            "=================================================================\n",
            "Total params: 1,536,026\n",
            "Trainable params: 1,536,026\n",
            "Non-trainable params: 0\n",
            "_________________________________________________________________\n",
            "None\n"
          ],
          "name": "stdout"
        }
      ]
    },
    {
      "cell_type": "markdown",
      "metadata": {
        "id": "qNMQaPyyMGQn"
      },
      "source": [
        "## Training the Models"
      ]
    },
    {
      "cell_type": "code",
      "metadata": {
        "id": "S43x6MMC6sr_"
      },
      "source": [
        "es = keras.callbacks.EarlyStopping(\n",
        "    monitor='val_accuracy', \n",
        "    mode='auto', \n",
        "    patience=20, \n",
        "    verbose=1, \n",
        "    restore_best_weights=True\n",
        ")"
      ],
      "execution_count": null,
      "outputs": []
    },
    {
      "cell_type": "code",
      "metadata": {
        "id": "oFcABuVE7djw"
      },
      "source": [
        "metrics = pd.DataFrame(columns=['n_layers', 'train_loss', 'train_acc', \n",
        "                                'val_loss', 'val_acc'])\n",
        "\n",
        "for i, model in enumerate(models):\n",
        "    print(f\"Training Model {i+1}:\")\n",
        "\n",
        "    model.compile(\n",
        "        optimizer=keras.optimizers.Adam(learning_rate=0.001), \n",
        "        loss='sparse_categorical_crossentropy', \n",
        "        metrics=['accuracy']\n",
        "    )\n",
        "\n",
        "    # training the model\n",
        "    training_history = model.fit(\n",
        "        Z_train, y_train, validation_data=(Z_val, y_val),\n",
        "        epochs=500, batch_size=5000,\n",
        "        shuffle=True, verbose=1, callbacks=[es]\n",
        "    )\n",
        "    # Storing the training history in the model\n",
        "    model.training_history = training_history\n",
        "    clear_output()\n",
        "\n",
        "    # Get and store acurracies and losses\n",
        "    train_loss, train_acc = model.evaluate(Z_train, y_train)\n",
        "    valid_loss, valid_acc = model.evaluate(Z_val, y_val)\n",
        "    clear_output()\n",
        "\n",
        "    metrics = metrics.append(dict(\n",
        "        n_layers=len(model.layers) - 1,\n",
        "        train_loss=train_loss,\n",
        "        train_acc=train_acc,\n",
        "        val_loss=valid_loss,\n",
        "        val_acc=valid_acc\n",
        "    ), ignore_index=True)"
      ],
      "execution_count": null,
      "outputs": []
    },
    {
      "cell_type": "markdown",
      "metadata": {
        "id": "a5tuNTSqMngB"
      },
      "source": [
        "The training and validation accuracies and losses are stored in `metrics` for each number of layers. We compare the metrices and pick the model with best validation accuracy."
      ]
    },
    {
      "cell_type": "code",
      "metadata": {
        "id": "qA7OnAQZg31N",
        "colab": {
          "base_uri": "https://localhost:8080/",
          "height": 390
        },
        "outputId": "9f864c19-7f97-4cdb-c32f-f050da2433e5"
      },
      "source": [
        "results = metrics.set_index('n_layers')\n",
        "results"
      ],
      "execution_count": null,
      "outputs": [
        {
          "output_type": "execute_result",
          "data": {
            "text/html": [
              "<div>\n",
              "<style scoped>\n",
              "    .dataframe tbody tr th:only-of-type {\n",
              "        vertical-align: middle;\n",
              "    }\n",
              "\n",
              "    .dataframe tbody tr th {\n",
              "        vertical-align: top;\n",
              "    }\n",
              "\n",
              "    .dataframe thead th {\n",
              "        text-align: right;\n",
              "    }\n",
              "</style>\n",
              "<table border=\"1\" class=\"dataframe\">\n",
              "  <thead>\n",
              "    <tr style=\"text-align: right;\">\n",
              "      <th></th>\n",
              "      <th>train_loss</th>\n",
              "      <th>train_acc</th>\n",
              "      <th>val_loss</th>\n",
              "      <th>val_acc</th>\n",
              "    </tr>\n",
              "    <tr>\n",
              "      <th>n_layers</th>\n",
              "      <th></th>\n",
              "      <th></th>\n",
              "      <th></th>\n",
              "      <th></th>\n",
              "    </tr>\n",
              "  </thead>\n",
              "  <tbody>\n",
              "    <tr>\n",
              "      <th>1.0</th>\n",
              "      <td>0.006056</td>\n",
              "      <td>0.999822</td>\n",
              "      <td>0.083939</td>\n",
              "      <td>0.9810</td>\n",
              "    </tr>\n",
              "    <tr>\n",
              "      <th>2.0</th>\n",
              "      <td>0.000305</td>\n",
              "      <td>1.000000</td>\n",
              "      <td>0.119788</td>\n",
              "      <td>0.9786</td>\n",
              "    </tr>\n",
              "    <tr>\n",
              "      <th>3.0</th>\n",
              "      <td>0.000606</td>\n",
              "      <td>1.000000</td>\n",
              "      <td>0.114720</td>\n",
              "      <td>0.9798</td>\n",
              "    </tr>\n",
              "    <tr>\n",
              "      <th>4.0</th>\n",
              "      <td>0.016660</td>\n",
              "      <td>0.996978</td>\n",
              "      <td>0.101640</td>\n",
              "      <td>0.9748</td>\n",
              "    </tr>\n",
              "    <tr>\n",
              "      <th>5.0</th>\n",
              "      <td>0.001290</td>\n",
              "      <td>1.000000</td>\n",
              "      <td>0.111174</td>\n",
              "      <td>0.9772</td>\n",
              "    </tr>\n",
              "    <tr>\n",
              "      <th>6.0</th>\n",
              "      <td>0.001064</td>\n",
              "      <td>1.000000</td>\n",
              "      <td>0.109570</td>\n",
              "      <td>0.9782</td>\n",
              "    </tr>\n",
              "    <tr>\n",
              "      <th>7.0</th>\n",
              "      <td>0.000173</td>\n",
              "      <td>1.000000</td>\n",
              "      <td>0.138724</td>\n",
              "      <td>0.9778</td>\n",
              "    </tr>\n",
              "    <tr>\n",
              "      <th>8.0</th>\n",
              "      <td>0.000302</td>\n",
              "      <td>1.000000</td>\n",
              "      <td>0.151155</td>\n",
              "      <td>0.9754</td>\n",
              "    </tr>\n",
              "    <tr>\n",
              "      <th>9.0</th>\n",
              "      <td>0.000778</td>\n",
              "      <td>0.999933</td>\n",
              "      <td>0.155676</td>\n",
              "      <td>0.9752</td>\n",
              "    </tr>\n",
              "    <tr>\n",
              "      <th>10.0</th>\n",
              "      <td>0.000149</td>\n",
              "      <td>1.000000</td>\n",
              "      <td>0.171767</td>\n",
              "      <td>0.9754</td>\n",
              "    </tr>\n",
              "  </tbody>\n",
              "</table>\n",
              "</div>"
            ],
            "text/plain": [
              "          train_loss  train_acc  val_loss  val_acc\n",
              "n_layers                                          \n",
              "1.0         0.006056   0.999822  0.083939   0.9810\n",
              "2.0         0.000305   1.000000  0.119788   0.9786\n",
              "3.0         0.000606   1.000000  0.114720   0.9798\n",
              "4.0         0.016660   0.996978  0.101640   0.9748\n",
              "5.0         0.001290   1.000000  0.111174   0.9772\n",
              "6.0         0.001064   1.000000  0.109570   0.9782\n",
              "7.0         0.000173   1.000000  0.138724   0.9778\n",
              "8.0         0.000302   1.000000  0.151155   0.9754\n",
              "9.0         0.000778   0.999933  0.155676   0.9752\n",
              "10.0        0.000149   1.000000  0.171767   0.9754"
            ]
          },
          "metadata": {
            "tags": []
          },
          "execution_count": 21
        }
      ]
    },
    {
      "cell_type": "code",
      "metadata": {
        "id": "bOM-dZR3Xppc",
        "colab": {
          "base_uri": "https://localhost:8080/",
          "height": 370
        },
        "outputId": "03594650-316b-4c44-a194-e720d26f8fba"
      },
      "source": [
        "fig, (ax1, ax2) = plt.subplots(1, 2)\n",
        "fig.suptitle(\"Model Performance vs Number of Layers\")\n",
        "fig.set_size_inches(15, 5)\n",
        "\n",
        "ax1.plot(results['train_loss'], label='Training Loss')\n",
        "ax1.plot(results['val_loss'], label='Validation Loss')\n",
        "ax1.set_xlabel('Number of Layers')\n",
        "ax1.set_xticks(results.index)\n",
        "ax1.set_title('Loss')\n",
        "ax1.legend()\n",
        "\n",
        "ax2.plot(results['train_acc'], label='Training Accuracy')\n",
        "ax2.plot(results['val_acc'], label='Validation Accuracy')\n",
        "ax2.set_xlabel('Number of Layers')\n",
        "ax2.set_xticks(results.index)\n",
        "ax2.set_title('Accuracy')\n",
        "ax2.legend()\n",
        "\n",
        "fig.show()"
      ],
      "execution_count": null,
      "outputs": [
        {
          "output_type": "display_data",
          "data": {
            "image/png": "[encoded data removed]",
            "text/plain": [
              "<Figure size 1080x360 with 2 Axes>"
            ]
          },
          "metadata": {
            "tags": [],
            "needs_background": "light"
          }
        }
      ]
    },
    {
      "cell_type": "code",
      "metadata": {
        "id": "ElH5eR94pquf"
      },
      "source": [
        "num_layers = 1"
      ],
      "execution_count": null,
      "outputs": []
    },
    {
      "cell_type": "markdown",
      "metadata": {
        "id": "miyWlDf7WFVm"
      },
      "source": [
        "We have plotted the metrics for each number of layers. From the figure it is apparent that validation accuracy is maximum with number of hidden layers 1, 2 and 6 and the validation loss is minimum among these choices when number of hidden layers is 2. Hence we take 2 hidden layers in our model with number of units 432, 272 respectively."
      ]
    },
    {
      "cell_type": "markdown",
      "metadata": {
        "id": "B84QSmueNfN_"
      },
      "source": [
        "# Picking Best Model"
      ]
    },
    {
      "cell_type": "code",
      "metadata": {
        "id": "OPbNqqeuDu3y",
        "colab": {
          "base_uri": "https://localhost:8080/"
        },
        "outputId": "5f01f25e-ac76-4cbc-d1dc-8f92269ca35c"
      },
      "source": [
        "model = models[num_layers - 1]\n",
        "model.summary()"
      ],
      "execution_count": null,
      "outputs": [
        {
          "output_type": "stream",
          "text": [
            "Model: \"sequential_1\"\n",
            "_________________________________________________________________\n",
            "Layer (type)                 Output Shape              Param #   \n",
            "=================================================================\n",
            "dense_11 (Dense)             (None, 400)               314000    \n",
            "_________________________________________________________________\n",
            "dense_12 (Dense)             (None, 10)                4010      \n",
            "=================================================================\n",
            "Total params: 318,010\n",
            "Trainable params: 318,010\n",
            "Non-trainable params: 0\n",
            "_________________________________________________________________\n"
          ],
          "name": "stdout"
        }
      ]
    },
    {
      "cell_type": "markdown",
      "metadata": {
        "id": "8UgFEBkZO6-0"
      },
      "source": [
        "# Training History and Model Performace"
      ]
    },
    {
      "cell_type": "code",
      "metadata": {
        "id": "Dr00VPNKJGz_",
        "colab": {
          "base_uri": "https://localhost:8080/",
          "height": 356
        },
        "outputId": "3f2efe86-1c43-420b-d21f-6af0beebfff7"
      },
      "source": [
        "plot_training_history(model.training_history)"
      ],
      "execution_count": null,
      "outputs": [
        {
          "output_type": "display_data",
          "data": {
            "image/png": "[encoded data removed]",
            "text/plain": [
              "<Figure size 1080x360 with 2 Axes>"
            ]
          },
          "metadata": {
            "tags": [],
            "needs_background": "light"
          }
        }
      ]
    },
    {
      "cell_type": "code",
      "metadata": {
        "id": "V5kq6a92JeFp",
        "colab": {
          "base_uri": "https://localhost:8080/"
        },
        "outputId": "b05459b9-2324-405a-c0d7-9906b5ffb08a"
      },
      "source": [
        "nn_train_loss, nn_train_acc = model.evaluate(Z_train, y_train, verbose=0)\n",
        "nn_test_loss,  nn_test_acc  = model.evaluate(Z_test,  y_test,  verbose=0)\n",
        "\n",
        "print(f\"Training Accuracy: {nn_train_acc:2.2%}\")\n",
        "print(f\"Test Accuracy:     {nn_test_acc :2.2%}\")\n",
        "print(f\"Training Loss: {nn_train_loss:.6}\")\n",
        "print(f\"Test Loss:     {nn_test_loss :.6}\")"
      ],
      "execution_count": null,
      "outputs": [
        {
          "output_type": "stream",
          "text": [
            "Training Accuracy: 99.98%\n",
            "Test Accuracy:     97.91%\n",
            "Training Loss: 0.00605645\n",
            "Test Loss:     0.0700082\n"
          ],
          "name": "stdout"
        }
      ]
    },
    {
      "cell_type": "code",
      "metadata": {
        "id": "TDv-5AJiPkPe",
        "colab": {
          "base_uri": "https://localhost:8080/",
          "height": 344
        },
        "outputId": "0e2992e2-6f90-4413-e013-e7f1f8788bcf"
      },
      "source": [
        "y_pred = np.argmax(model.predict(X_test), axis=1)\n",
        "show_example(X_test, y_test, y_pred)"
      ],
      "execution_count": null,
      "outputs": [
        {
          "output_type": "display_data",
          "data": {
            "image/png": "[encoded data removed]",
            "text/plain": [
              "<Figure size 864x360 with 12 Axes>"
            ]
          },
          "metadata": {
            "tags": [],
            "needs_background": "light"
          }
        }
      ]
    },
    {
      "cell_type": "markdown",
      "metadata": {
        "id": "e-l3rvSqOwP9"
      },
      "source": [
        "# Saving Trained Model"
      ]
    },
    {
      "cell_type": "code",
      "metadata": {
        "id": "qH6kW66DKjZI",
        "colab": {
          "base_uri": "https://localhost:8080/"
        },
        "outputId": "6fcf0507-fe57-4e73-c960-dfa372221227"
      },
      "source": [
        "model.save(f'{root}/models/nn_unrotated_model_wo_pca')"
      ],
      "execution_count": null,
      "outputs": [
        {
          "output_type": "stream",
          "text": [
            "INFO:tensorflow:Assets written to: /gdrive/My Drive/Colab Notebooks/MNIST-classification/models/nn_unrotated_model_wo_pca/assets\n"
          ],
          "name": "stdout"
        }
      ]
    },
    {
      "cell_type": "markdown",
      "metadata": {
        "id": "Y-9djEpNlBfZ"
      },
      "source": [
        "# Training Model with Dimension Reduction\n",
        "\n",
        "The previous model was built with all the features taken into account. But there may be some features (in this case pixels) that varies less than some other features. Those features not only less useful in training the classifier but also works as noise that may hinder the model performance. To check if there actually is some feature like that we plot the standard daviation for each feature."
      ]
    },
    {
      "cell_type": "code",
      "metadata": {
        "id": "Zu23FiHKCJw8",
        "colab": {
          "base_uri": "https://localhost:8080/",
          "height": 295
        },
        "outputId": "e07d3696-f17b-4e72-9a6d-cd6f80890e9e"
      },
      "source": [
        "plt.plot(np.std(X, axis=0))\n",
        "plt.title('Variance vs Features')\n",
        "plt.xlabel('Features')\n",
        "plt.ylabel('Variance')\n",
        "plt.show()"
      ],
      "execution_count": null,
      "outputs": [
        {
          "output_type": "display_data",
          "data": {
            "image/png": "[encoded data removed]",
            "text/plain": [
              "<Figure size 432x288 with 1 Axes>"
            ]
          },
          "metadata": {
            "tags": [],
            "needs_background": "light"
          }
        }
      ]
    },
    {
      "cell_type": "markdown",
      "metadata": {
        "id": "DJ4thG_QY1pR"
      },
      "source": [
        "It is apparent from the figure that some features (or pixels) have very small standard daviation compared to some others. A possible reason may be that the corner or edge pixels have less importance than the pixels in the middle to explain the subject. We apply PCA algorithm to filter out features so that 90% variablity is retained."
      ]
    },
    {
      "cell_type": "code",
      "metadata": {
        "id": "rJksB9tTA21u",
        "colab": {
          "base_uri": "https://localhost:8080/"
        },
        "outputId": "07737da6-8a88-4b68-f49d-85207b0be45e"
      },
      "source": [
        "from sklearn.pipeline import make_pipeline\n",
        "from sklearn.decomposition import PCA\n",
        "\n",
        "pipe = make_pipeline(\n",
        "    StandardScaler(),\n",
        "    PCA(n_components=0.90)\n",
        "    # MinMaxScaler()\n",
        ")\n",
        "Z_train = pipe.fit_transform(X_train)\n",
        "Z_test = pipe.transform(X_test)\n",
        "Z_val = pipe.transform(X_val)\n",
        "\n",
        "import pickle\n",
        "with open(f'{root}/models/scaler_w_pca.pkl', 'wb') as f:\n",
        "    pickle.dump(pipe, f)\n",
        "\n",
        "_, n_features = Z_train.shape\n",
        "\n",
        "print(f\"No. of features:\\t\\t{n_features}\")\n",
        "print(f\"No. of training examples:\\t{train_size}\")\n",
        "print(f\"No. of test examples:\\t\\t{test_size}\")"
      ],
      "execution_count": null,
      "outputs": [
        {
          "output_type": "stream",
          "text": [
            "No. of features:\t\t232\n",
            "No. of training examples:\t50000\n",
            "No. of test examples:\t\t10000\n"
          ],
          "name": "stdout"
        }
      ]
    },
    {
      "cell_type": "markdown",
      "metadata": {
        "id": "AlB4-VITa1V5"
      },
      "source": [
        "As we can see the number of features is reduced from 784 to 232 with 90% variablity still retained."
      ]
    },
    {
      "cell_type": "markdown",
      "metadata": {
        "id": "aMoZYKLsbj2i"
      },
      "source": [
        "# Selecting Model Architecture by Cross-validation (with Dimension Reduction)\n"
      ]
    },
    {
      "cell_type": "markdown",
      "metadata": {
        "id": "NTFRxEcpceIK"
      },
      "source": [
        "## Searching for the Best Model "
      ]
    },
    {
      "cell_type": "code",
      "metadata": {
        "id": "DVd9JAAvoGOZ",
        "colab": {
          "base_uri": "https://localhost:8080/"
        },
        "outputId": "210245cf-93cc-4202-868e-c568eccfde6e"
      },
      "source": [
        "params = {}\n",
        "for i in range(10):\n",
        "    print(f\"Number of Hidden Layers: {i+1}\")\n",
        "    hypermodel = MyHyperModel(10, i+1)\n",
        "\n",
        "    tuner = RandomSearch(\n",
        "        hypermodel,\n",
        "        objective='val_accuracy',\n",
        "        max_trials=20,\n",
        "        overwrite=True\n",
        "    )\n",
        "\n",
        "    es = keras.callbacks.EarlyStopping(patience=20, restore_best_weights=True)\n",
        "    tuner.search(\n",
        "        Z_train, y_train, validation_data=(Z_val, y_val),\n",
        "        epochs=10000, batch_size=5000, verbose=1, callbacks=[es]\n",
        "    )\n",
        "    params[i+1] = tuner.get_best_hyperparameters()[0].values"
      ],
      "execution_count": null,
      "outputs": [
        {
          "output_type": "stream",
          "text": [
            "Trial 20 Complete [00h 00m 11s]\n",
            "val_accuracy: 0.9485999941825867\n",
            "\n",
            "Best val_accuracy So Far: 0.9670000076293945\n",
            "Total elapsed time: 00h 02m 42s\n",
            "INFO:tensorflow:Oracle triggered exit\n"
          ],
          "name": "stdout"
        }
      ]
    },
    {
      "cell_type": "markdown",
      "metadata": {
        "id": "FHfNbSX2ckLI"
      },
      "source": [
        "## Creating Models from the Best Model Architecture"
      ]
    },
    {
      "cell_type": "code",
      "metadata": {
        "id": "PWTD4s57oRkN"
      },
      "source": [
        "models = []\n",
        "for num_units in params.values():\n",
        "    model = create_model(n_features, num_units)\n",
        "    models.append(model)"
      ],
      "execution_count": null,
      "outputs": []
    },
    {
      "cell_type": "code",
      "metadata": {
        "id": "UYMCBnXroe_K",
        "colab": {
          "base_uri": "https://localhost:8080/"
        },
        "outputId": "5cef6222-722d-46d6-9fd8-95b86d025e83"
      },
      "source": [
        "for model in models:\n",
        "    print(model.summary())"
      ],
      "execution_count": null,
      "outputs": [
        {
          "output_type": "stream",
          "text": [
            "Model: \"sequential_1\"\n",
            "_________________________________________________________________\n",
            "Layer (type)                 Output Shape              Param #   \n",
            "=================================================================\n",
            "dense_11 (Dense)             (None, 384)               89472     \n",
            "_________________________________________________________________\n",
            "dense_12 (Dense)             (None, 10)                3850      \n",
            "=================================================================\n",
            "Total params: 93,322\n",
            "Trainable params: 93,322\n",
            "Non-trainable params: 0\n",
            "_________________________________________________________________\n",
            "None\n",
            "Model: \"sequential_2\"\n",
            "_________________________________________________________________\n",
            "Layer (type)                 Output Shape              Param #   \n",
            "=================================================================\n",
            "dense_13 (Dense)             (None, 320)               74560     \n",
            "_________________________________________________________________\n",
            "dense_14 (Dense)             (None, 400)               128400    \n",
            "_________________________________________________________________\n",
            "dense_15 (Dense)             (None, 10)                4010      \n",
            "=================================================================\n",
            "Total params: 206,970\n",
            "Trainable params: 206,970\n",
            "Non-trainable params: 0\n",
            "_________________________________________________________________\n",
            "None\n",
            "Model: \"sequential_3\"\n",
            "_________________________________________________________________\n",
            "Layer (type)                 Output Shape              Param #   \n",
            "=================================================================\n",
            "dense_16 (Dense)             (None, 304)               70832     \n",
            "_________________________________________________________________\n",
            "dense_17 (Dense)             (None, 496)               151280    \n",
            "_________________________________________________________________\n",
            "dense_18 (Dense)             (None, 464)               230608    \n",
            "_________________________________________________________________\n",
            "dense_19 (Dense)             (None, 10)                4650      \n",
            "=================================================================\n",
            "Total params: 457,370\n",
            "Trainable params: 457,370\n",
            "Non-trainable params: 0\n",
            "_________________________________________________________________\n",
            "None\n",
            "Model: \"sequential_4\"\n",
            "_________________________________________________________________\n",
            "Layer (type)                 Output Shape              Param #   \n",
            "=================================================================\n",
            "dense_20 (Dense)             (None, 352)               82016     \n",
            "_________________________________________________________________\n",
            "dense_21 (Dense)             (None, 336)               118608    \n",
            "_________________________________________________________________\n",
            "dense_22 (Dense)             (None, 288)               97056     \n",
            "_________________________________________________________________\n",
            "dense_23 (Dense)             (None, 160)               46240     \n",
            "_________________________________________________________________\n",
            "dense_24 (Dense)             (None, 10)                1610      \n",
            "=================================================================\n",
            "Total params: 345,530\n",
            "Trainable params: 345,530\n",
            "Non-trainable params: 0\n",
            "_________________________________________________________________\n",
            "None\n",
            "Model: \"sequential_5\"\n",
            "_________________________________________________________________\n",
            "Layer (type)                 Output Shape              Param #   \n",
            "=================================================================\n",
            "dense_25 (Dense)             (None, 512)               119296    \n",
            "_________________________________________________________________\n",
            "dense_26 (Dense)             (None, 432)               221616    \n",
            "_________________________________________________________________\n",
            "dense_27 (Dense)             (None, 240)               103920    \n",
            "_________________________________________________________________\n",
            "dense_28 (Dense)             (None, 416)               100256    \n",
            "_________________________________________________________________\n",
            "dense_29 (Dense)             (None, 400)               166800    \n",
            "_________________________________________________________________\n",
            "dense_30 (Dense)             (None, 10)                4010      \n",
            "=================================================================\n",
            "Total params: 715,898\n",
            "Trainable params: 715,898\n",
            "Non-trainable params: 0\n",
            "_________________________________________________________________\n",
            "None\n",
            "Model: \"sequential_6\"\n",
            "_________________________________________________________________\n",
            "Layer (type)                 Output Shape              Param #   \n",
            "=================================================================\n",
            "dense_31 (Dense)             (None, 512)               119296    \n",
            "_________________________________________________________________\n",
            "dense_32 (Dense)             (None, 432)               221616    \n",
            "_________________________________________________________________\n",
            "dense_33 (Dense)             (None, 496)               214768    \n",
            "_________________________________________________________________\n",
            "dense_34 (Dense)             (None, 368)               182896    \n",
            "_________________________________________________________________\n",
            "dense_35 (Dense)             (None, 48)                17712     \n",
            "_________________________________________________________________\n",
            "dense_36 (Dense)             (None, 464)               22736     \n",
            "_________________________________________________________________\n",
            "dense_37 (Dense)             (None, 10)                4650      \n",
            "=================================================================\n",
            "Total params: 783,674\n",
            "Trainable params: 783,674\n",
            "Non-trainable params: 0\n",
            "_________________________________________________________________\n",
            "None\n",
            "Model: \"sequential_7\"\n",
            "_________________________________________________________________\n",
            "Layer (type)                 Output Shape              Param #   \n",
            "=================================================================\n",
            "dense_38 (Dense)             (None, 416)               96928     \n",
            "_________________________________________________________________\n",
            "dense_39 (Dense)             (None, 480)               200160    \n",
            "_________________________________________________________________\n",
            "dense_40 (Dense)             (None, 160)               76960     \n",
            "_________________________________________________________________\n",
            "dense_41 (Dense)             (None, 48)                7728      \n",
            "_________________________________________________________________\n",
            "dense_42 (Dense)             (None, 432)               21168     \n",
            "_________________________________________________________________\n",
            "dense_43 (Dense)             (None, 464)               200912    \n",
            "_________________________________________________________________\n",
            "dense_44 (Dense)             (None, 48)                22320     \n",
            "_________________________________________________________________\n",
            "dense_45 (Dense)             (None, 10)                490       \n",
            "=================================================================\n",
            "Total params: 626,666\n",
            "Trainable params: 626,666\n",
            "Non-trainable params: 0\n",
            "_________________________________________________________________\n",
            "None\n",
            "Model: \"sequential_8\"\n",
            "_________________________________________________________________\n",
            "Layer (type)                 Output Shape              Param #   \n",
            "=================================================================\n",
            "dense_46 (Dense)             (None, 448)               104384    \n",
            "_________________________________________________________________\n",
            "dense_47 (Dense)             (None, 304)               136496    \n",
            "_________________________________________________________________\n",
            "dense_48 (Dense)             (None, 192)               58560     \n",
            "_________________________________________________________________\n",
            "dense_49 (Dense)             (None, 480)               92640     \n",
            "_________________________________________________________________\n",
            "dense_50 (Dense)             (None, 320)               153920    \n",
            "_________________________________________________________________\n",
            "dense_51 (Dense)             (None, 384)               123264    \n",
            "_________________________________________________________________\n",
            "dense_52 (Dense)             (None, 160)               61600     \n",
            "_________________________________________________________________\n",
            "dense_53 (Dense)             (None, 320)               51520     \n",
            "_________________________________________________________________\n",
            "dense_54 (Dense)             (None, 10)                3210      \n",
            "=================================================================\n",
            "Total params: 785,594\n",
            "Trainable params: 785,594\n",
            "Non-trainable params: 0\n",
            "_________________________________________________________________\n",
            "None\n",
            "Model: \"sequential_9\"\n",
            "_________________________________________________________________\n",
            "Layer (type)                 Output Shape              Param #   \n",
            "=================================================================\n",
            "dense_55 (Dense)             (None, 448)               104384    \n",
            "_________________________________________________________________\n",
            "dense_56 (Dense)             (None, 304)               136496    \n",
            "_________________________________________________________________\n",
            "dense_57 (Dense)             (None, 192)               58560     \n",
            "_________________________________________________________________\n",
            "dense_58 (Dense)             (None, 480)               92640     \n",
            "_________________________________________________________________\n",
            "dense_59 (Dense)             (None, 320)               153920    \n",
            "_________________________________________________________________\n",
            "dense_60 (Dense)             (None, 384)               123264    \n",
            "_________________________________________________________________\n",
            "dense_61 (Dense)             (None, 160)               61600     \n",
            "_________________________________________________________________\n",
            "dense_62 (Dense)             (None, 320)               51520     \n",
            "_________________________________________________________________\n",
            "dense_63 (Dense)             (None, 432)               138672    \n",
            "_________________________________________________________________\n",
            "dense_64 (Dense)             (None, 10)                4330      \n",
            "=================================================================\n",
            "Total params: 925,386\n",
            "Trainable params: 925,386\n",
            "Non-trainable params: 0\n",
            "_________________________________________________________________\n",
            "None\n",
            "Model: \"sequential_10\"\n",
            "_________________________________________________________________\n",
            "Layer (type)                 Output Shape              Param #   \n",
            "=================================================================\n",
            "dense_65 (Dense)             (None, 320)               74560     \n",
            "_________________________________________________________________\n",
            "dense_66 (Dense)             (None, 464)               148944    \n",
            "_________________________________________________________________\n",
            "dense_67 (Dense)             (None, 512)               238080    \n",
            "_________________________________________________________________\n",
            "dense_68 (Dense)             (None, 48)                24624     \n",
            "_________________________________________________________________\n",
            "dense_69 (Dense)             (None, 416)               20384     \n",
            "_________________________________________________________________\n",
            "dense_70 (Dense)             (None, 272)               113424    \n",
            "_________________________________________________________________\n",
            "dense_71 (Dense)             (None, 288)               78624     \n",
            "_________________________________________________________________\n",
            "dense_72 (Dense)             (None, 192)               55488     \n",
            "_________________________________________________________________\n",
            "dense_73 (Dense)             (None, 336)               64848     \n",
            "_________________________________________________________________\n",
            "dense_74 (Dense)             (None, 352)               118624    \n",
            "_________________________________________________________________\n",
            "dense_75 (Dense)             (None, 10)                3530      \n",
            "=================================================================\n",
            "Total params: 941,130\n",
            "Trainable params: 941,130\n",
            "Non-trainable params: 0\n",
            "_________________________________________________________________\n",
            "None\n"
          ],
          "name": "stdout"
        }
      ]
    },
    {
      "cell_type": "markdown",
      "metadata": {
        "id": "P6hywROVcuWZ"
      },
      "source": [
        "## Training the Models"
      ]
    },
    {
      "cell_type": "code",
      "metadata": {
        "id": "yiPcXmDQoftg"
      },
      "source": [
        "metrics = pd.DataFrame(columns=['n_layers', 'train_loss', 'train_acc', \n",
        "                                'val_loss', 'val_acc'])\n",
        "\n",
        "for i, model in enumerate(models):\n",
        "\n",
        "    print(f\"Training Model {i+1}:\")\n",
        "\n",
        "    model.compile(\n",
        "        optimizer=keras.optimizers.Adam(learning_rate=0.001), \n",
        "        loss='sparse_categorical_crossentropy', \n",
        "        metrics=['accuracy']\n",
        "    )\n",
        "\n",
        "    # training the model\n",
        "    training_history = model.fit(\n",
        "        Z_train, y_train, validation_data=(Z_val, y_val),\n",
        "        epochs=500, batch_size=10000,\n",
        "        shuffle=True, verbose=1, callbacks=[es]\n",
        "    )\n",
        "    # Storing the training history in the model\n",
        "    model.training_history = training_history\n",
        "    clear_output()\n",
        "\n",
        "    # Get and store acurracies and losses\n",
        "    train_loss, train_acc = model.evaluate(Z_train, y_train)\n",
        "    valid_loss, valid_acc = model.evaluate(Z_val, y_val)\n",
        "    clear_output()\n",
        "\n",
        "    metrics = metrics.append(dict(\n",
        "        n_layers=len(model.layers) - 1,\n",
        "        train_loss=train_loss,\n",
        "        train_acc=train_acc,\n",
        "        val_loss=valid_loss,\n",
        "        val_acc=valid_acc\n",
        "    ), ignore_index=True)"
      ],
      "execution_count": null,
      "outputs": []
    },
    {
      "cell_type": "markdown",
      "metadata": {
        "id": "qK6EG60Cc6Bg"
      },
      "source": [
        "The training and validation accuracies and losses are stored in `metrics` for each number of layers. We compare the metrices and pick the model with best validation accuracy."
      ]
    },
    {
      "cell_type": "code",
      "metadata": {
        "id": "c_unIi6Lo6TN",
        "colab": {
          "base_uri": "https://localhost:8080/",
          "height": 390
        },
        "outputId": "fb072b3f-ba60-4ab8-fbf4-6eca5bd40b2b"
      },
      "source": [
        "results = metrics.set_index('n_layers')\n",
        "num_layers = results['val_acc'].idxmax().astype('int')\n",
        "results"
      ],
      "execution_count": null,
      "outputs": [
        {
          "output_type": "execute_result",
          "data": {
            "text/html": [
              "<div>\n",
              "<style scoped>\n",
              "    .dataframe tbody tr th:only-of-type {\n",
              "        vertical-align: middle;\n",
              "    }\n",
              "\n",
              "    .dataframe tbody tr th {\n",
              "        vertical-align: top;\n",
              "    }\n",
              "\n",
              "    .dataframe thead th {\n",
              "        text-align: right;\n",
              "    }\n",
              "</style>\n",
              "<table border=\"1\" class=\"dataframe\">\n",
              "  <thead>\n",
              "    <tr style=\"text-align: right;\">\n",
              "      <th></th>\n",
              "      <th>train_loss</th>\n",
              "      <th>train_acc</th>\n",
              "      <th>val_loss</th>\n",
              "      <th>val_acc</th>\n",
              "    </tr>\n",
              "    <tr>\n",
              "      <th>n_layers</th>\n",
              "      <th></th>\n",
              "      <th></th>\n",
              "      <th></th>\n",
              "      <th></th>\n",
              "    </tr>\n",
              "  </thead>\n",
              "  <tbody>\n",
              "    <tr>\n",
              "      <th>1.0</th>\n",
              "      <td>0.018525</td>\n",
              "      <td>0.998089</td>\n",
              "      <td>0.158348</td>\n",
              "      <td>0.9718</td>\n",
              "    </tr>\n",
              "    <tr>\n",
              "      <th>2.0</th>\n",
              "      <td>0.028242</td>\n",
              "      <td>0.995156</td>\n",
              "      <td>0.187668</td>\n",
              "      <td>0.9660</td>\n",
              "    </tr>\n",
              "    <tr>\n",
              "      <th>3.0</th>\n",
              "      <td>0.042120</td>\n",
              "      <td>0.990600</td>\n",
              "      <td>0.183195</td>\n",
              "      <td>0.9618</td>\n",
              "    </tr>\n",
              "    <tr>\n",
              "      <th>4.0</th>\n",
              "      <td>0.034606</td>\n",
              "      <td>0.992644</td>\n",
              "      <td>0.165001</td>\n",
              "      <td>0.9630</td>\n",
              "    </tr>\n",
              "    <tr>\n",
              "      <th>5.0</th>\n",
              "      <td>0.047707</td>\n",
              "      <td>0.988022</td>\n",
              "      <td>0.188727</td>\n",
              "      <td>0.9608</td>\n",
              "    </tr>\n",
              "    <tr>\n",
              "      <th>6.0</th>\n",
              "      <td>0.041023</td>\n",
              "      <td>0.990156</td>\n",
              "      <td>0.207617</td>\n",
              "      <td>0.9630</td>\n",
              "    </tr>\n",
              "    <tr>\n",
              "      <th>7.0</th>\n",
              "      <td>0.068423</td>\n",
              "      <td>0.981133</td>\n",
              "      <td>0.217912</td>\n",
              "      <td>0.9578</td>\n",
              "    </tr>\n",
              "    <tr>\n",
              "      <th>8.0</th>\n",
              "      <td>0.058421</td>\n",
              "      <td>0.984111</td>\n",
              "      <td>0.212455</td>\n",
              "      <td>0.9570</td>\n",
              "    </tr>\n",
              "    <tr>\n",
              "      <th>9.0</th>\n",
              "      <td>0.061292</td>\n",
              "      <td>0.982578</td>\n",
              "      <td>0.215464</td>\n",
              "      <td>0.9540</td>\n",
              "    </tr>\n",
              "    <tr>\n",
              "      <th>10.0</th>\n",
              "      <td>0.080587</td>\n",
              "      <td>0.976600</td>\n",
              "      <td>0.222053</td>\n",
              "      <td>0.9514</td>\n",
              "    </tr>\n",
              "  </tbody>\n",
              "</table>\n",
              "</div>"
            ],
            "text/plain": [
              "          train_loss  train_acc  val_loss  val_acc\n",
              "n_layers                                          \n",
              "1.0         0.018525   0.998089  0.158348   0.9718\n",
              "2.0         0.028242   0.995156  0.187668   0.9660\n",
              "3.0         0.042120   0.990600  0.183195   0.9618\n",
              "4.0         0.034606   0.992644  0.165001   0.9630\n",
              "5.0         0.047707   0.988022  0.188727   0.9608\n",
              "6.0         0.041023   0.990156  0.207617   0.9630\n",
              "7.0         0.068423   0.981133  0.217912   0.9578\n",
              "8.0         0.058421   0.984111  0.212455   0.9570\n",
              "9.0         0.061292   0.982578  0.215464   0.9540\n",
              "10.0        0.080587   0.976600  0.222053   0.9514"
            ]
          },
          "metadata": {
            "tags": []
          },
          "execution_count": 45
        }
      ]
    },
    {
      "cell_type": "code",
      "metadata": {
        "id": "Yw0PQLCWo-cu",
        "colab": {
          "base_uri": "https://localhost:8080/",
          "height": 370
        },
        "outputId": "711a1e79-7423-4b88-a203-3319923356b2"
      },
      "source": [
        "fig, (ax1, ax2) = plt.subplots(1, 2)\n",
        "fig.suptitle(\"Model Performance vs Number of Layers\")\n",
        "fig.set_size_inches(15, 5)\n",
        "\n",
        "ax1.plot(results['train_loss'], label='Training Loss')\n",
        "ax1.plot(results['val_loss'], label='Validation Loss')\n",
        "ax1.set_xlabel('Number of Layers')\n",
        "ax1.set_xticks(results.index)\n",
        "ax1.set_title('Loss')\n",
        "ax1.legend()\n",
        "\n",
        "ax2.plot(results['train_acc'], label='Training Accuracy')\n",
        "ax2.plot(results['val_acc'], label='Validation Accuracy')\n",
        "ax2.set_xlabel('Number of Layers')\n",
        "ax2.set_xticks(results.index)\n",
        "ax2.set_title('Accuracy')\n",
        "ax2.legend()\n",
        "\n",
        "fig.show()"
      ],
      "execution_count": null,
      "outputs": [
        {
          "output_type": "display_data",
          "data": {
            "image/png": "[encoded data removed]",
            "text/plain": [
              "<Figure size 1080x360 with 2 Axes>"
            ]
          },
          "metadata": {
            "tags": [],
            "needs_background": "light"
          }
        }
      ]
    },
    {
      "cell_type": "markdown",
      "metadata": {
        "id": "riT2-Ea-dEyS"
      },
      "source": [
        "We have plotted the metrics for each number of layers. From the figure it is apparent that validation accuracy is maximum with one hidden layer. The number of units for which validation accuracy is maximum is 368."
      ]
    },
    {
      "cell_type": "markdown",
      "metadata": {
        "id": "DRYqeG-HdR5Z"
      },
      "source": [
        "# Picking Best Model (with Dimension Reduction)\n"
      ]
    },
    {
      "cell_type": "code",
      "metadata": {
        "id": "spGSlrBqpDcp",
        "colab": {
          "base_uri": "https://localhost:8080/"
        },
        "outputId": "850e20ca-a120-4d8b-800d-6ccae4441477"
      },
      "source": [
        "model = models[num_layers - 1]\n",
        "model.summary()"
      ],
      "execution_count": null,
      "outputs": [
        {
          "output_type": "stream",
          "text": [
            "Model: \"sequential_1\"\n",
            "_________________________________________________________________\n",
            "Layer (type)                 Output Shape              Param #   \n",
            "=================================================================\n",
            "dense_11 (Dense)             (None, 384)               89472     \n",
            "_________________________________________________________________\n",
            "dense_12 (Dense)             (None, 10)                3850      \n",
            "=================================================================\n",
            "Total params: 93,322\n",
            "Trainable params: 93,322\n",
            "Non-trainable params: 0\n",
            "_________________________________________________________________\n"
          ],
          "name": "stdout"
        }
      ]
    },
    {
      "cell_type": "markdown",
      "metadata": {
        "id": "NzyuKZrLduhM"
      },
      "source": [
        "# Training History and Model Performace (with Dimension Reduction)"
      ]
    },
    {
      "cell_type": "code",
      "metadata": {
        "id": "pYeA6rdgpgxI",
        "colab": {
          "base_uri": "https://localhost:8080/",
          "height": 356
        },
        "outputId": "aa00c39a-5df0-42a2-c2e6-c80715df3c67"
      },
      "source": [
        "plot_training_history(model.training_history)"
      ],
      "execution_count": null,
      "outputs": [
        {
          "output_type": "display_data",
          "data": {
            "image/png": "[encoded data removed]",
            "text/plain": [
              "<Figure size 1080x360 with 2 Axes>"
            ]
          },
          "metadata": {
            "tags": [],
            "needs_background": "light"
          }
        }
      ]
    },
    {
      "cell_type": "code",
      "metadata": {
        "id": "xLMYFUldpksL",
        "colab": {
          "base_uri": "https://localhost:8080/"
        },
        "outputId": "ca1cab75-6ac0-4573-978c-f5995fbf8cbb"
      },
      "source": [
        "nn_train_loss, nn_train_acc = model.evaluate(Z_train, y_train, verbose=0)\n",
        "nn_test_loss,  nn_test_acc  = model.evaluate(Z_test,  y_test,  verbose=0)\n",
        "\n",
        "print(f\"Training Accuracy: {nn_train_acc:2.2%}\")\n",
        "print(f\"Test Accuracy:     {nn_test_acc :2.2%}\")\n",
        "print(f\"Training Loss: {nn_train_loss:.6}\")\n",
        "print(f\"Test Loss:     {nn_test_loss :.6}\")"
      ],
      "execution_count": null,
      "outputs": [
        {
          "output_type": "stream",
          "text": [
            "Training Accuracy: 99.81%\n",
            "Test Accuracy:     96.98%\n",
            "Training Loss: 0.018525\n",
            "Test Loss:     0.130175\n"
          ],
          "name": "stdout"
        }
      ]
    },
    {
      "cell_type": "code",
      "metadata": {
        "id": "HWX1H-hZps1y",
        "colab": {
          "base_uri": "https://localhost:8080/",
          "height": 344
        },
        "outputId": "ac73b19e-79da-4bc7-c181-d671f94bac40"
      },
      "source": [
        "y_pred = np.argmax(model.predict(Z_test), axis=-1)\n",
        "show_example(X_test, y_test, y_pred)"
      ],
      "execution_count": null,
      "outputs": [
        {
          "output_type": "display_data",
          "data": {
            "image/png": "[encoded data removed]",
            "text/plain": [
              "<Figure size 864x360 with 12 Axes>"
            ]
          },
          "metadata": {
            "tags": [],
            "needs_background": "light"
          }
        }
      ]
    },
    {
      "cell_type": "markdown",
      "metadata": {
        "id": "kH2d2F4wd2Lo"
      },
      "source": [
        "# Saving Trained Model (with Dimension Reduction)"
      ]
    },
    {
      "cell_type": "code",
      "metadata": {
        "id": "krVlCjQlpy-_",
        "colab": {
          "base_uri": "https://localhost:8080/"
        },
        "outputId": "9ee246db-210b-4992-dfb5-c7ea9dc91709"
      },
      "source": [
        "model.save(f'{root}/models/nn_unrotated_model_w_pca')"
      ],
      "execution_count": null,
      "outputs": [
        {
          "output_type": "stream",
          "text": [
            "INFO:tensorflow:Assets written to: /gdrive/My Drive/Colab Notebooks/MNIST-classification/models/nn_unrotated_model_w_pca/assets\n"
          ],
          "name": "stdout"
        }
      ]
    },
    {
      "cell_type": "markdown",
      "metadata": {
        "id": "qEQqhdtgeBsz"
      },
      "source": [
        "# Conclusion\n",
        "\n",
        "|           |Training Accuracy|Test Accuracy|\n",
        "|:---------:|:---------------:|:-----------:|\n",
        "|Without PCA|      99.98%     |    97.91%   |\n",
        "|With PCA   |      99.81%     |    96.98%   |\n",
        "\n",
        "Clearly the accuracy decreased after applying PCA with 90% variability retained."
      ]
    }
  ]
}