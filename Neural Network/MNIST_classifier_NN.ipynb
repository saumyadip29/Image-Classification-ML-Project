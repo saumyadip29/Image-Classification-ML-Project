{
  "nbformat": 4,
  "nbformat_minor": 0,
  "metadata": {
    "colab": {
      "name": "MNIST_classifier_NN.ipynb",
      "provenance": [],
      "collapsed_sections": []
    },
    "kernelspec": {
      "name": "python3",
      "display_name": "Python 3"
    },
    "language_info": {
      "name": "python"
    },
    "accelerator": "GPU"
  },
  "cells": [
    {
      "cell_type": "markdown",
      "metadata": {
        "id": "_v3Ow9iX1qwT"
      },
      "source": [
        "# Introduction"
      ]
    },
    {
      "cell_type": "code",
      "metadata": {
        "id": "cxa1rsyEn1rO",
        "colab": {
          "base_uri": "https://localhost:8080/"
        },
        "outputId": "7d4135e8-0903-42f1-f48f-7044cd8ad207"
      },
      "source": [
        "from google.colab import drive\n",
        "drive.mount('/gdrive')\n",
        "root = '/gdrive/My Drive/Colab Notebooks/MNIST-classification'"
      ],
      "execution_count": 1,
      "outputs": [
        {
          "output_type": "stream",
          "text": [
            "Drive already mounted at /gdrive; to attempt to forcibly remount, call drive.mount(\"/gdrive\", force_remount=True).\n"
          ],
          "name": "stdout"
        }
      ]
    },
    {
      "cell_type": "markdown",
      "metadata": {
        "id": "yVlhWIY-1w4B"
      },
      "source": [
        "# Importing Libraries and Data"
      ]
    },
    {
      "cell_type": "code",
      "metadata": {
        "id": "Zc0RRvL6oc-f"
      },
      "source": [
        "# generel utility libraries\n",
        "import os\n",
        "import numpy as np\n",
        "import pandas as pd\n",
        "import matplotlib.pyplot as plt\n",
        "from sklearn.preprocessing import StandardScaler\n",
        "from sklearn.model_selection import StratifiedShuffleSplit\n",
        "from utils import show_example, plot_training_history\n",
        "from IPython.display import clear_output\n",
        "\n",
        "# keras\n",
        "import tensorflow as tf\n",
        "from tensorflow import keras\n",
        "from tensorflow.keras import layers\n",
        "from tensorflow.keras.models import Sequential\n",
        "\n",
        "# keras tuner\n",
        "!pip install keras-tuner\n",
        "clear_output()\n",
        "from keras_tuner import HyperModel, RandomSearch\n",
        "\n",
        "# function to read matlab data file\n",
        "from scipy.io import loadmat"
      ],
      "execution_count": 2,
      "outputs": []
    },
    {
      "cell_type": "code",
      "metadata": {
        "colab": {
          "base_uri": "https://localhost:8080/"
        },
        "id": "JC17RjDYoKMR",
        "outputId": "66e71f76-a8fe-4742-bec6-f3ed23b7b3f0"
      },
      "source": [
        "X = loadmat('../data/mnist_training_data.mat')['training_data']\n",
        "y = loadmat('../data/mnist_training_label.mat')['training_label']\n",
        "\n",
        "X_test = loadmat('../data/mnist_test_data.mat')['test_data']\n",
        "y_test = loadmat('../data/mnist_test_label.mat')['test_label']\n",
        "\n",
        "train_size, n_features = X.shape\n",
        "test_size, _ = X_test.shape\n",
        "seed = 0\n",
        "\n",
        "shuffled_indices = np.random.permutation(train_size)\n",
        "X = X[shuffled_indices]\n",
        "y = y[shuffled_indices]\n",
        "\n",
        "print(f\"No. of features:\\t\\t{n_features}\")\n",
        "print(f\"No. of training examples:\\t{train_size}\")\n",
        "print(f\"No. of test examples:\\t\\t{test_size}\")"
      ],
      "execution_count": 3,
      "outputs": [
        {
          "output_type": "stream",
          "text": [
            "No. of features:\t\t784\n",
            "No. of training examples:\t50000\n",
            "No. of test examples:\t\t10000\n"
          ],
          "name": "stdout"
        }
      ]
    },
    {
      "cell_type": "code",
      "metadata": {
        "colab": {
          "base_uri": "https://localhost:8080/",
          "height": 341
        },
        "id": "65Q606GFob4D",
        "outputId": "422de1e6-757e-400d-a0ff-b7c622c24581"
      },
      "source": [
        "show_example(X, y)"
      ],
      "execution_count": 4,
      "outputs": [
        {
          "output_type": "display_data",
          "data": {
            "image/png": "[encoded data removed]",
            "text/plain": [
              "<Figure size 864x360 with 12 Axes>"
            ]
          },
          "metadata": {
            "tags": [],
            "needs_background": "light"
          }
        }
      ]
    },
    {
      "cell_type": "markdown",
      "metadata": {
        "id": "eoW4BqPO15OY"
      },
      "source": [
        "# Configuring GPU"
      ]
    },
    {
      "cell_type": "code",
      "metadata": {
        "colab": {
          "base_uri": "https://localhost:8080/"
        },
        "id": "bt0DHTg51fw4",
        "outputId": "7d6d3f1c-c5c8-4824-adb9-d8a7b1cdebf1"
      },
      "source": [
        "physical_devices = tf.config.experimental.list_physical_devices('GPU')\n",
        "print(f\"No. of GPUs available: {len(physical_devices)}\")\n",
        "if physical_devices:\n",
        "    tf.config.experimental.set_memory_growth(physical_devices[0], True)"
      ],
      "execution_count": 5,
      "outputs": [
        {
          "output_type": "stream",
          "text": [
            "No. of GPUs available: 1\n"
          ],
          "name": "stdout"
        }
      ]
    },
    {
      "cell_type": "markdown",
      "metadata": {
        "id": "Y4Wd6-wH2KO3"
      },
      "source": [
        "# Selecting Model Architecture by Cross-validation\n",
        "\n",
        "We select number of hidden layers and number of units in each layers by cross validation. We chose to vary number of hidden layers from 1 to 10 and for each number of layers we search for the optimum number of hidden units in each layer. The number of units in each hidden layer are chosen from the set $\\{16i : i=1(1)32\\}$. We take the model resulting the maximum validation accuracy for each number of layers."
      ]
    },
    {
      "cell_type": "code",
      "metadata": {
        "id": "JjkgvSWN1lup"
      },
      "source": [
        "sss = StratifiedShuffleSplit(n_splits=1, test_size=0.1, random_state=seed)\n",
        "train_idx, val_idx = [*sss.split(X, y)][0]\n",
        "\n",
        "X_train, X_val = X[train_idx, :], X[val_idx, :]\n",
        "y_train, y_val = y[train_idx, :], y[val_idx, :]\n",
        "\n",
        "scaler = StandardScaler()\n",
        "Z_train = scaler.fit_transform(X_train)\n",
        "Z_val  = scaler.transform(X_val)\n",
        "Z_test = scaler.transform(X_test)\n",
        "\n",
        "import pickle\n",
        "with open('./models/scaler_wo_pca.pkl', 'wb') as f:\n",
        "    pickle.dump(scaler, f)"
      ],
      "execution_count": 6,
      "outputs": []
    },
    {
      "cell_type": "markdown",
      "metadata": {
        "id": "eIoCBt2-2n3_"
      },
      "source": [
        "## Building Hypermodel and Searching for the Best Model "
      ]
    },
    {
      "cell_type": "code",
      "metadata": {
        "id": "7_LM9dJC2b62"
      },
      "source": [
        "class MyHyperModel(HyperModel):\n",
        "    def __init__(self, classes, layers):\n",
        "        self.classes = classes\n",
        "        self.layers = layers\n",
        "\n",
        "    def build(self, hp):\n",
        "        # Build Model\n",
        "        model = keras.Sequential()\n",
        "        for i in range(self.layers):\n",
        "            model.add(layers.Dense(\n",
        "                units=hp.Choice(\n",
        "                    f\"layer_{i+1:02}\", \n",
        "                    values=list(range(16, 513, 16))\n",
        "                ),\n",
        "                kernel_initializer='he_uniform',\n",
        "                activation='relu'\n",
        "            ))\n",
        "        model.add(layers.Dense(self.classes, activation='softmax'))\n",
        "\n",
        "        # Compile Model\n",
        "        model.compile(\n",
        "            optimizer=keras.optimizers.Adam(0.001),\n",
        "            loss=\"sparse_categorical_crossentropy\",\n",
        "            metrics=[\"accuracy\"],\n",
        "        )\n",
        "        return model"
      ],
      "execution_count": 7,
      "outputs": []
    },
    {
      "cell_type": "code",
      "metadata": {
        "colab": {
          "base_uri": "https://localhost:8080/"
        },
        "id": "vOKxADLg2zOD",
        "outputId": "f1d16db1-172d-4fac-913f-c4f58a666b5e"
      },
      "source": [
        "params = {}\n",
        "for i in range(10):\n",
        "    print(f\"Number of Hidden Layers: {i+1}\")\n",
        "    hypermodel = MyHyperModel(10, i+1)\n",
        "\n",
        "    tuner = RandomSearch(\n",
        "        hypermodel,\n",
        "        objective='val_accuracy',\n",
        "        max_trials=20,\n",
        "        overwrite=True\n",
        "    )\n",
        "\n",
        "    es = keras.callbacks.EarlyStopping(patience=20, restore_best_weights=True)\n",
        "    tuner.search(\n",
        "        Z_train, y_train, validation_data=(Z_val, y_val),\n",
        "        epochs=500, batch_size=10000, verbose=1 , callbacks=[es]\n",
        "    )\n",
        "    params[i+1] = tuner.get_best_hyperparameters()[0].values"
      ],
      "execution_count": 8,
      "outputs": [
        {
          "output_type": "stream",
          "text": [
            "Trial 20 Complete [00h 00m 14s]\n",
            "val_accuracy: 0.9516000151634216\n",
            "\n",
            "Best val_accuracy So Far: 0.9666000008583069\n",
            "Total elapsed time: 00h 05m 35s\n",
            "INFO:tensorflow:Oracle triggered exit\n"
          ],
          "name": "stdout"
        }
      ]
    },
    {
      "cell_type": "markdown",
      "metadata": {
        "id": "FMCukpIlLFFa"
      },
      "source": [
        "## Creating Models from the Best Model Architectures"
      ]
    },
    {
      "cell_type": "code",
      "metadata": {
        "id": "gmeBBcSF6Yay"
      },
      "source": [
        "def create_model(input_size, num_units):\n",
        "    model = Sequential()\n",
        "    model.add(layers.InputLayer(input_size))\n",
        "    for units in num_units.values():\n",
        "        model.add(layers.Dense(\n",
        "            units, \n",
        "            activation='relu', \n",
        "            kernel_initializer='he_uniform'\n",
        "        ))\n",
        "    model.add(layers.Dense(10, activation='softmax'))\n",
        "    return model\n",
        "\n",
        "models = []\n",
        "for num_units in params.values():\n",
        "    model = create_model(n_features, num_units)\n",
        "    models.append(model)"
      ],
      "execution_count": 15,
      "outputs": []
    },
    {
      "cell_type": "code",
      "metadata": {
        "id": "D_NNnvxF6r2C",
        "colab": {
          "base_uri": "https://localhost:8080/"
        },
        "outputId": "55232f2c-a3e8-4b33-e579-84949379fd63"
      },
      "source": [
        "for model in models:\n",
        "    print(model.summary())"
      ],
      "execution_count": 16,
      "outputs": [
        {
          "output_type": "stream",
          "text": [
            "Model: \"sequential_11\"\n",
            "_________________________________________________________________\n",
            "Layer (type)                 Output Shape              Param #   \n",
            "=================================================================\n",
            "dense_76 (Dense)             (None, 496)               389360    \n",
            "_________________________________________________________________\n",
            "dense_77 (Dense)             (None, 10)                4970      \n",
            "=================================================================\n",
            "Total params: 394,330\n",
            "Trainable params: 394,330\n",
            "Non-trainable params: 0\n",
            "_________________________________________________________________\n",
            "None\n",
            "Model: \"sequential_12\"\n",
            "_________________________________________________________________\n",
            "Layer (type)                 Output Shape              Param #   \n",
            "=================================================================\n",
            "dense_78 (Dense)             (None, 432)               339120    \n",
            "_________________________________________________________________\n",
            "dense_79 (Dense)             (None, 272)               117776    \n",
            "_________________________________________________________________\n",
            "dense_80 (Dense)             (None, 10)                2730      \n",
            "=================================================================\n",
            "Total params: 459,626\n",
            "Trainable params: 459,626\n",
            "Non-trainable params: 0\n",
            "_________________________________________________________________\n",
            "None\n",
            "Model: \"sequential_13\"\n",
            "_________________________________________________________________\n",
            "Layer (type)                 Output Shape              Param #   \n",
            "=================================================================\n",
            "dense_81 (Dense)             (None, 432)               339120    \n",
            "_________________________________________________________________\n",
            "dense_82 (Dense)             (None, 320)               138560    \n",
            "_________________________________________________________________\n",
            "dense_83 (Dense)             (None, 448)               143808    \n",
            "_________________________________________________________________\n",
            "dense_84 (Dense)             (None, 10)                4490      \n",
            "=================================================================\n",
            "Total params: 625,978\n",
            "Trainable params: 625,978\n",
            "Non-trainable params: 0\n",
            "_________________________________________________________________\n",
            "None\n",
            "Model: \"sequential_14\"\n",
            "_________________________________________________________________\n",
            "Layer (type)                 Output Shape              Param #   \n",
            "=================================================================\n",
            "dense_85 (Dense)             (None, 384)               301440    \n",
            "_________________________________________________________________\n",
            "dense_86 (Dense)             (None, 256)               98560     \n",
            "_________________________________________________________________\n",
            "dense_87 (Dense)             (None, 400)               102800    \n",
            "_________________________________________________________________\n",
            "dense_88 (Dense)             (None, 160)               64160     \n",
            "_________________________________________________________________\n",
            "dense_89 (Dense)             (None, 10)                1610      \n",
            "=================================================================\n",
            "Total params: 568,570\n",
            "Trainable params: 568,570\n",
            "Non-trainable params: 0\n",
            "_________________________________________________________________\n",
            "None\n",
            "Model: \"sequential_15\"\n",
            "_________________________________________________________________\n",
            "Layer (type)                 Output Shape              Param #   \n",
            "=================================================================\n",
            "dense_90 (Dense)             (None, 496)               389360    \n",
            "_________________________________________________________________\n",
            "dense_91 (Dense)             (None, 368)               182896    \n",
            "_________________________________________________________________\n",
            "dense_92 (Dense)             (None, 416)               153504    \n",
            "_________________________________________________________________\n",
            "dense_93 (Dense)             (None, 224)               93408     \n",
            "_________________________________________________________________\n",
            "dense_94 (Dense)             (None, 272)               61200     \n",
            "_________________________________________________________________\n",
            "dense_95 (Dense)             (None, 10)                2730      \n",
            "=================================================================\n",
            "Total params: 883,098\n",
            "Trainable params: 883,098\n",
            "Non-trainable params: 0\n",
            "_________________________________________________________________\n",
            "None\n",
            "Model: \"sequential_16\"\n",
            "_________________________________________________________________\n",
            "Layer (type)                 Output Shape              Param #   \n",
            "=================================================================\n",
            "dense_96 (Dense)             (None, 512)               401920    \n",
            "_________________________________________________________________\n",
            "dense_97 (Dense)             (None, 496)               254448    \n",
            "_________________________________________________________________\n",
            "dense_98 (Dense)             (None, 288)               143136    \n",
            "_________________________________________________________________\n",
            "dense_99 (Dense)             (None, 240)               69360     \n",
            "_________________________________________________________________\n",
            "dense_100 (Dense)            (None, 432)               104112    \n",
            "_________________________________________________________________\n",
            "dense_101 (Dense)            (None, 416)               180128    \n",
            "_________________________________________________________________\n",
            "dense_102 (Dense)            (None, 10)                4170      \n",
            "=================================================================\n",
            "Total params: 1,157,274\n",
            "Trainable params: 1,157,274\n",
            "Non-trainable params: 0\n",
            "_________________________________________________________________\n",
            "None\n",
            "Model: \"sequential_17\"\n",
            "_________________________________________________________________\n",
            "Layer (type)                 Output Shape              Param #   \n",
            "=================================================================\n",
            "dense_103 (Dense)            (None, 272)               213520    \n",
            "_________________________________________________________________\n",
            "dense_104 (Dense)            (None, 384)               104832    \n",
            "_________________________________________________________________\n",
            "dense_105 (Dense)            (None, 336)               129360    \n",
            "_________________________________________________________________\n",
            "dense_106 (Dense)            (None, 256)               86272     \n",
            "_________________________________________________________________\n",
            "dense_107 (Dense)            (None, 384)               98688     \n",
            "_________________________________________________________________\n",
            "dense_108 (Dense)            (None, 352)               135520    \n",
            "_________________________________________________________________\n",
            "dense_109 (Dense)            (None, 192)               67776     \n",
            "_________________________________________________________________\n",
            "dense_110 (Dense)            (None, 10)                1930      \n",
            "=================================================================\n",
            "Total params: 837,898\n",
            "Trainable params: 837,898\n",
            "Non-trainable params: 0\n",
            "_________________________________________________________________\n",
            "None\n",
            "Model: \"sequential_18\"\n",
            "_________________________________________________________________\n",
            "Layer (type)                 Output Shape              Param #   \n",
            "=================================================================\n",
            "dense_111 (Dense)            (None, 400)               314000    \n",
            "_________________________________________________________________\n",
            "dense_112 (Dense)            (None, 240)               96240     \n",
            "_________________________________________________________________\n",
            "dense_113 (Dense)            (None, 272)               65552     \n",
            "_________________________________________________________________\n",
            "dense_114 (Dense)            (None, 224)               61152     \n",
            "_________________________________________________________________\n",
            "dense_115 (Dense)            (None, 320)               72000     \n",
            "_________________________________________________________________\n",
            "dense_116 (Dense)            (None, 448)               143808    \n",
            "_________________________________________________________________\n",
            "dense_117 (Dense)            (None, 464)               208336    \n",
            "_________________________________________________________________\n",
            "dense_118 (Dense)            (None, 32)                14880     \n",
            "_________________________________________________________________\n",
            "dense_119 (Dense)            (None, 10)                330       \n",
            "=================================================================\n",
            "Total params: 976,298\n",
            "Trainable params: 976,298\n",
            "Non-trainable params: 0\n",
            "_________________________________________________________________\n",
            "None\n",
            "Model: \"sequential_19\"\n",
            "_________________________________________________________________\n",
            "Layer (type)                 Output Shape              Param #   \n",
            "=================================================================\n",
            "dense_120 (Dense)            (None, 464)               364240    \n",
            "_________________________________________________________________\n",
            "dense_121 (Dense)            (None, 480)               223200    \n",
            "_________________________________________________________________\n",
            "dense_122 (Dense)            (None, 448)               215488    \n",
            "_________________________________________________________________\n",
            "dense_123 (Dense)            (None, 272)               122128    \n",
            "_________________________________________________________________\n",
            "dense_124 (Dense)            (None, 448)               122304    \n",
            "_________________________________________________________________\n",
            "dense_125 (Dense)            (None, 80)                35920     \n",
            "_________________________________________________________________\n",
            "dense_126 (Dense)            (None, 144)               11664     \n",
            "_________________________________________________________________\n",
            "dense_127 (Dense)            (None, 368)               53360     \n",
            "_________________________________________________________________\n",
            "dense_128 (Dense)            (None, 64)                23616     \n",
            "_________________________________________________________________\n",
            "dense_129 (Dense)            (None, 10)                650       \n",
            "=================================================================\n",
            "Total params: 1,172,570\n",
            "Trainable params: 1,172,570\n",
            "Non-trainable params: 0\n",
            "_________________________________________________________________\n",
            "None\n",
            "Model: \"sequential_20\"\n",
            "_________________________________________________________________\n",
            "Layer (type)                 Output Shape              Param #   \n",
            "=================================================================\n",
            "dense_130 (Dense)            (None, 480)               376800    \n",
            "_________________________________________________________________\n",
            "dense_131 (Dense)            (None, 352)               169312    \n",
            "_________________________________________________________________\n",
            "dense_132 (Dense)            (None, 336)               118608    \n",
            "_________________________________________________________________\n",
            "dense_133 (Dense)            (None, 288)               97056     \n",
            "_________________________________________________________________\n",
            "dense_134 (Dense)            (None, 192)               55488     \n",
            "_________________________________________________________________\n",
            "dense_135 (Dense)            (None, 192)               37056     \n",
            "_________________________________________________________________\n",
            "dense_136 (Dense)            (None, 176)               33968     \n",
            "_________________________________________________________________\n",
            "dense_137 (Dense)            (None, 64)                11328     \n",
            "_________________________________________________________________\n",
            "dense_138 (Dense)            (None, 144)               9360      \n",
            "_________________________________________________________________\n",
            "dense_139 (Dense)            (None, 336)               48720     \n",
            "_________________________________________________________________\n",
            "dense_140 (Dense)            (None, 10)                3370      \n",
            "=================================================================\n",
            "Total params: 961,066\n",
            "Trainable params: 961,066\n",
            "Non-trainable params: 0\n",
            "_________________________________________________________________\n",
            "None\n"
          ],
          "name": "stdout"
        }
      ]
    },
    {
      "cell_type": "markdown",
      "metadata": {
        "id": "qNMQaPyyMGQn"
      },
      "source": [
        "## Training the Models"
      ]
    },
    {
      "cell_type": "code",
      "metadata": {
        "id": "S43x6MMC6sr_"
      },
      "source": [
        "es = keras.callbacks.EarlyStopping(\n",
        "    monitor='val_accuracy', \n",
        "    mode='auto', \n",
        "    patience=20, \n",
        "    verbose=1, \n",
        "    restore_best_weights=True\n",
        ")"
      ],
      "execution_count": 17,
      "outputs": []
    },
    {
      "cell_type": "code",
      "metadata": {
        "id": "oFcABuVE7djw"
      },
      "source": [
        "metrics = pd.DataFrame(columns=['n_layers', 'train_loss', 'train_acc', \n",
        "                                'val_loss', 'val_acc'])\n",
        "\n",
        "for i, model in enumerate(models):\n",
        "    print(f\"Training Model {i+1}:\")\n",
        "\n",
        "    model.compile(\n",
        "        optimizer=keras.optimizers.Adam(learning_rate=0.001), \n",
        "        loss='sparse_categorical_crossentropy', \n",
        "        metrics=['accuracy']\n",
        "    )\n",
        "\n",
        "    # training the model\n",
        "    training_history = model.fit(\n",
        "        Z_train, y_train, validation_data=(Z_val, y_val),\n",
        "        epochs=500, batch_size=10000,\n",
        "        shuffle=True, verbose=1, callbacks=[es]\n",
        "    )\n",
        "    # Storing the training history in the model\n",
        "    model.training_history = training_history\n",
        "    clear_output()\n",
        "\n",
        "    # Get and store acurracies and losses\n",
        "    train_loss, train_acc = model.evaluate(Z_train, y_train)\n",
        "    valid_loss, valid_acc = model.evaluate(Z_val, y_val)\n",
        "    clear_output()\n",
        "\n",
        "    metrics = metrics.append(dict(\n",
        "        n_layers=len(model.layers) - 1,\n",
        "        train_loss=train_loss,\n",
        "        train_acc=train_acc,\n",
        "        val_loss=valid_loss,\n",
        "        val_acc=valid_acc\n",
        "    ), ignore_index=True)"
      ],
      "execution_count": 18,
      "outputs": []
    },
    {
      "cell_type": "markdown",
      "metadata": {
        "id": "a5tuNTSqMngB"
      },
      "source": [
        "The training and validation accuracies and losses are stored in `metrics` for each number of layers. We compare the metrices and pick the model with best validation accuracy."
      ]
    },
    {
      "cell_type": "code",
      "metadata": {
        "id": "qA7OnAQZg31N",
        "colab": {
          "base_uri": "https://localhost:8080/",
          "height": 390
        },
        "outputId": "df60c081-0889-465e-8b6b-0a6b32426bfa"
      },
      "source": [
        "results = metrics.set_index('n_layers')\n",
        "results"
      ],
      "execution_count": 19,
      "outputs": [
        {
          "output_type": "execute_result",
          "data": {
            "text/html": [
              "<div>\n",
              "<style scoped>\n",
              "    .dataframe tbody tr th:only-of-type {\n",
              "        vertical-align: middle;\n",
              "    }\n",
              "\n",
              "    .dataframe tbody tr th {\n",
              "        vertical-align: top;\n",
              "    }\n",
              "\n",
              "    .dataframe thead th {\n",
              "        text-align: right;\n",
              "    }\n",
              "</style>\n",
              "<table border=\"1\" class=\"dataframe\">\n",
              "  <thead>\n",
              "    <tr style=\"text-align: right;\">\n",
              "      <th></th>\n",
              "      <th>train_loss</th>\n",
              "      <th>train_acc</th>\n",
              "      <th>val_loss</th>\n",
              "      <th>val_acc</th>\n",
              "    </tr>\n",
              "    <tr>\n",
              "      <th>n_layers</th>\n",
              "      <th></th>\n",
              "      <th></th>\n",
              "      <th></th>\n",
              "      <th></th>\n",
              "    </tr>\n",
              "  </thead>\n",
              "  <tbody>\n",
              "    <tr>\n",
              "      <th>1.0</th>\n",
              "      <td>0.017089</td>\n",
              "      <td>0.998244</td>\n",
              "      <td>0.147275</td>\n",
              "      <td>0.9710</td>\n",
              "    </tr>\n",
              "    <tr>\n",
              "      <th>2.0</th>\n",
              "      <td>0.007043</td>\n",
              "      <td>0.999800</td>\n",
              "      <td>0.119480</td>\n",
              "      <td>0.9710</td>\n",
              "    </tr>\n",
              "    <tr>\n",
              "      <th>3.0</th>\n",
              "      <td>0.000499</td>\n",
              "      <td>1.000000</td>\n",
              "      <td>0.166032</td>\n",
              "      <td>0.9704</td>\n",
              "    </tr>\n",
              "    <tr>\n",
              "      <th>4.0</th>\n",
              "      <td>0.001013</td>\n",
              "      <td>1.000000</td>\n",
              "      <td>0.163459</td>\n",
              "      <td>0.9692</td>\n",
              "    </tr>\n",
              "    <tr>\n",
              "      <th>5.0</th>\n",
              "      <td>0.000593</td>\n",
              "      <td>1.000000</td>\n",
              "      <td>0.242898</td>\n",
              "      <td>0.9704</td>\n",
              "    </tr>\n",
              "    <tr>\n",
              "      <th>6.0</th>\n",
              "      <td>0.000621</td>\n",
              "      <td>1.000000</td>\n",
              "      <td>0.312909</td>\n",
              "      <td>0.9710</td>\n",
              "    </tr>\n",
              "    <tr>\n",
              "      <th>7.0</th>\n",
              "      <td>0.003234</td>\n",
              "      <td>0.999733</td>\n",
              "      <td>0.245279</td>\n",
              "      <td>0.9688</td>\n",
              "    </tr>\n",
              "    <tr>\n",
              "      <th>8.0</th>\n",
              "      <td>0.000571</td>\n",
              "      <td>1.000000</td>\n",
              "      <td>0.222904</td>\n",
              "      <td>0.9662</td>\n",
              "    </tr>\n",
              "    <tr>\n",
              "      <th>9.0</th>\n",
              "      <td>0.000464</td>\n",
              "      <td>1.000000</td>\n",
              "      <td>0.376376</td>\n",
              "      <td>0.9688</td>\n",
              "    </tr>\n",
              "    <tr>\n",
              "      <th>10.0</th>\n",
              "      <td>0.000059</td>\n",
              "      <td>1.000000</td>\n",
              "      <td>0.349877</td>\n",
              "      <td>0.9666</td>\n",
              "    </tr>\n",
              "  </tbody>\n",
              "</table>\n",
              "</div>"
            ],
            "text/plain": [
              "          train_loss  train_acc  val_loss  val_acc\n",
              "n_layers                                          \n",
              "1.0         0.017089   0.998244  0.147275   0.9710\n",
              "2.0         0.007043   0.999800  0.119480   0.9710\n",
              "3.0         0.000499   1.000000  0.166032   0.9704\n",
              "4.0         0.001013   1.000000  0.163459   0.9692\n",
              "5.0         0.000593   1.000000  0.242898   0.9704\n",
              "6.0         0.000621   1.000000  0.312909   0.9710\n",
              "7.0         0.003234   0.999733  0.245279   0.9688\n",
              "8.0         0.000571   1.000000  0.222904   0.9662\n",
              "9.0         0.000464   1.000000  0.376376   0.9688\n",
              "10.0        0.000059   1.000000  0.349877   0.9666"
            ]
          },
          "metadata": {
            "tags": []
          },
          "execution_count": 19
        }
      ]
    },
    {
      "cell_type": "code",
      "metadata": {
        "id": "bOM-dZR3Xppc",
        "colab": {
          "base_uri": "https://localhost:8080/",
          "height": 370
        },
        "outputId": "c6cfb3c5-f5af-4467-9c53-a4d69b8a7264"
      },
      "source": [
        "fig, (ax1, ax2) = plt.subplots(1, 2)\n",
        "fig.suptitle(\"Model Performance vs Number of Layers\")\n",
        "fig.set_size_inches(15, 5)\n",
        "\n",
        "ax1.plot(results['train_loss'], label='Training Loss')\n",
        "ax1.plot(results['val_loss'], label='Validation Loss')\n",
        "ax1.set_xlabel('Number of Layers')\n",
        "ax1.set_xticks(results.index)\n",
        "ax1.set_title('Loss')\n",
        "ax1.legend()\n",
        "\n",
        "ax2.plot(results['train_acc'], label='Training Accuracy')\n",
        "ax2.plot(results['val_acc'], label='Validation Accuracy')\n",
        "ax2.set_xlabel('Number of Layers')\n",
        "ax2.set_xticks(results.index)\n",
        "ax2.set_title('Accuracy')\n",
        "ax2.legend()\n",
        "\n",
        "fig.show()"
      ],
      "execution_count": 20,
      "outputs": [
        {
          "output_type": "display_data",
          "data": {
            "image/png": "[encoded data removed]",
            "text/plain": [
              "<Figure size 1080x360 with 2 Axes>"
            ]
          },
          "metadata": {
            "tags": [],
            "needs_background": "light"
          }
        }
      ]
    },
    {
      "cell_type": "code",
      "metadata": {
        "id": "ElH5eR94pquf"
      },
      "source": [
        "num_layers = 2"
      ],
      "execution_count": 21,
      "outputs": []
    },
    {
      "cell_type": "markdown",
      "metadata": {
        "id": "miyWlDf7WFVm"
      },
      "source": [
        "We have plotted the metrics for each number of layers. From the figure it is apparent that validation accuracy is maximum with number of hidden layers 1, 2 and 6 and the validation loss is minimum among these choices when number of hidden layers is 2. Hence we take 2 hidden layers in our model with number of units 432, 272 respectively."
      ]
    },
    {
      "cell_type": "markdown",
      "metadata": {
        "id": "B84QSmueNfN_"
      },
      "source": [
        "# Picking Best Model"
      ]
    },
    {
      "cell_type": "code",
      "metadata": {
        "id": "OPbNqqeuDu3y",
        "colab": {
          "base_uri": "https://localhost:8080/"
        },
        "outputId": "692c4fac-b21c-4ed8-98c5-4a46f319dcd8"
      },
      "source": [
        "model = models[num_layers - 1]\n",
        "model.summary()"
      ],
      "execution_count": 22,
      "outputs": [
        {
          "output_type": "stream",
          "text": [
            "Model: \"sequential_12\"\n",
            "_________________________________________________________________\n",
            "Layer (type)                 Output Shape              Param #   \n",
            "=================================================================\n",
            "dense_78 (Dense)             (None, 432)               339120    \n",
            "_________________________________________________________________\n",
            "dense_79 (Dense)             (None, 272)               117776    \n",
            "_________________________________________________________________\n",
            "dense_80 (Dense)             (None, 10)                2730      \n",
            "=================================================================\n",
            "Total params: 459,626\n",
            "Trainable params: 459,626\n",
            "Non-trainable params: 0\n",
            "_________________________________________________________________\n"
          ],
          "name": "stdout"
        }
      ]
    },
    {
      "cell_type": "markdown",
      "metadata": {
        "id": "8UgFEBkZO6-0"
      },
      "source": [
        "# Training History and Model Performace"
      ]
    },
    {
      "cell_type": "code",
      "metadata": {
        "id": "Dr00VPNKJGz_",
        "colab": {
          "base_uri": "https://localhost:8080/",
          "height": 356
        },
        "outputId": "f640373e-2fee-4229-ba86-d5f98c7bbb1b"
      },
      "source": [
        "plot_training_history(model.training_history)"
      ],
      "execution_count": 23,
      "outputs": [
        {
          "output_type": "display_data",
          "data": {
            "image/png": "[encoded data removed]",
            "text/plain": [
              "<Figure size 1080x360 with 2 Axes>"
            ]
          },
          "metadata": {
            "tags": [],
            "needs_background": "light"
          }
        }
      ]
    },
    {
      "cell_type": "code",
      "metadata": {
        "id": "V5kq6a92JeFp",
        "colab": {
          "base_uri": "https://localhost:8080/"
        },
        "outputId": "fb161e38-80ce-4a28-da69-91706349f330"
      },
      "source": [
        "nn_train_loss, nn_train_acc = model.evaluate(Z_train, y_train, verbose=0)\n",
        "nn_test_loss,  nn_test_acc  = model.evaluate(Z_test,  y_test,  verbose=0)\n",
        "\n",
        "print(f\"Training Accuracy: {nn_train_acc:2.2%}\")\n",
        "print(f\"Test Accuracy:     {nn_test_acc :2.2%}\")\n",
        "print(f\"Training Loss: {nn_train_loss:.6}\")\n",
        "print(f\"Test Loss:     {nn_test_loss :.6}\")"
      ],
      "execution_count": 24,
      "outputs": [
        {
          "output_type": "stream",
          "text": [
            "Training Accuracy: 99.98%\n",
            "Test Accuracy:     97.35%\n",
            "Training Loss: 0.00704321\n",
            "Test Loss:     0.403963\n"
          ],
          "name": "stdout"
        }
      ]
    },
    {
      "cell_type": "code",
      "metadata": {
        "id": "TDv-5AJiPkPe",
        "colab": {
          "base_uri": "https://localhost:8080/",
          "height": 344
        },
        "outputId": "52595812-8290-4782-bc85-f7bf27f176a2"
      },
      "source": [
        "y_pred = np.argmax(model.predict(X_test), axis=1)\n",
        "show_example(X_test, y_test, y_pred)"
      ],
      "execution_count": 25,
      "outputs": [
        {
          "output_type": "display_data",
          "data": {
            "image/png": "[encoded data removed]",
            "text/plain": [
              "<Figure size 864x360 with 12 Axes>"
            ]
          },
          "metadata": {
            "tags": [],
            "needs_background": "light"
          }
        }
      ]
    },
    {
      "cell_type": "markdown",
      "metadata": {
        "id": "e-l3rvSqOwP9"
      },
      "source": [
        "# Saving Trained Model"
      ]
    },
    {
      "cell_type": "code",
      "metadata": {
        "id": "qH6kW66DKjZI",
        "colab": {
          "base_uri": "https://localhost:8080/"
        },
        "outputId": "a99bac3a-7687-41d4-f0f3-43106ed5ba8b"
      },
      "source": [
        "model.save('./models/nn_unrotated_model_wo_pca')"
      ],
      "execution_count": 26,
      "outputs": [
        {
          "output_type": "stream",
          "text": [
            "INFO:tensorflow:Assets written to: /gdrive/My Drive/Colab Notebooks/MNIST-classification/models/nn_unrotated_model_wo_pca/assets\n"
          ],
          "name": "stdout"
        }
      ]
    },
    {
      "cell_type": "markdown",
      "metadata": {
        "id": "Y-9djEpNlBfZ"
      },
      "source": [
        "# Training Model with Dimension Reduction\n",
        "\n",
        "The previous model was built with all the features taken into account. But there may be some features (in this case pixels) that varies less than some other features. Those features not only less useful in training the classifier but also works as noise that may hinder the model performance. To check if there actually is some feature like that we plot the standard daviation for each feature."
      ]
    },
    {
      "cell_type": "code",
      "metadata": {
        "id": "Zu23FiHKCJw8",
        "colab": {
          "base_uri": "https://localhost:8080/",
          "height": 295
        },
        "outputId": "5cccbf0e-b512-46ba-8634-629b512c79f4"
      },
      "source": [
        "plt.plot(np.std(X, axis=0))\n",
        "plt.title('Variance vs Features')\n",
        "plt.xlabel('Features')\n",
        "plt.ylabel('Variance')\n",
        "plt.show()"
      ],
      "execution_count": 27,
      "outputs": [
        {
          "output_type": "display_data",
          "data": {
            "image/png": "[encoded data removed]",
            "text/plain": [
              "<Figure size 432x288 with 1 Axes>"
            ]
          },
          "metadata": {
            "tags": [],
            "needs_background": "light"
          }
        }
      ]
    },
    {
      "cell_type": "markdown",
      "metadata": {
        "id": "DJ4thG_QY1pR"
      },
      "source": [
        "It is apparent from the figure that some features (or pixels) have very small standard daviation compared to some others. A possible reason may be that the corner or edge pixels have less importance than the pixels in the middle to explain the subject. We apply PCA algorithm to filter out features so that 90% variablity is retained."
      ]
    },
    {
      "cell_type": "code",
      "metadata": {
        "id": "rJksB9tTA21u",
        "colab": {
          "base_uri": "https://localhost:8080/"
        },
        "outputId": "3cb1a2cb-ab14-46c3-ccc9-745e014ce98f"
      },
      "source": [
        "from sklearn.pipeline import make_pipeline\n",
        "from sklearn.decomposition import PCA\n",
        "\n",
        "pipe = make_pipeline(\n",
        "    StandardScaler(),\n",
        "    PCA(n_components=0.90)\n",
        ")\n",
        "Z_train = pipe.fit_transform(X_train)\n",
        "Z_test = pipe.transform(X_test)\n",
        "Z_val = pipe.transform(X_val)\n",
        "\n",
        "import pickle\n",
        "with open('./models/scaler_w_pca.pkl', 'wb') as f:\n",
        "    pickle.dump(pipe, f)\n",
        "\n",
        "_, n_features = Z_train.shape\n",
        "\n",
        "print(f\"No. of features:\\t\\t{n_features}\")\n",
        "print(f\"No. of training examples:\\t{train_size}\")\n",
        "print(f\"No. of test examples:\\t\\t{test_size}\")"
      ],
      "execution_count": 28,
      "outputs": [
        {
          "output_type": "stream",
          "text": [
            "No. of features:\t\t232\n",
            "No. of training examples:\t50000\n",
            "No. of test examples:\t\t10000\n"
          ],
          "name": "stdout"
        }
      ]
    },
    {
      "cell_type": "markdown",
      "metadata": {
        "id": "AlB4-VITa1V5"
      },
      "source": [
        "As we can see the number of features is reduced from 784 to 232 with 90% variablity still retained."
      ]
    },
    {
      "cell_type": "markdown",
      "metadata": {
        "id": "aMoZYKLsbj2i"
      },
      "source": [
        "# Selecting Model Architecture by Cross-validation (with Dimension Reduction)\n"
      ]
    },
    {
      "cell_type": "markdown",
      "metadata": {
        "id": "NTFRxEcpceIK"
      },
      "source": [
        "## Searching for the Best Model"
      ]
    },
    {
      "cell_type": "code",
      "metadata": {
        "id": "DVd9JAAvoGOZ",
        "colab": {
          "base_uri": "https://localhost:8080/"
        },
        "outputId": "d96600c8-35b7-4c62-ed04-7bfa1b17dd9f"
      },
      "source": [
        "params = {}\n",
        "for i in range(10):\n",
        "    print(f\"Number of Hidden Layers: {i+1}\")\n",
        "    hypermodel = MyHyperModel(10, i+1)\n",
        "\n",
        "    tuner = RandomSearch(\n",
        "        hypermodel,\n",
        "        objective='val_accuracy',\n",
        "        max_trials=20,\n",
        "        overwrite=True\n",
        "    )\n",
        "\n",
        "    es = keras.callbacks.EarlyStopping(patience=20, restore_best_weights=True)\n",
        "    tuner.search(\n",
        "        Z_train, y_train, validation_data=(Z_val, y_val),\n",
        "        epochs=500, batch_size=10000, verbose=1, callbacks=[es]\n",
        "    )\n",
        "    params[i+1] = tuner.get_best_hyperparameters()[0].values"
      ],
      "execution_count": 29,
      "outputs": [
        {
          "output_type": "stream",
          "text": [
            "Trial 20 Complete [00h 00m 38s]\n",
            "val_accuracy: 0.6729999780654907\n",
            "\n",
            "Best val_accuracy So Far: 0.9621999859809875\n",
            "Total elapsed time: 00h 05m 48s\n",
            "INFO:tensorflow:Oracle triggered exit\n"
          ],
          "name": "stdout"
        }
      ]
    },
    {
      "cell_type": "markdown",
      "metadata": {
        "id": "FHfNbSX2ckLI"
      },
      "source": [
        "## Creating Models from the Best Model Architecture"
      ]
    },
    {
      "cell_type": "code",
      "metadata": {
        "id": "PWTD4s57oRkN"
      },
      "source": [
        "models = []\n",
        "for num_units in params.values():\n",
        "    model = create_model(n_features, num_units)\n",
        "    models.append(model)"
      ],
      "execution_count": 30,
      "outputs": []
    },
    {
      "cell_type": "code",
      "metadata": {
        "id": "UYMCBnXroe_K",
        "colab": {
          "base_uri": "https://localhost:8080/"
        },
        "outputId": "dfcdf88b-5866-422c-a72c-87f64f958f06"
      },
      "source": [
        "for model in models:\n",
        "    print(model.summary())"
      ],
      "execution_count": 31,
      "outputs": [
        {
          "output_type": "stream",
          "text": [
            "Model: \"sequential_1\"\n",
            "_________________________________________________________________\n",
            "Layer (type)                 Output Shape              Param #   \n",
            "=================================================================\n",
            "dense_11 (Dense)             (None, 368)               85744     \n",
            "_________________________________________________________________\n",
            "dense_12 (Dense)             (None, 10)                3690      \n",
            "=================================================================\n",
            "Total params: 89,434\n",
            "Trainable params: 89,434\n",
            "Non-trainable params: 0\n",
            "_________________________________________________________________\n",
            "None\n",
            "Model: \"sequential_2\"\n",
            "_________________________________________________________________\n",
            "Layer (type)                 Output Shape              Param #   \n",
            "=================================================================\n",
            "dense_13 (Dense)             (None, 480)               111840    \n",
            "_________________________________________________________________\n",
            "dense_14 (Dense)             (None, 432)               207792    \n",
            "_________________________________________________________________\n",
            "dense_15 (Dense)             (None, 10)                4330      \n",
            "=================================================================\n",
            "Total params: 323,962\n",
            "Trainable params: 323,962\n",
            "Non-trainable params: 0\n",
            "_________________________________________________________________\n",
            "None\n",
            "Model: \"sequential_3\"\n",
            "_________________________________________________________________\n",
            "Layer (type)                 Output Shape              Param #   \n",
            "=================================================================\n",
            "dense_16 (Dense)             (None, 496)               115568    \n",
            "_________________________________________________________________\n",
            "dense_17 (Dense)             (None, 512)               254464    \n",
            "_________________________________________________________________\n",
            "dense_18 (Dense)             (None, 416)               213408    \n",
            "_________________________________________________________________\n",
            "dense_19 (Dense)             (None, 10)                4170      \n",
            "=================================================================\n",
            "Total params: 587,610\n",
            "Trainable params: 587,610\n",
            "Non-trainable params: 0\n",
            "_________________________________________________________________\n",
            "None\n",
            "Model: \"sequential_4\"\n",
            "_________________________________________________________________\n",
            "Layer (type)                 Output Shape              Param #   \n",
            "=================================================================\n",
            "dense_20 (Dense)             (None, 448)               104384    \n",
            "_________________________________________________________________\n",
            "dense_21 (Dense)             (None, 320)               143680    \n",
            "_________________________________________________________________\n",
            "dense_22 (Dense)             (None, 208)               66768     \n",
            "_________________________________________________________________\n",
            "dense_23 (Dense)             (None, 320)               66880     \n",
            "_________________________________________________________________\n",
            "dense_24 (Dense)             (None, 10)                3210      \n",
            "=================================================================\n",
            "Total params: 384,922\n",
            "Trainable params: 384,922\n",
            "Non-trainable params: 0\n",
            "_________________________________________________________________\n",
            "None\n",
            "Model: \"sequential_5\"\n",
            "_________________________________________________________________\n",
            "Layer (type)                 Output Shape              Param #   \n",
            "=================================================================\n",
            "dense_25 (Dense)             (None, 448)               104384    \n",
            "_________________________________________________________________\n",
            "dense_26 (Dense)             (None, 352)               158048    \n",
            "_________________________________________________________________\n",
            "dense_27 (Dense)             (None, 496)               175088    \n",
            "_________________________________________________________________\n",
            "dense_28 (Dense)             (None, 496)               246512    \n",
            "_________________________________________________________________\n",
            "dense_29 (Dense)             (None, 480)               238560    \n",
            "_________________________________________________________________\n",
            "dense_30 (Dense)             (None, 10)                4810      \n",
            "=================================================================\n",
            "Total params: 927,402\n",
            "Trainable params: 927,402\n",
            "Non-trainable params: 0\n",
            "_________________________________________________________________\n",
            "None\n",
            "Model: \"sequential_6\"\n",
            "_________________________________________________________________\n",
            "Layer (type)                 Output Shape              Param #   \n",
            "=================================================================\n",
            "dense_31 (Dense)             (None, 224)               52192     \n",
            "_________________________________________________________________\n",
            "dense_32 (Dense)             (None, 512)               115200    \n",
            "_________________________________________________________________\n",
            "dense_33 (Dense)             (None, 400)               205200    \n",
            "_________________________________________________________________\n",
            "dense_34 (Dense)             (None, 208)               83408     \n",
            "_________________________________________________________________\n",
            "dense_35 (Dense)             (None, 368)               76912     \n",
            "_________________________________________________________________\n",
            "dense_36 (Dense)             (None, 512)               188928    \n",
            "_________________________________________________________________\n",
            "dense_37 (Dense)             (None, 10)                5130      \n",
            "=================================================================\n",
            "Total params: 726,970\n",
            "Trainable params: 726,970\n",
            "Non-trainable params: 0\n",
            "_________________________________________________________________\n",
            "None\n",
            "Model: \"sequential_7\"\n",
            "_________________________________________________________________\n",
            "Layer (type)                 Output Shape              Param #   \n",
            "=================================================================\n",
            "dense_38 (Dense)             (None, 400)               93200     \n",
            "_________________________________________________________________\n",
            "dense_39 (Dense)             (None, 512)               205312    \n",
            "_________________________________________________________________\n",
            "dense_40 (Dense)             (None, 400)               205200    \n",
            "_________________________________________________________________\n",
            "dense_41 (Dense)             (None, 192)               76992     \n",
            "_________________________________________________________________\n",
            "dense_42 (Dense)             (None, 304)               58672     \n",
            "_________________________________________________________________\n",
            "dense_43 (Dense)             (None, 320)               97600     \n",
            "_________________________________________________________________\n",
            "dense_44 (Dense)             (None, 448)               143808    \n",
            "_________________________________________________________________\n",
            "dense_45 (Dense)             (None, 10)                4490      \n",
            "=================================================================\n",
            "Total params: 885,274\n",
            "Trainable params: 885,274\n",
            "Non-trainable params: 0\n",
            "_________________________________________________________________\n",
            "None\n",
            "Model: \"sequential_8\"\n",
            "_________________________________________________________________\n",
            "Layer (type)                 Output Shape              Param #   \n",
            "=================================================================\n",
            "dense_46 (Dense)             (None, 368)               85744     \n",
            "_________________________________________________________________\n",
            "dense_47 (Dense)             (None, 304)               112176    \n",
            "_________________________________________________________________\n",
            "dense_48 (Dense)             (None, 464)               141520    \n",
            "_________________________________________________________________\n",
            "dense_49 (Dense)             (None, 448)               208320    \n",
            "_________________________________________________________________\n",
            "dense_50 (Dense)             (None, 320)               143680    \n",
            "_________________________________________________________________\n",
            "dense_51 (Dense)             (None, 144)               46224     \n",
            "_________________________________________________________________\n",
            "dense_52 (Dense)             (None, 160)               23200     \n",
            "_________________________________________________________________\n",
            "dense_53 (Dense)             (None, 64)                10304     \n",
            "_________________________________________________________________\n",
            "dense_54 (Dense)             (None, 10)                650       \n",
            "=================================================================\n",
            "Total params: 771,818\n",
            "Trainable params: 771,818\n",
            "Non-trainable params: 0\n",
            "_________________________________________________________________\n",
            "None\n",
            "Model: \"sequential_9\"\n",
            "_________________________________________________________________\n",
            "Layer (type)                 Output Shape              Param #   \n",
            "=================================================================\n",
            "dense_55 (Dense)             (None, 336)               78288     \n",
            "_________________________________________________________________\n",
            "dense_56 (Dense)             (None, 480)               161760    \n",
            "_________________________________________________________________\n",
            "dense_57 (Dense)             (None, 336)               161616    \n",
            "_________________________________________________________________\n",
            "dense_58 (Dense)             (None, 432)               145584    \n",
            "_________________________________________________________________\n",
            "dense_59 (Dense)             (None, 96)                41568     \n",
            "_________________________________________________________________\n",
            "dense_60 (Dense)             (None, 240)               23280     \n",
            "_________________________________________________________________\n",
            "dense_61 (Dense)             (None, 272)               65552     \n",
            "_________________________________________________________________\n",
            "dense_62 (Dense)             (None, 416)               113568    \n",
            "_________________________________________________________________\n",
            "dense_63 (Dense)             (None, 48)                20016     \n",
            "_________________________________________________________________\n",
            "dense_64 (Dense)             (None, 10)                490       \n",
            "=================================================================\n",
            "Total params: 811,722\n",
            "Trainable params: 811,722\n",
            "Non-trainable params: 0\n",
            "_________________________________________________________________\n",
            "None\n",
            "Model: \"sequential_10\"\n",
            "_________________________________________________________________\n",
            "Layer (type)                 Output Shape              Param #   \n",
            "=================================================================\n",
            "dense_65 (Dense)             (None, 384)               89472     \n",
            "_________________________________________________________________\n",
            "dense_66 (Dense)             (None, 304)               117040    \n",
            "_________________________________________________________________\n",
            "dense_67 (Dense)             (None, 432)               131760    \n",
            "_________________________________________________________________\n",
            "dense_68 (Dense)             (None, 160)               69280     \n",
            "_________________________________________________________________\n",
            "dense_69 (Dense)             (None, 464)               74704     \n",
            "_________________________________________________________________\n",
            "dense_70 (Dense)             (None, 192)               89280     \n",
            "_________________________________________________________________\n",
            "dense_71 (Dense)             (None, 96)                18528     \n",
            "_________________________________________________________________\n",
            "dense_72 (Dense)             (None, 272)               26384     \n",
            "_________________________________________________________________\n",
            "dense_73 (Dense)             (None, 352)               96096     \n",
            "_________________________________________________________________\n",
            "dense_74 (Dense)             (None, 208)               73424     \n",
            "_________________________________________________________________\n",
            "dense_75 (Dense)             (None, 10)                2090      \n",
            "=================================================================\n",
            "Total params: 788,058\n",
            "Trainable params: 788,058\n",
            "Non-trainable params: 0\n",
            "_________________________________________________________________\n",
            "None\n"
          ],
          "name": "stdout"
        }
      ]
    },
    {
      "cell_type": "markdown",
      "metadata": {
        "id": "P6hywROVcuWZ"
      },
      "source": [
        "## Training the Models"
      ]
    },
    {
      "cell_type": "code",
      "metadata": {
        "id": "yiPcXmDQoftg"
      },
      "source": [
        "metrics = pd.DataFrame(columns=['n_layers', 'train_loss', 'train_acc', \n",
        "                                'val_loss', 'val_acc'])\n",
        "\n",
        "for i, model in enumerate(models):\n",
        "\n",
        "    print(f\"Training Model {i+1}:\")\n",
        "\n",
        "    model.compile(\n",
        "        optimizer=keras.optimizers.Adam(learning_rate=0.001), \n",
        "        loss='sparse_categorical_crossentropy', \n",
        "        metrics=['accuracy']\n",
        "    )\n",
        "\n",
        "    # training the model\n",
        "    training_history = model.fit(\n",
        "        Z_train, y_train, validation_data=(Z_val, y_val),\n",
        "        epochs=500, batch_size=10000,\n",
        "        shuffle=True, verbose=1, callbacks=[es]\n",
        "    )\n",
        "    # Storing the training history in the model\n",
        "    model.training_history = training_history\n",
        "    clear_output()\n",
        "\n",
        "    # Get and store acurracies and losses\n",
        "    train_loss, train_acc = model.evaluate(Z_train, y_train)\n",
        "    valid_loss, valid_acc = model.evaluate(Z_val, y_val)\n",
        "    clear_output()\n",
        "\n",
        "    metrics = metrics.append(dict(\n",
        "        n_layers=len(model.layers) - 1,\n",
        "        train_loss=train_loss,\n",
        "        train_acc=train_acc,\n",
        "        val_loss=valid_loss,\n",
        "        val_acc=valid_acc\n",
        "    ), ignore_index=True)"
      ],
      "execution_count": 32,
      "outputs": []
    },
    {
      "cell_type": "markdown",
      "metadata": {
        "id": "qK6EG60Cc6Bg"
      },
      "source": [
        "The training and validation accuracies and losses are stored in `metrics` for each number of layers. We compare the metrices and pick the model with best validation accuracy."
      ]
    },
    {
      "cell_type": "code",
      "metadata": {
        "id": "c_unIi6Lo6TN",
        "colab": {
          "base_uri": "https://localhost:8080/",
          "height": 390
        },
        "outputId": "5c4724ff-80c1-499c-ab5a-28bbfc4b5615"
      },
      "source": [
        "results = metrics.set_index('n_layers')\n",
        "num_layers = results['val_acc'].idxmax().astype('int')\n",
        "results"
      ],
      "execution_count": 33,
      "outputs": [
        {
          "output_type": "execute_result",
          "data": {
            "text/html": [
              "<div>\n",
              "<style scoped>\n",
              "    .dataframe tbody tr th:only-of-type {\n",
              "        vertical-align: middle;\n",
              "    }\n",
              "\n",
              "    .dataframe tbody tr th {\n",
              "        vertical-align: top;\n",
              "    }\n",
              "\n",
              "    .dataframe thead th {\n",
              "        text-align: right;\n",
              "    }\n",
              "</style>\n",
              "<table border=\"1\" class=\"dataframe\">\n",
              "  <thead>\n",
              "    <tr style=\"text-align: right;\">\n",
              "      <th></th>\n",
              "      <th>train_loss</th>\n",
              "      <th>train_acc</th>\n",
              "      <th>val_loss</th>\n",
              "      <th>val_acc</th>\n",
              "    </tr>\n",
              "    <tr>\n",
              "      <th>n_layers</th>\n",
              "      <th></th>\n",
              "      <th></th>\n",
              "      <th></th>\n",
              "      <th></th>\n",
              "    </tr>\n",
              "  </thead>\n",
              "  <tbody>\n",
              "    <tr>\n",
              "      <th>1.0</th>\n",
              "      <td>0.009936</td>\n",
              "      <td>0.999556</td>\n",
              "      <td>0.125900</td>\n",
              "      <td>0.9720</td>\n",
              "    </tr>\n",
              "    <tr>\n",
              "      <th>2.0</th>\n",
              "      <td>0.009506</td>\n",
              "      <td>0.999533</td>\n",
              "      <td>0.142202</td>\n",
              "      <td>0.9710</td>\n",
              "    </tr>\n",
              "    <tr>\n",
              "      <th>3.0</th>\n",
              "      <td>0.033139</td>\n",
              "      <td>0.993311</td>\n",
              "      <td>0.164909</td>\n",
              "      <td>0.9640</td>\n",
              "    </tr>\n",
              "    <tr>\n",
              "      <th>4.0</th>\n",
              "      <td>0.027207</td>\n",
              "      <td>0.994844</td>\n",
              "      <td>0.170211</td>\n",
              "      <td>0.9666</td>\n",
              "    </tr>\n",
              "    <tr>\n",
              "      <th>5.0</th>\n",
              "      <td>0.063282</td>\n",
              "      <td>0.982933</td>\n",
              "      <td>0.191757</td>\n",
              "      <td>0.9574</td>\n",
              "    </tr>\n",
              "    <tr>\n",
              "      <th>6.0</th>\n",
              "      <td>0.047277</td>\n",
              "      <td>0.988333</td>\n",
              "      <td>0.185749</td>\n",
              "      <td>0.9566</td>\n",
              "    </tr>\n",
              "    <tr>\n",
              "      <th>7.0</th>\n",
              "      <td>0.060398</td>\n",
              "      <td>0.983311</td>\n",
              "      <td>0.192698</td>\n",
              "      <td>0.9580</td>\n",
              "    </tr>\n",
              "    <tr>\n",
              "      <th>8.0</th>\n",
              "      <td>0.052480</td>\n",
              "      <td>0.985867</td>\n",
              "      <td>0.201214</td>\n",
              "      <td>0.9566</td>\n",
              "    </tr>\n",
              "    <tr>\n",
              "      <th>9.0</th>\n",
              "      <td>0.055349</td>\n",
              "      <td>0.984622</td>\n",
              "      <td>0.157438</td>\n",
              "      <td>0.9630</td>\n",
              "    </tr>\n",
              "    <tr>\n",
              "      <th>10.0</th>\n",
              "      <td>0.076295</td>\n",
              "      <td>0.978200</td>\n",
              "      <td>0.199452</td>\n",
              "      <td>0.9504</td>\n",
              "    </tr>\n",
              "  </tbody>\n",
              "</table>\n",
              "</div>"
            ],
            "text/plain": [
              "          train_loss  train_acc  val_loss  val_acc\n",
              "n_layers                                          \n",
              "1.0         0.009936   0.999556  0.125900   0.9720\n",
              "2.0         0.009506   0.999533  0.142202   0.9710\n",
              "3.0         0.033139   0.993311  0.164909   0.9640\n",
              "4.0         0.027207   0.994844  0.170211   0.9666\n",
              "5.0         0.063282   0.982933  0.191757   0.9574\n",
              "6.0         0.047277   0.988333  0.185749   0.9566\n",
              "7.0         0.060398   0.983311  0.192698   0.9580\n",
              "8.0         0.052480   0.985867  0.201214   0.9566\n",
              "9.0         0.055349   0.984622  0.157438   0.9630\n",
              "10.0        0.076295   0.978200  0.199452   0.9504"
            ]
          },
          "metadata": {
            "tags": []
          },
          "execution_count": 33
        }
      ]
    },
    {
      "cell_type": "code",
      "metadata": {
        "id": "Yw0PQLCWo-cu",
        "colab": {
          "base_uri": "https://localhost:8080/",
          "height": 370
        },
        "outputId": "8f0c6da2-ef9d-448b-d8a4-b71d9be28227"
      },
      "source": [
        "fig, (ax1, ax2) = plt.subplots(1, 2)\n",
        "fig.suptitle(\"Model Performance vs Number of Layers\")\n",
        "fig.set_size_inches(15, 5)\n",
        "\n",
        "ax1.plot(results['train_loss'], label='Training Loss')\n",
        "ax1.plot(results['val_loss'], label='Validation Loss')\n",
        "ax1.set_xlabel('Number of Layers')\n",
        "ax1.set_xticks(results.index)\n",
        "ax1.set_title('Loss')\n",
        "ax1.legend()\n",
        "\n",
        "ax2.plot(results['train_acc'], label='Training Accuracy')\n",
        "ax2.plot(results['val_acc'], label='Validation Accuracy')\n",
        "ax2.set_xlabel('Number of Layers')\n",
        "ax2.set_xticks(results.index)\n",
        "ax2.set_title('Accuracy')\n",
        "ax2.legend()\n",
        "\n",
        "fig.show()"
      ],
      "execution_count": 34,
      "outputs": [
        {
          "output_type": "display_data",
          "data": {
            "image/png": "[encoded data removed]",
            "text/plain": [
              "<Figure size 1080x360 with 2 Axes>"
            ]
          },
          "metadata": {
            "tags": [],
            "needs_background": "light"
          }
        }
      ]
    },
    {
      "cell_type": "markdown",
      "metadata": {
        "id": "riT2-Ea-dEyS"
      },
      "source": [
        "We have plotted the metrics for each number of layers. From the figure it is apparent that validation accuracy is maximum with one hidden layer. The number of units for which validation accuracy is maximum is 368."
      ]
    },
    {
      "cell_type": "markdown",
      "metadata": {
        "id": "DRYqeG-HdR5Z"
      },
      "source": [
        "# Picking Best Model (with Dimension Reduction)\n"
      ]
    },
    {
      "cell_type": "code",
      "metadata": {
        "id": "spGSlrBqpDcp",
        "colab": {
          "base_uri": "https://localhost:8080/"
        },
        "outputId": "5de5a251-ebe7-483d-d461-5d1a60651c6c"
      },
      "source": [
        "model = models[num_layers - 1]\n",
        "model.summary()"
      ],
      "execution_count": 35,
      "outputs": [
        {
          "output_type": "stream",
          "text": [
            "Model: \"sequential_1\"\n",
            "_________________________________________________________________\n",
            "Layer (type)                 Output Shape              Param #   \n",
            "=================================================================\n",
            "dense_11 (Dense)             (None, 368)               85744     \n",
            "_________________________________________________________________\n",
            "dense_12 (Dense)             (None, 10)                3690      \n",
            "=================================================================\n",
            "Total params: 89,434\n",
            "Trainable params: 89,434\n",
            "Non-trainable params: 0\n",
            "_________________________________________________________________\n"
          ],
          "name": "stdout"
        }
      ]
    },
    {
      "cell_type": "markdown",
      "metadata": {
        "id": "NzyuKZrLduhM"
      },
      "source": [
        "# Training History and Model Performace (with Dimension Reduction)"
      ]
    },
    {
      "cell_type": "code",
      "metadata": {
        "id": "pYeA6rdgpgxI",
        "colab": {
          "base_uri": "https://localhost:8080/",
          "height": 356
        },
        "outputId": "f55ad48d-3edb-44ac-ed8f-2034f1f353ed"
      },
      "source": [
        "plot_training_history(model.training_history)"
      ],
      "execution_count": 36,
      "outputs": [
        {
          "output_type": "display_data",
          "data": {
            "image/png": "[encoded data removed]",
            "text/plain": [
              "<Figure size 1080x360 with 2 Axes>"
            ]
          },
          "metadata": {
            "tags": [],
            "needs_background": "light"
          }
        }
      ]
    },
    {
      "cell_type": "code",
      "metadata": {
        "id": "xLMYFUldpksL",
        "colab": {
          "base_uri": "https://localhost:8080/"
        },
        "outputId": "55914fb4-1056-4139-d0b6-c1aef555e3be"
      },
      "source": [
        "nn_train_loss, nn_train_acc = model.evaluate(Z_train, y_train, verbose=0)\n",
        "nn_test_loss,  nn_test_acc  = model.evaluate(Z_test,  y_test,  verbose=0)\n",
        "\n",
        "print(f\"Training Accuracy: {nn_train_acc:2.2%}\")\n",
        "print(f\"Test Accuracy:     {nn_test_acc :2.2%}\")\n",
        "print(f\"Training Loss: {nn_train_loss:.6}\")\n",
        "print(f\"Test Loss:     {nn_test_loss :.6}\")"
      ],
      "execution_count": 37,
      "outputs": [
        {
          "output_type": "stream",
          "text": [
            "Training Accuracy: 99.96%\n",
            "Test Accuracy:     97.19%\n",
            "Training Loss: 0.00993556\n",
            "Test Loss:     0.703634\n"
          ],
          "name": "stdout"
        }
      ]
    },
    {
      "cell_type": "code",
      "metadata": {
        "id": "HWX1H-hZps1y",
        "colab": {
          "base_uri": "https://localhost:8080/",
          "height": 344
        },
        "outputId": "79e39e82-6e51-4920-dca7-8cb33f2b55fd"
      },
      "source": [
        "y_pred = np.argmax(model.predict(Z_test), axis=-1)\n",
        "show_example(X_test, y_test, y_pred)"
      ],
      "execution_count": 38,
      "outputs": [
        {
          "output_type": "display_data",
          "data": {
            "image/png": "[encoded data removed]",
            "text/plain": [
              "<Figure size 864x360 with 12 Axes>"
            ]
          },
          "metadata": {
            "tags": [],
            "needs_background": "light"
          }
        }
      ]
    },
    {
      "cell_type": "markdown",
      "metadata": {
        "id": "kH2d2F4wd2Lo"
      },
      "source": [
        "# Saving Trained Model (with Dimension Reduction)"
      ]
    },
    {
      "cell_type": "code",
      "metadata": {
        "id": "krVlCjQlpy-_",
        "colab": {
          "base_uri": "https://localhost:8080/"
        },
        "outputId": "c2b9e502-7652-42b4-a11e-9f82d3710cc1"
      },
      "source": [
        "model.save('./models/nn_unrotated_model_w_pca')"
      ],
      "execution_count": 39,
      "outputs": [
        {
          "output_type": "stream",
          "text": [
            "INFO:tensorflow:Assets written to: /gdrive/My Drive/Colab Notebooks/MNIST-classification/models/nn_unrotated_model_w_pca/assets\n"
          ],
          "name": "stdout"
        }
      ]
    },
    {
      "cell_type": "markdown",
      "metadata": {
        "id": "qEQqhdtgeBsz"
      },
      "source": [
        "# Conclusion\n",
        "\n",
        "|           |Training Accuracy|Test Accuracy|\n",
        "|:---------:|:---------------:|:-----------:|\n",
        "|Without PCA|      99.98%     |    97.35%   |\n",
        "|With PCA   |      99.96%     |    97.19%   |\n",
        "\n",
        "Clearly the test accuracy decreased after applying PCA with 90% variability retained but the amount is not much significant."
      ]
    }
  ]
}